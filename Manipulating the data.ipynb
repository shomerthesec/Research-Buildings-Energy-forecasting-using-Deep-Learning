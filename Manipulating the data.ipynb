{
 "cells": [
  {
   "cell_type": "code",
   "execution_count": null,
   "id": "15d11846",
   "metadata": {},
   "outputs": [],
   "source": [
    "import pandas as pd, numpy as np, matplotlib.pyplot as plt, seaborn as sns"
   ]
  },
  {
   "cell_type": "code",
   "execution_count": null,
   "id": "e1a9de2c",
   "metadata": {},
   "outputs": [],
   "source": [
    "train_df = pd.read_csv('content/preprocessed_train.csv')"
   ]
  },
  {
   "cell_type": "code",
   "execution_count": 1,
   "id": "e9679b87",
   "metadata": {},
   "outputs": [],
   "source": [
    "# Dealing with missing values"
   ]
  },
  {
   "cell_type": "code",
   "execution_count": 1,
   "id": "8c7e77a9",
   "metadata": {},
   "outputs": [],
   "source": [
    "# def extract_data(building_id):\n",
    "#     return train_df[train_df['building_id'] == building_id]\n",
    "\n",
    "# extracted_df = {}\n",
    "# for i in range(1449):\n",
    "#     df = extract_data(i)\n",
    "#     sea_lev_pressure_mean = df['sea_level_pressure'].mean()\n",
    "#     dew_temperature_mean = df['dew_temperature'].mean()\n",
    "#     air_temperature_mean = df['air_temperature'].mean()\n",
    "#     precip_depth_1_hr_mean = df['precip_depth_1_hr'].mean()\n",
    "#     wind_speed_mean = df['wind_speed'].median()\n",
    "\n",
    "#     df['meter'] = pd.to_numeric(df['meter'], errors='coerce').fillna(0).astype(np.float32)\n",
    "#     df['meter_reading'] = pd.to_numeric(df['meter_reading'], errors='coerce').fillna(0).astype(np.float32)\n",
    "#     df['site_id'] = pd.to_numeric(df['site_id'], errors='coerce').fillna(0).astype(np.float32)\n",
    "#     df['primary_use'] = pd.to_numeric(df['primary_use'], errors='coerce').fillna(0).astype(np.float32)\n",
    "#     df['square_feet'] = pd.to_numeric(df['square_feet'], errors='coerce').fillna(0).astype(np.float32)\n",
    "    \n",
    "#     df['sea_level_pressure'] = df['sea_level_pressure'].fillna(sea_lev_pressure_mean)\n",
    "#     df['dew_temperature'] = df['dew_temperature'].fillna(dew_temperature_mean)\n",
    "#     df['air_temperature'] = df['air_temperature'].fillna(air_temperature_mean)\n",
    "#     df['precip_depth_1_hr'] = df['precip_depth_1_hr'].fillna(precip_depth_1_hr_mean)\n",
    "#     df['wind_direction'] = df['wind_direction'].apply(lambda x: random.random() * 360.0 if (math.isnan(x)) else x)\n",
    "#     df['wind_speed'] = df['wind_speed'].fillna(wind_speed_mean).astype(np.float32)\n",
    "#     extracted_df[i] = df"
   ]
  }
 ],
 "metadata": {
  "kernelspec": {
   "display_name": "Python 3 (ipykernel)",
   "language": "python",
   "name": "python3"
  },
  "language_info": {
   "codemirror_mode": {
    "name": "ipython",
    "version": 3
   },
   "file_extension": ".py",
   "mimetype": "text/x-python",
   "name": "python",
   "nbconvert_exporter": "python",
   "pygments_lexer": "ipython3",
   "version": "3.8.8"
  }
 },
 "nbformat": 4,
 "nbformat_minor": 5
}
