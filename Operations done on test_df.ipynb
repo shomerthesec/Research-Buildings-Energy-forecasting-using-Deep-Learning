{
 "cells": [
  {
   "cell_type": "code",
   "execution_count": null,
   "id": "7ff95820",
   "metadata": {
    "scrolled": true
   },
   "outputs": [],
   "source": [
    "test_df = pd.read_csv('content/test.csv')\n",
    "weather_test_df = pd.read_csv('content/weather_test.csv')\n",
    "building_meta_df = pd.read_csv('content/building_metadata.csv')\n",
    "\n",
    "test_df = test_df.merge(building_meta_df, on='building_id', how='left')\n",
    "test_df = test_df.merge(weather_test_df, on=['site_id', 'timestamp'], how='left')\n",
    "\n",
    "del test_df['floor_count']\n",
    "del test_df['year_built']\n",
    "\n",
    "d_types = {'building_id': np.int16,\n",
    "          'meter': np.int8,\n",
    "          'site_id': np.int8,\n",
    "          'primary_use': 'category',\n",
    "          'square_feet': np.int32,\n",
    "          'year_built': np.float16,\n",
    "          'floor_count': np.float16,\n",
    "          'air_temperature': np.float32,\n",
    "          'cloud_coverage': np.float16,\n",
    "          'dew_temperature': np.float32,\n",
    "          'precip_depth_1_hr': np.float16,\n",
    "          'sea_level_pressure': np.float32,\n",
    "          'wind_direction': np.float16,\n",
    "          'wind_speed': np.float32}\n",
    "\n",
    "for feature in d_types:\n",
    "    test_df[feature] = test_df[feature].astype(d_types[feature])\n",
    "    \n",
    "test_df[\"timestamp\"] = pd.to_datetime(test_df[\"timestamp\"])\n",
    "\n",
    "test_df['day'] = test_df['timestamp'].dt.day\n",
    "\n",
    "test_df['month'] = test_df['timestamp'].dt.month\n",
    "\n",
    "test_df['hour'] = test_df['timestamp'].dt.hour\n",
    "\n",
    "test_df['primary_use'] = pd.Categorical( test_df['primary_use'])\n",
    "test_df['primary_use'] = test_df['primary_use'].cat.codes\n",
    "\n"
   ]
  }
 ],
 "metadata": {
  "kernelspec": {
   "display_name": "Python 3 (ipykernel)",
   "language": "python",
   "name": "python3"
  },
  "language_info": {
   "codemirror_mode": {
    "name": "ipython",
    "version": 3
   },
   "file_extension": ".py",
   "mimetype": "text/x-python",
   "name": "python",
   "nbconvert_exporter": "python",
   "pygments_lexer": "ipython3",
   "version": "3.8.8"
  }
 },
 "nbformat": 4,
 "nbformat_minor": 5
}
