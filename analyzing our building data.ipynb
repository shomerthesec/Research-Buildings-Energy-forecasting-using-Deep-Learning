{
 "cells": [
  {
   "cell_type": "code",
   "execution_count": null,
   "outputs": [],
   "source": [
    "import pandas as pd, numpy as np, matplotlib.pyplot as plt, seaborn as sns"
   ],
   "metadata": {
    "collapsed": false,
    "pycharm": {
     "name": "#%%\n"
    }
   }
  },
  {
   "cell_type": "code",
   "execution_count": null,
   "outputs": [],
   "source": [
    "train_df = pd.read_csv('content/train.csv')\n",
    "weather_train_df = pd.read_csv('content/weather_train.csv')\n",
    "building_meta_df = pd.read_csv('content/building_metadata.csv')"
   ],
   "metadata": {
    "collapsed": false,
    "pycharm": {
     "name": "#%%\n"
    }
   }
  },
  {
   "cell_type": "markdown",
   "source": [
    "# Loading the data"
   ],
   "metadata": {
    "collapsed": false
   }
  },
  {
   "cell_type": "markdown",
   "source": [
    "## Merging the data"
   ],
   "metadata": {
    "collapsed": false
   }
  },
  {
   "cell_type": "code",
   "execution_count": null,
   "outputs": [],
   "source": [
    "train_df = train_df.merge(building_meta_df, on=\"building_id\")\n",
    "train_df = train_df.merge(weather_train_df, on=[\"site_id\", \"timestamp\"])"
   ],
   "metadata": {
    "collapsed": false,
    "pycharm": {
     "name": "#%%\n"
    }
   }
  },
  {
   "cell_type": "code",
   "execution_count": null,
   "outputs": [],
   "source": [
    "train_df.drop(columns=['Unnamed: 0','Unnamed: 0.1'], inplace=True)"
   ],
   "metadata": {
    "collapsed": false,
    "pycharm": {
     "name": "#%%\n"
    }
   }
  },
  {
   "cell_type": "code",
   "execution_count": null,
   "outputs": [],
   "source": [
    "train_df"
   ],
   "metadata": {
    "collapsed": false,
    "pycharm": {
     "name": "#%%\n"
    }
   }
  },
  {
   "cell_type": "markdown",
   "source": [
    "## reducing size for memory optim"
   ],
   "metadata": {
    "collapsed": false
   }
  },
  {
   "cell_type": "code",
   "execution_count": null,
   "outputs": [],
   "source": [
    "d_types = {'building_id': np.int16,\n",
    "          'meter': np.int8,\n",
    "          'site_id': np.int8,\n",
    "           'floor':np.int8,\n",
    "           'area': np.int8 ,\n",
    "          'primary_use': 'category',\n",
    "          'square_feet': np.int32,\n",
    "          'year_built': np.float16,\n",
    "          'floor_count': np.float16,\n",
    "          'air_temperature': np.float32,\n",
    "          'cloud_coverage': np.float16,\n",
    "          'dew_temperature': np.float32,\n",
    "          'precip_depth_1_hr': np.float16,\n",
    "          'sea_level_pressure': np.float32,\n",
    "          'wind_direction': np.float16,\n",
    "          'wind_speed': np.float32}\n",
    "\n",
    "for feature in d_types:\n",
    "    train_df[feature] = train_df[feature].astype(d_types[feature])\n"
   ],
   "metadata": {
    "collapsed": false,
    "pycharm": {
     "name": "#%%\n"
    }
   }
  },
  {
   "cell_type": "markdown",
   "source": [
    "## Changing timestamp type  into datetime"
   ],
   "metadata": {
    "collapsed": false
   }
  },
  {
   "cell_type": "code",
   "execution_count": null,
   "outputs": [],
   "source": [
    "train_df[\"timestamp\"] = pd.to_datetime(train_df[\"timestamp\"])"
   ],
   "metadata": {
    "collapsed": false,
    "pycharm": {
     "name": "#%%\n"
    }
   }
  },
  {
   "cell_type": "markdown",
   "source": [
    "## Adding Month and day as new features"
   ],
   "metadata": {
    "collapsed": false
   }
  },
  {
   "cell_type": "code",
   "execution_count": null,
   "outputs": [],
   "source": [
    "train_df['day'] = train_df['timestamp'].dt.day\n",
    "train_df['month'] = train_df['timestamp'].dt.month\n",
    "train_df['hour'] = train_df['timestamp'].dt.hour"
   ],
   "metadata": {
    "collapsed": false,
    "pycharm": {
     "name": "#%%\n"
    }
   }
  },
  {
   "cell_type": "code",
   "execution_count": null,
   "outputs": [],
   "source": [
    "train_df.head()"
   ],
   "metadata": {
    "collapsed": false,
    "pycharm": {
     "name": "#%%\n"
    }
   }
  },
  {
   "cell_type": "markdown",
   "source": [
    "## creating categorical col out of th primary_use col"
   ],
   "metadata": {
    "collapsed": false
   }
  },
  {
   "cell_type": "code",
   "execution_count": null,
   "outputs": [],
   "source": [
    " # categories are assumed to be the unique values of `values` (sorted, if possible, otherwise in the order in which they appear).\n",
    "train_df['primary_use'] = pd.Categorical(train_df['primary_use'])\n",
    "train_df['primary_use'] = train_df['primary_use'].cat.codes"
   ],
   "metadata": {
    "collapsed": false,
    "pycharm": {
     "name": "#%%\n"
    }
   }
  },
  {
   "cell_type": "code",
   "execution_count": null,
   "outputs": [],
   "source": [
    "train_df.head()"
   ],
   "metadata": {
    "collapsed": false,
    "pycharm": {
     "name": "#%%\n"
    }
   }
  },
  {
   "cell_type": "markdown",
   "source": [
    "percent of missing values"
   ],
   "metadata": {
    "collapsed": false
   }
  },
  {
   "cell_type": "code",
   "execution_count": null,
   "outputs": [],
   "source": [
    "100 * train_df.isnull().sum() / len(train_df)"
   ],
   "metadata": {
    "collapsed": false,
    "pycharm": {
     "name": "#%%\n"
    }
   }
  },
  {
   "cell_type": "markdown",
   "source": [
    "## Dropping high missing values col"
   ],
   "metadata": {
    "collapsed": false
   }
  },
  {
   "cell_type": "code",
   "execution_count": null,
   "outputs": [],
   "source": [
    "del train_df['floor_count']\n",
    "del train_df['year_built']"
   ],
   "metadata": {
    "collapsed": false,
    "pycharm": {
     "name": "#%%\n"
    }
   }
  },
  {
   "cell_type": "code",
   "execution_count": null,
   "outputs": [],
   "source": [
    "train_df.columns"
   ],
   "metadata": {
    "collapsed": false,
    "pycharm": {
     "name": "#%%\n"
    }
   }
  },
  {
   "cell_type": "markdown",
   "source": [
    "# Exploring Data for outliers"
   ],
   "metadata": {
    "collapsed": false
   }
  },
  {
   "cell_type": "markdown",
   "source": [
    "## keeping only meter 0 and 1"
   ],
   "metadata": {
    "collapsed": false
   }
  },
  {
   "cell_type": "markdown",
   "source": [
    "0: electricity\n",
    "1: chilled water"
   ],
   "metadata": {
    "collapsed": false
   }
  },
  {
   "cell_type": "code",
   "execution_count": null,
   "outputs": [],
   "source": [
    "train_df.drop(index=train_df[ train_df['meter'] > 1].index, inplace=True )"
   ],
   "metadata": {
    "collapsed": false,
    "pycharm": {
     "name": "#%%\n"
    }
   }
  },
  {
   "cell_type": "code",
   "execution_count": null,
   "outputs": [],
   "source": [
    "train_df.meter.unique()"
   ],
   "metadata": {
    "collapsed": false,
    "pycharm": {
     "name": "#%%\n"
    }
   }
  },
  {
   "cell_type": "code",
   "execution_count": null,
   "outputs": [],
   "source": [
    "train_df.site_id.unique()"
   ],
   "metadata": {
    "collapsed": false,
    "pycharm": {
     "name": "#%%\n"
    }
   }
  },
  {
   "cell_type": "markdown",
   "source": [
    "## Visualizing mean of energy per site"
   ],
   "metadata": {
    "collapsed": false
   }
  },
  {
   "cell_type": "code",
   "execution_count": null,
   "outputs": [],
   "source": [
    "fig, axes = plt.subplots(16,figsize=(15, 25), dpi=100)\n",
    "for i in range(train_df['site_id'].nunique()):\n",
    "    try:\n",
    "        train_df[train_df['site_id'] == i][['timestamp', 'meter_reading']].set_index('timestamp').resample('H').mean().plot(ax=axes[i], alpha=0.8, label='By hour')\n",
    "        axes[i].set_title('site_id {}'.format(i), fontsize=13);\n",
    "        plt.subplots_adjust(hspace=0.6)\n",
    "    except: pass"
   ],
   "metadata": {
    "collapsed": false,
    "pycharm": {
     "name": "#%%\n"
    }
   }
  },
  {
   "cell_type": "markdown",
   "source": [
    "## Checking site 9"
   ],
   "metadata": {
    "collapsed": false
   }
  },
  {
   "cell_type": "code",
   "execution_count": null,
   "outputs": [],
   "source": [
    "fig, axes = plt.subplots(2,1,figsize=(15, 10), dpi=100)\n",
    "for i in list( train_df[(train_df['site_id'] == 9)]['meter'].unique() ) :\n",
    "    train_df[(train_df['site_id'] == 9) & (train_df['meter'] == i)][['timestamp', 'meter_reading']].set_index('timestamp').resample('H').mean()['meter_reading'].plot(ax=axes[i], alpha=0.8, label='By hour', color='tab:blue').set_ylabel('Mean meter reading', fontsize=13);\n",
    "    axes[i].legend();\n",
    "    axes[i].set_title('Meter: ' + str(i), fontsize=13);\n",
    "    plt.subplots_adjust(hspace=0.6)"
   ],
   "metadata": {
    "collapsed": false,
    "pycharm": {
     "name": "#%%\n"
    }
   }
  },
  {
   "cell_type": "markdown",
   "source": [
    "### we can see clear outliers, lets check if it's a building issue or a certain type or buildings"
   ],
   "metadata": {
    "collapsed": false
   }
  },
  {
   "cell_type": "code",
   "execution_count": null,
   "outputs": [],
   "source": [
    "# train_df[(train_df['site_id'] == 9)]['primary_use'].unique()"
   ],
   "metadata": {
    "collapsed": false,
    "pycharm": {
     "name": "#%%\n"
    }
   }
  },
  {
   "cell_type": "code",
   "execution_count": null,
   "outputs": [],
   "source": [
    "fig, axes = plt.subplots(6,1,figsize=(14, 18), dpi=100)\n",
    "counter_var=0\n",
    "for i in list( train_df[(train_df['site_id'] == 9)]['primary_use'].unique() ) :\n",
    "    train_df[ (train_df['site_id'] == 9) & (train_df['primary_use'] == i) ] [['timestamp', 'meter_reading']].set_index('timestamp').resample('H').mean()['meter_reading'].plot(ax=axes[counter_var], alpha=0.8, label='By hour', color='tab:blue').set_ylabel('Mean meter reading', fontsize=13)\n",
    "    axes[counter_var].set_title('primary_use: ' + str(i), fontsize=13);\n",
    "    counter_var+=1\n",
    "    plt.subplots_adjust(hspace=0.6)"
   ],
   "metadata": {
    "collapsed": false,
    "pycharm": {
     "name": "#%%\n"
    }
   }
  },
  {
   "cell_type": "markdown",
   "source": [
    "### Clipping values"
   ],
   "metadata": {
    "collapsed": false
   }
  },
  {
   "cell_type": "markdown",
   "source": [
    "let's try clipping at 200"
   ],
   "metadata": {
    "collapsed": false
   }
  },
  {
   "cell_type": "code",
   "execution_count": null,
   "outputs": [],
   "source": [
    "clipped_values= train_df[(train_df['site_id'] == 9)].meter_reading.clip( upper=200, axis=0)\n",
    "clipped_idx= train_df[(train_df['site_id'] == 9)].index\n",
    "train_df.loc[clipped_idx,'meter_reading']= clipped_values"
   ],
   "metadata": {
    "collapsed": false,
    "pycharm": {
     "name": "#%%\n"
    }
   }
  },
  {
   "cell_type": "markdown",
   "source": [
    "let's visualize again"
   ],
   "metadata": {
    "collapsed": false
   }
  },
  {
   "cell_type": "code",
   "execution_count": null,
   "outputs": [],
   "source": [
    "fig, axes = plt.subplots(6,1,figsize=(14, 18), dpi=100)\n",
    "counter_var=0\n",
    "for i in list( train_df[(train_df['site_id'] == 9)]['primary_use'].unique() ) :\n",
    "    train_df[ (train_df['site_id'] == 9) & (train_df['primary_use'] == i) ] [['timestamp', 'meter_reading']].set_index('timestamp').resample('H').mean()['meter_reading'].plot(ax=axes[counter_var], alpha=0.8, label='By hour', color='tab:blue').set_ylabel('Mean meter reading', fontsize=13)\n",
    "    #train_df[ (train_df['site_id'] == 9) & (train_df['primary_use'] == i) ] [['timestamp', 'meter_reading']].set_index('timestamp').resample('H').var()['meter_reading'].plot(ax=axes[counter_var], alpha=0.8, label='By hour', color='tab:red').set_ylabel('Mean meter reading', fontsize=13)\n",
    "    axes[counter_var].set_title('primary_use: ' + str(i), fontsize=13);\n",
    "    counter_var+=1\n",
    "    plt.subplots_adjust(hspace=0.6)"
   ],
   "metadata": {
    "collapsed": false,
    "pycharm": {
     "name": "#%%\n"
    }
   }
  },
  {
   "cell_type": "markdown",
   "source": [
    "well that's way better!"
   ],
   "metadata": {
    "collapsed": false
   }
  },
  {
   "cell_type": "markdown",
   "source": [
    "### so we decided keep site 9 and clip the values"
   ],
   "metadata": {
    "collapsed": false
   }
  },
  {
   "cell_type": "markdown",
   "source": [
    "## Checking site 13"
   ],
   "metadata": {
    "collapsed": false
   }
  },
  {
   "cell_type": "code",
   "execution_count": null,
   "outputs": [],
   "source": [
    "fig, axes = plt.subplots(len(train_df[(train_df['site_id'] == 13)]['primary_use'].unique()),\n",
    "                         1,figsize=(14, 18), dpi=100)\n",
    "counter_var=0\n",
    "for i in list( train_df[(train_df['site_id'] == 13)]['primary_use'].unique() ) :\n",
    "    train_df[ (train_df['site_id'] == 13) & (train_df['primary_use'] == i) ] [['timestamp', 'meter_reading']].set_index('timestamp').resample('H').mean()['meter_reading'].plot(ax=axes[counter_var], alpha=0.8, label='By hour', color='tab:blue').set_ylabel('Mean meter reading', fontsize=13)\n",
    "    axes[counter_var].set_title('primary_use: ' + str(i), fontsize=13);\n",
    "    counter_var+=1\n",
    "    plt.subplots_adjust(hspace=0.6)"
   ],
   "metadata": {
    "collapsed": false,
    "pycharm": {
     "name": "#%%\n"
    }
   }
  },
  {
   "cell_type": "markdown",
   "source": [
    "### so we decided to ditch site13's primary use 0"
   ],
   "metadata": {
    "collapsed": false
   }
  },
  {
   "cell_type": "code",
   "execution_count": null,
   "outputs": [],
   "source": [
    "train_df.drop(index=train_df[ (train_df['site_id'] == 9) & (train_df['primary_use'] == 0) ].index, inplace=True )"
   ],
   "metadata": {
    "collapsed": false,
    "pycharm": {
     "name": "#%%\n"
    }
   }
  },
  {
   "cell_type": "markdown",
   "source": [
    "### Showing the effect of dropping the outlier"
   ],
   "metadata": {
    "collapsed": false
   }
  },
  {
   "cell_type": "code",
   "execution_count": null,
   "outputs": [],
   "source": [
    "fig, axes = plt.subplots(2,1,figsize=(14, 10), dpi=100)\n",
    "for i in list( train_df[(train_df['site_id'] == 13)]['meter'].unique() ) :\n",
    "    train_df[(train_df['site_id'] == 13) & (train_df['meter'] == i)][['timestamp', 'meter_reading']].set_index('timestamp').resample('H').mean()['meter_reading'].plot(ax=axes[i], alpha=0.8, label='By hour', color='tab:blue').set_ylabel('Mean meter reading', fontsize=13);\n",
    "    axes[i].set_title('Meter: ' + str(i), fontsize=13);\n",
    "    plt.subplots_adjust(hspace=0.6)"
   ],
   "metadata": {
    "collapsed": false,
    "pycharm": {
     "name": "#%%\n"
    }
   }
  },
  {
   "cell_type": "markdown",
   "source": [
    "### clipping values"
   ],
   "metadata": {
    "collapsed": false
   }
  },
  {
   "cell_type": "code",
   "execution_count": null,
   "outputs": [],
   "source": [
    "condition= train_df[(train_df['site_id'] == 13) & (train_df.meter == 1)]\n",
    "clipped_values= condition.meter_reading.clip(upper=1000, axis=0)\n",
    "clipped_idx= condition.index\n",
    "train_df.loc[clipped_idx,'meter_reading']= clipped_values"
   ],
   "metadata": {
    "collapsed": false,
    "pycharm": {
     "name": "#%%\n"
    }
   }
  },
  {
   "cell_type": "code",
   "execution_count": null,
   "outputs": [],
   "source": [
    "condition= train_df[(train_df['site_id'] == 13) & (train_df.meter == 0) & (train_df.month.isin([3,4]) ) ]\n",
    "clipped_values= condition.meter_reading.clip(upper=350, axis=0)\n",
    "clipped_idx= condition.index\n",
    "train_df.loc[clipped_idx,'meter_reading']= clipped_values"
   ],
   "metadata": {
    "collapsed": false,
    "pycharm": {
     "name": "#%%\n"
    }
   }
  },
  {
   "cell_type": "markdown",
   "source": [
    "### Visualizing again"
   ],
   "metadata": {
    "collapsed": false
   }
  },
  {
   "cell_type": "code",
   "execution_count": null,
   "outputs": [],
   "source": [
    "fig, axes = plt.subplots(len(train_df[(train_df['site_id'] == 13)]['primary_use'].unique()),\n",
    "                         1,figsize=(14, 18), dpi=100)\n",
    "counter_var=0\n",
    "for i in list( train_df[(train_df['site_id'] == 13)]['primary_use'].unique() ) :\n",
    "    train_df[ (train_df['site_id'] == 13) & (train_df['primary_use'] == i) ] [['timestamp', 'meter_reading']].set_index('timestamp').resample('H').mean()['meter_reading'].plot(ax=axes[counter_var], alpha=0.8, label='By hour', color='tab:blue').set_ylabel('Mean meter reading', fontsize=13)\n",
    "    axes[counter_var].set_title('primary_use: ' + str(i), fontsize=13);\n",
    "    counter_var+=1\n",
    "    plt.subplots_adjust(hspace=0.6)"
   ],
   "metadata": {
    "collapsed": false,
    "pycharm": {
     "name": "#%%\n"
    }
   }
  },
  {
   "cell_type": "markdown",
   "source": [
    "## Checking site 6"
   ],
   "metadata": {
    "collapsed": false
   }
  },
  {
   "cell_type": "code",
   "execution_count": null,
   "outputs": [],
   "source": [
    "fig, axes = plt.subplots(len(train_df[(train_df['site_id'] == 6)]['primary_use'].unique()),\n",
    "                         1,figsize=(14, 18), dpi=100)\n",
    "counter_var=0\n",
    "for i in list( train_df[(train_df['site_id'] == 6)]['primary_use'].unique() ) :\n",
    "    train_df[ (train_df['site_id'] == 6) & (train_df['primary_use'] == i) ] [['timestamp', 'meter_reading']].set_index('timestamp').resample('H').mean()['meter_reading'].plot(ax=axes[counter_var], alpha=0.8, label='By hour', color='tab:blue').set_ylabel('Mean meter reading', fontsize=13)\n",
    "    axes[counter_var].set_title('primary_use: ' + str(i), fontsize=13);\n",
    "    counter_var+=1"
   ],
   "metadata": {
    "collapsed": false,
    "pycharm": {
     "name": "#%%\n"
    }
   }
  },
  {
   "cell_type": "code",
   "execution_count": null,
   "outputs": [],
   "source": [
    "fig, axes = plt.subplots(2,1,figsize=(14, 18), dpi=100)\n",
    "for i in list( train_df[(train_df['site_id'] == 6)]['meter'].unique() ) :\n",
    "    train_df[(train_df['site_id'] == 6) & (train_df['meter'] == i)][['timestamp', 'meter_reading']].set_index('timestamp').resample('H').mean()['meter_reading'].plot(ax=axes[i], alpha=0.8, label='By hour', color='tab:blue').set_ylabel('Mean meter reading', fontsize=13);\n",
    "    axes[i].legend();\n",
    "    axes[i].set_title('Meter: ' + str(i), fontsize=13);"
   ],
   "metadata": {
    "collapsed": false,
    "pycharm": {
     "name": "#%%\n"
    }
   }
  },
  {
   "cell_type": "markdown",
   "source": [
    "### we see that primary_use 1 is the outlaier\n",
    "it's clear that in one of the buildings the chilled water usage rose very high creatign a problem, but as it's hard to put our hands on the specific building we will just ditch the whole use"
   ],
   "metadata": {
    "collapsed": false
   }
  },
  {
   "cell_type": "code",
   "execution_count": null,
   "outputs": [],
   "source": [
    "train_df.drop(index=train_df[ (train_df['site_id'] == 6) & (train_df['primary_use'] == 1) ].index, inplace=True )"
   ],
   "metadata": {
    "collapsed": false,
    "pycharm": {
     "name": "#%%\n"
    }
   }
  },
  {
   "cell_type": "markdown",
   "source": [
    "### clipping values"
   ],
   "metadata": {
    "collapsed": false
   }
  },
  {
   "cell_type": "code",
   "execution_count": null,
   "outputs": [],
   "source": [
    "condition= train_df[(train_df['site_id'] == 6) & (train_df.meter == 1) & (train_df.month == 3)]\n",
    "clipped_values= condition.meter_reading.clip( upper=350, axis=0)\n",
    "clipped_idx= condition.index\n",
    "train_df.loc[clipped_idx,'meter_reading']= clipped_values"
   ],
   "metadata": {
    "collapsed": false,
    "pycharm": {
     "name": "#%%\n"
    }
   }
  },
  {
   "cell_type": "markdown",
   "source": [
    "### Visualizing again after clipping"
   ],
   "metadata": {
    "collapsed": false
   }
  },
  {
   "cell_type": "code",
   "execution_count": null,
   "outputs": [],
   "source": [
    "fig, axes = plt.subplots(len(train_df[(train_df['site_id'] == 6)]['primary_use'].unique()),\n",
    "                         1,figsize=(14, 18), dpi=100)\n",
    "counter_var=0\n",
    "for i in list( train_df[(train_df['site_id'] == 6)]['primary_use'].unique() ) :\n",
    "    train_df[ (train_df['site_id'] == 6) & (train_df['primary_use'] == i) ] [['timestamp', 'meter_reading']].set_index('timestamp').resample('H').mean()['meter_reading'].plot(ax=axes[counter_var], alpha=0.8, label='By hour', color='tab:blue').set_ylabel('Mean meter reading', fontsize=13)\n",
    "    axes[counter_var].set_title('primary_use: ' + str(i), fontsize=13);\n",
    "    counter_var+=1\n",
    "    plt.subplots_adjust(hspace=0.6)"
   ],
   "metadata": {
    "collapsed": false,
    "pycharm": {
     "name": "#%%\n"
    }
   }
  },
  {
   "cell_type": "markdown",
   "source": [
    "## Checking site 0"
   ],
   "metadata": {
    "collapsed": false
   }
  },
  {
   "cell_type": "code",
   "execution_count": null,
   "outputs": [],
   "source": [
    "fig, axes = plt.subplots(len(train_df[(train_df['site_id'] == 0)]['primary_use'].unique()),\n",
    "                         1,figsize=(14, 18), dpi=100)\n",
    "counter_var=0\n",
    "for i in list( train_df[(train_df['site_id'] == 0)]['primary_use'].unique() ) :\n",
    "    train_df[ (train_df['site_id'] == 0) & (train_df['primary_use'] == i) ] [['timestamp', 'meter_reading']].set_index('timestamp').resample('H').mean()['meter_reading'].plot(ax=axes[counter_var], alpha=0.8, label='By hour', color='tab:blue').set_ylabel('Mean meter reading', fontsize=13)\n",
    "    axes[counter_var].set_title('primary_use: ' + str(i), fontsize=13);\n",
    "    counter_var+=1\n",
    "    plt.subplots_adjust(hspace=0.6)"
   ],
   "metadata": {
    "collapsed": false,
    "pycharm": {
     "name": "#%%\n"
    }
   }
  },
  {
   "cell_type": "code",
   "execution_count": null,
   "outputs": [],
   "source": [
    "fig, axes = plt.subplots(2,1,figsize=(14, 10), dpi=100)\n",
    "for i in list( train_df[(train_df['site_id'] == 0)]['meter'].unique() ) :\n",
    "    train_df[(train_df['site_id'] == 0) & (train_df['meter'] == i)][['timestamp', 'meter_reading']].set_index('timestamp').resample('H').mean()['meter_reading'].plot(ax=axes[i], alpha=0.8, label='By hour', color='tab:blue').set_ylabel('Mean meter reading', fontsize=13);\n",
    "    axes[i].set_title('Meter: ' + str(i), fontsize=13);\n",
    "    plt.subplots_adjust(hspace=0.6)"
   ],
   "metadata": {
    "collapsed": false,
    "pycharm": {
     "name": "#%%\n"
    }
   }
  },
  {
   "cell_type": "markdown",
   "source": [
    "### We can see that for site 0 the problem is with electricity\n",
    " since it's for all of the usages, we wil lditch it, and then cut the percentage of the outlaier we can see in the chilled water meter"
   ],
   "metadata": {
    "collapsed": false
   }
  },
  {
   "cell_type": "code",
   "execution_count": null,
   "outputs": [],
   "source": [
    "train_df.drop(index=train_df[ (train_df['site_id'] == 0) & (train_df['meter'] == 0) ].index, inplace=True )"
   ],
   "metadata": {
    "collapsed": false,
    "pycharm": {
     "name": "#%%\n"
    }
   }
  },
  {
   "cell_type": "markdown",
   "source": [
    "### Visualizing every primary_use now"
   ],
   "metadata": {
    "collapsed": false
   }
  },
  {
   "cell_type": "code",
   "execution_count": null,
   "outputs": [],
   "source": [
    "fig, axes = plt.subplots(len(train_df[(train_df['site_id'] == 0)]['primary_use'].unique()),\n",
    "                         1,figsize=(14, 18), dpi=100)\n",
    "counter_var=0\n",
    "for i in list( train_df[(train_df['site_id'] == 0)]['primary_use'].unique() ) :\n",
    "    train_df[ (train_df['site_id'] == 0) & (train_df['primary_use'] == i) ] [['timestamp', 'meter_reading']].set_index('timestamp').resample('H').mean()['meter_reading'].plot(ax=axes[counter_var], alpha=0.8, label='By hour', color='tab:blue').set_ylabel('Mean meter reading', fontsize=13)\n",
    "    axes[counter_var].set_title('primary_use: ' + str(i), fontsize=13);\n",
    "    counter_var+=1\n",
    "    plt.subplots_adjust(hspace=0.6)"
   ],
   "metadata": {
    "collapsed": false,
    "pycharm": {
     "name": "#%%\n"
    }
   }
  },
  {
   "cell_type": "markdown",
   "source": [
    "### Clipping outliers"
   ],
   "metadata": {
    "collapsed": false
   }
  },
  {
   "cell_type": "code",
   "execution_count": null,
   "outputs": [],
   "source": [
    "clipped_values= train_df[(train_df['site_id'] == 0) & ( train_df.primary_use==0) & ( train_df.month==5) ].meter_reading.clip( upper=5000, axis=0)\n",
    "clipped_idx= train_df[(train_df['site_id'] == 0) & ( train_df.primary_use==0) & ( train_df.month==5) ].index\n",
    "train_df.loc[clipped_idx,'meter_reading']= clipped_values"
   ],
   "metadata": {
    "collapsed": false,
    "pycharm": {
     "name": "#%%\n"
    }
   }
  },
  {
   "cell_type": "code",
   "execution_count": null,
   "outputs": [],
   "source": [
    "clipped_values= train_df[(train_df['site_id'] == 0) & ( train_df.primary_use==4) & ( train_df.month==7) ].meter_reading.clip( upper=5000, axis=0)\n",
    "clipped_idx= train_df[(train_df['site_id'] == 0) & ( train_df.primary_use==4) & ( train_df.month==7) ].index\n",
    "train_df.loc[clipped_idx,'meter_reading']= clipped_values"
   ],
   "metadata": {
    "collapsed": false,
    "pycharm": {
     "name": "#%%\n"
    }
   }
  },
  {
   "cell_type": "code",
   "execution_count": null,
   "outputs": [],
   "source": [
    "fig, axes = plt.subplots(1,1,figsize=(15, 5), dpi=100)\n",
    "train_df[(train_df['site_id'] == 0)][['timestamp', 'meter_reading']].set_index('timestamp').resample('H').mean()['meter_reading'].plot(ax=axes, alpha=0.8, label='By hour', color='tab:blue').set_ylabel('Mean meter reading', fontsize=13);\n",
    "axes.set_title('Meter: 1 ', fontsize=13);"
   ],
   "metadata": {
    "collapsed": false,
    "pycharm": {
     "name": "#%%\n"
    }
   }
  },
  {
   "cell_type": "markdown",
   "source": [
    "Visualizing again for the primary_use after removing"
   ],
   "metadata": {
    "collapsed": false
   }
  },
  {
   "cell_type": "code",
   "execution_count": null,
   "outputs": [],
   "source": [
    "fig, axes = plt.subplots(len(train_df[(train_df['site_id'] == 0)]['primary_use'].unique()),\n",
    "                         1,figsize=(14, 18), dpi=100)\n",
    "counter_var=0\n",
    "for i in list( train_df[(train_df['site_id'] == 0)]['primary_use'].unique() ) :\n",
    "    train_df[ (train_df['site_id'] == 0) & (train_df['primary_use'] == i) ] [['timestamp', 'meter_reading']].set_index('timestamp').resample('H').mean()['meter_reading'].plot(ax=axes[counter_var], alpha=0.8, label='By hour', color='tab:blue').set_ylabel('Mean meter reading', fontsize=13)\n",
    "    axes[counter_var].set_title('primary_use: ' + str(i), fontsize=13);\n",
    "    counter_var+=1\n",
    "    plt.subplots_adjust(hspace=0.6)"
   ],
   "metadata": {
    "collapsed": false,
    "pycharm": {
     "name": "#%%\n"
    }
   }
  },
  {
   "cell_type": "markdown",
   "source": [
    "## Checking site 9"
   ],
   "metadata": {
    "collapsed": false
   }
  },
  {
   "cell_type": "code",
   "execution_count": null,
   "outputs": [],
   "source": [
    "cond= train_df[(train_df['site_id'] == 9)]\n",
    "fig, axes = plt.subplots(len(cond['primary_use'].unique()),\n",
    "                         1,figsize=(14, 18), dpi=100)\n",
    "counter_var=0\n",
    "for i in list( cond['primary_use'].unique() ) :\n",
    "    train_df[ (train_df['site_id'] == 9) & (train_df['primary_use'] == i) ] [['timestamp', 'meter_reading']].set_index('timestamp').resample('H').mean()['meter_reading'].plot(ax=axes[counter_var], alpha=0.8, label='By hour', color='tab:blue').set_ylabel('Mean meter reading', fontsize=13)\n",
    "    axes[counter_var].set_title('primary_use: ' + str(i), fontsize=13);\n",
    "    counter_var+=1\n",
    "    plt.subplots_adjust(hspace=0.6)"
   ],
   "metadata": {
    "collapsed": false,
    "pycharm": {
     "name": "#%%\n"
    }
   }
  },
  {
   "cell_type": "markdown",
   "source": [
    "### Clipping"
   ],
   "metadata": {
    "collapsed": false
   }
  },
  {
   "cell_type": "code",
   "execution_count": null,
   "outputs": [],
   "source": [
    "condition_df= train_df[(train_df['site_id'] == 9) & ( train_df.primary_use==6)  ]\n",
    "clipped_values= condition_df.meter_reading.clip( upper=40, axis=0)\n",
    "clipped_idx= condition_df.index\n",
    "train_df.loc[clipped_idx,'meter_reading']= clipped_values"
   ],
   "metadata": {
    "collapsed": false,
    "pycharm": {
     "name": "#%%\n"
    }
   }
  },
  {
   "cell_type": "code",
   "execution_count": null,
   "outputs": [],
   "source": [
    "condition_df= train_df[(train_df['site_id'] == 9) & ( train_df.primary_use==12)  ]\n",
    "clipped_values= condition_df.meter_reading.clip( upper=85, axis=0)\n",
    "clipped_idx= condition_df.index\n",
    "train_df.loc[clipped_idx,'meter_reading']= clipped_values"
   ],
   "metadata": {
    "collapsed": false,
    "pycharm": {
     "name": "#%%\n"
    }
   }
  },
  {
   "cell_type": "code",
   "execution_count": null,
   "outputs": [],
   "source": [
    "condition_df= train_df[(train_df['site_id'] == 9) & ( train_df.primary_use==4)  ]\n",
    "clipped_values= condition_df.meter_reading.clip( upper=30, axis=0)\n",
    "clipped_idx= condition_df.index\n",
    "train_df.loc[clipped_idx,'meter_reading']= clipped_values"
   ],
   "metadata": {
    "collapsed": false,
    "pycharm": {
     "name": "#%%\n"
    }
   }
  },
  {
   "cell_type": "code",
   "execution_count": null,
   "outputs": [],
   "source": [
    "condition_df= train_df[(train_df['site_id'] == 9) & ( train_df.primary_use.isin([9,1]) ) ]\n",
    "clipped_values= condition_df.meter_reading.clip( upper=100, axis=0)\n",
    "clipped_idx= condition_df.index\n",
    "train_df.loc[clipped_idx,'meter_reading']= clipped_values"
   ],
   "metadata": {
    "collapsed": false,
    "pycharm": {
     "name": "#%%\n"
    }
   }
  },
  {
   "cell_type": "markdown",
   "source": [
    "### Visualizing after clipping"
   ],
   "metadata": {
    "collapsed": false
   }
  },
  {
   "cell_type": "code",
   "execution_count": null,
   "outputs": [],
   "source": [
    "cond= train_df[(train_df['site_id'] == 9)]\n",
    "fig, axes = plt.subplots(len(cond['primary_use'].unique()),\n",
    "                         1,figsize=(14, 18), dpi=100)\n",
    "counter_var=0\n",
    "for i in list( cond['primary_use'].unique() ) :\n",
    "    train_df[ (train_df['site_id'] == 9) & (train_df['primary_use'] == i) ] [['timestamp', 'meter_reading']].set_index('timestamp').resample('H').mean()['meter_reading'].plot(ax=axes[counter_var], alpha=0.8, label='By hour', color='tab:blue').set_ylabel('Mean meter reading', fontsize=13)\n",
    "    axes[counter_var].set_title('primary_use: ' + str(i), fontsize=13);\n",
    "    counter_var+=1\n",
    "    plt.subplots_adjust(hspace=0.6)"
   ],
   "metadata": {
    "collapsed": false,
    "pycharm": {
     "name": "#%%\n"
    }
   }
  },
  {
   "cell_type": "markdown",
   "source": [
    "## Checking site 7"
   ],
   "metadata": {
    "collapsed": false
   }
  },
  {
   "cell_type": "code",
   "execution_count": null,
   "outputs": [],
   "source": [
    "fig, axes = plt.subplots(2,1,figsize=(14, 10), dpi=100)\n",
    "for i in list( train_df[(train_df['site_id'] == 7)]['meter'].unique() ) :\n",
    "    train_df[(train_df['site_id'] == 7) & (train_df['meter'] == i)][['timestamp', 'meter_reading']].set_index('timestamp').resample('H').mean()['meter_reading'].plot(ax=axes[i], alpha=0.8, label='By hour', color='tab:blue').set_ylabel('Mean meter reading', fontsize=13);\n",
    "    axes[i].set_title('Meter: ' + str(i), fontsize=13);\n",
    "    plt.subplots_adjust(hspace=0.6)"
   ],
   "metadata": {
    "collapsed": false,
    "pycharm": {
     "name": "#%%\n"
    }
   }
  },
  {
   "cell_type": "code",
   "execution_count": null,
   "outputs": [],
   "source": [
    "cond= train_df[(train_df['site_id'] == 7)]\n",
    "fig, axes = plt.subplots(len(cond['primary_use'].unique()),\n",
    "                         1,figsize=(14, 5), dpi=100)\n",
    "counter_var=0\n",
    "for i in list( cond['primary_use'].unique() ) :\n",
    "    train_df[ (train_df['site_id'] == 7) & (train_df['primary_use'] == i) ] [['timestamp', 'meter_reading']].set_index('timestamp').resample('H').mean()['meter_reading'].plot(ax=axes, alpha=0.8, label='By hour', color='tab:blue').set_ylabel('Mean meter reading', fontsize=13)\n",
    "    axes.set_title('primary_use: ' + str(i), fontsize=13);\n",
    "    counter_var+=1\n",
    "    plt.subplots_adjust(hspace=0.6)"
   ],
   "metadata": {
    "collapsed": false,
    "pycharm": {
     "name": "#%%\n"
    }
   }
  },
  {
   "cell_type": "markdown",
   "source": [
    "### Ok seems fine and normal."
   ],
   "metadata": {
    "collapsed": false
   }
  },
  {
   "cell_type": "markdown",
   "source": [
    "## Checking site 8"
   ],
   "metadata": {
    "collapsed": false
   }
  },
  {
   "cell_type": "code",
   "execution_count": null,
   "outputs": [],
   "source": [
    "fig, axes = plt.subplots(1,1,figsize=(14, 5), dpi=100)\n",
    "for i in list( train_df[(train_df['site_id'] == 8)]['meter'].unique() ) :\n",
    "    train_df[(train_df['site_id'] == 8) & (train_df['meter'] == i)][['timestamp', 'meter_reading']].set_index('timestamp').resample('H').mean()['meter_reading'].plot(ax=axes, alpha=0.8, label='By hour', color='tab:blue').set_ylabel('Mean meter reading', fontsize=13);\n",
    "    axes.set_title('Meter: ' + str(i), fontsize=13);\n",
    "    plt.subplots_adjust(hspace=0.6)\n",
    "\n",
    "cond= train_df[(train_df['site_id'] == 8)]\n",
    "fig, axes = plt.subplots(len(cond['primary_use'].unique()),\n",
    "                         1,figsize=(14, 18), dpi=100)\n",
    "counter_var=0\n",
    "for i in list( cond['primary_use'].unique() ) :\n",
    "    train_df[ (train_df['site_id'] == 8) & (train_df['primary_use'] == i) ] [['timestamp', 'meter_reading']].set_index('timestamp').resample('H').mean()['meter_reading'].plot(ax=axes[counter_var], alpha=0.8, label='By hour', color='tab:blue').set_ylabel('Mean meter reading', fontsize=13)\n",
    "    axes[counter_var].set_title('primary_use: ' + str(i), fontsize=13);\n",
    "    counter_var+=1\n",
    "    plt.subplots_adjust(hspace=0.6)"
   ],
   "metadata": {
    "collapsed": false,
    "pycharm": {
     "name": "#%%\n"
    }
   }
  },
  {
   "cell_type": "markdown",
   "source": [
    "so there are outliers higher than 150 so that will be our threshold"
   ],
   "metadata": {
    "collapsed": false
   }
  },
  {
   "cell_type": "markdown",
   "source": [
    "### Clipping"
   ],
   "metadata": {
    "collapsed": false
   }
  },
  {
   "cell_type": "code",
   "execution_count": null,
   "outputs": [],
   "source": [
    "condition_df= train_df[(train_df['site_id'] == 8) ]\n",
    "clipped_values= condition_df.meter_reading.clip( upper=40, axis=0)\n",
    "clipped_idx= condition_df.index\n",
    "train_df.loc[clipped_idx,'meter_reading']= clipped_values"
   ],
   "metadata": {
    "collapsed": false,
    "pycharm": {
     "name": "#%%\n"
    }
   }
  },
  {
   "cell_type": "markdown",
   "source": [
    "### Visualizing after clipping"
   ],
   "metadata": {
    "collapsed": false
   }
  },
  {
   "cell_type": "code",
   "execution_count": null,
   "outputs": [],
   "source": [
    "fig, axes = plt.subplots(1,1,figsize=(14, 5), dpi=100)\n",
    "for i in list( train_df[(train_df['site_id'] == 8)]['meter'].unique() ) :\n",
    "    train_df[(train_df['site_id'] == 8) & (train_df['meter'] == i)][['timestamp', 'meter_reading']].set_index('timestamp').resample('H').mean()['meter_reading'].plot(ax=axes, alpha=0.8, label='By hour', color='tab:blue').set_ylabel('Mean meter reading', fontsize=13);\n",
    "    axes.set_title('Meter: ' + str(i), fontsize=13);\n",
    "    plt.subplots_adjust(hspace=0.6)\n",
    "\n",
    "cond= train_df[(train_df['site_id'] == 8)]\n",
    "fig, axes = plt.subplots(len(cond['primary_use'].unique()),\n",
    "                         1,figsize=(14, 18), dpi=100)\n",
    "counter_var=0\n",
    "for i in list( cond['primary_use'].unique() ) :\n",
    "    train_df[ (train_df['site_id'] == 8) & (train_df['primary_use'] == i) ] [['timestamp', 'meter_reading']].set_index('timestamp').resample('H').mean()['meter_reading'].plot(ax=axes[counter_var], alpha=0.8, label='By hour', color='tab:blue').set_ylabel('Mean meter reading', fontsize=13)\n",
    "    axes[counter_var].set_title('primary_use: ' + str(i), fontsize=13);\n",
    "    counter_var+=1\n",
    "    plt.subplots_adjust(hspace=0.6)"
   ],
   "metadata": {
    "collapsed": false,
    "pycharm": {
     "name": "#%%\n"
    }
   }
  },
  {
   "cell_type": "markdown",
   "source": [
    "## Checking site 10"
   ],
   "metadata": {
    "collapsed": false
   }
  },
  {
   "cell_type": "code",
   "execution_count": null,
   "outputs": [],
   "source": [
    "fig, axes = plt.subplots(2,1,figsize=(14, 6), dpi=100)\n",
    "for i in list( train_df[(train_df['site_id'] == 10)]['meter'].unique() ) :\n",
    "    train_df[(train_df['site_id'] == 10) & (train_df['meter'] == i)][['timestamp', 'meter_reading']].set_index('timestamp').resample('H').mean()['meter_reading'].plot(ax=axes[i], alpha=0.8, label='By hour', color='tab:blue').set_ylabel('Mean meter reading', fontsize=13);\n",
    "    axes[i].set_title('Meter: ' + str(i), fontsize=13);\n",
    "    plt.subplots_adjust(hspace=0.6)\n",
    "\n",
    "cond= train_df[(train_df['site_id'] == 10)]\n",
    "fig, axes = plt.subplots(len(cond['primary_use'].unique()),\n",
    "                         1,figsize=(14, 18), dpi=100)\n",
    "counter_var=0\n",
    "for i in list( cond['primary_use'].unique() ) :\n",
    "    train_df[ (train_df['site_id'] == 10) & (train_df['primary_use'] == i) ] [['timestamp', 'meter_reading']].set_index('timestamp').resample('H').mean()['meter_reading'].plot(ax=axes[counter_var], alpha=0.8, label='By hour', color='tab:blue').set_ylabel('Mean meter reading', fontsize=13)\n",
    "    axes[counter_var].set_title('primary_use: ' + str(i), fontsize=13);\n",
    "    counter_var+=1\n",
    "    plt.subplots_adjust(hspace=0.6)"
   ],
   "metadata": {
    "collapsed": false,
    "pycharm": {
     "name": "#%%\n"
    }
   }
  },
  {
   "cell_type": "markdown",
   "source": [
    "### Clipping values"
   ],
   "metadata": {
    "collapsed": false
   }
  },
  {
   "cell_type": "code",
   "execution_count": null,
   "outputs": [],
   "source": [
    "condition_df= train_df[(train_df['site_id'] == 10)& (train_df.primary_use==0) ]\n",
    "clipped_values= condition_df.meter_reading.clip( upper=150, axis=0)\n",
    "clipped_idx= condition_df.index\n",
    "train_df.loc[clipped_idx,'meter_reading']= clipped_values\n",
    "\n",
    "# dropping primary use 7, 13 as it's range is just so suspecious\n",
    "condition= train_df[(train_df['site_id'] == 10) & (train_df.primary_use.isin([7,13])) ]\n",
    "train_df.drop(index=condition.index , inplace=True)\n",
    "\n",
    "condition_df= train_df[(train_df['site_id'] == 10) & (train_df.primary_use==13)&(train_df.month==10) ]\n",
    "clipped_values= condition_df.meter_reading.clip( upper=400, axis=0)\n",
    "clipped_idx= condition_df.index\n",
    "train_df.loc[clipped_idx,'meter_reading']= clipped_values\n",
    "\n",
    "condition_df= train_df[(train_df['site_id'] == 10) & (train_df.primary_use==4) ]\n",
    "clipped_values= condition_df.meter_reading.clip( upper=90, axis=0)\n",
    "clipped_idx= condition_df.index\n",
    "train_df.loc[clipped_idx,'meter_reading']= clipped_values\n",
    "\n",
    "condition_df= train_df[(train_df['site_id'] == 10) & (train_df.primary_use==1) ]\n",
    "clipped_values= condition_df.meter_reading.clip( upper=125, axis=0)\n",
    "clipped_idx= condition_df.index\n",
    "train_df.loc[clipped_idx,'meter_reading']= clipped_values\n",
    "\n",
    "condition_df= train_df[(train_df['site_id'] == 10) & (train_df.meter==0)]\n",
    "clipped_values= condition_df.meter_reading.clip( upper=80, axis=0)\n",
    "clipped_idx= condition_df.index\n",
    "train_df.loc[clipped_idx,'meter_reading']= clipped_values"
   ],
   "metadata": {
    "collapsed": false,
    "pycharm": {
     "name": "#%%\n"
    }
   }
  },
  {
   "cell_type": "markdown",
   "source": [
    "### Visualizing after clipping"
   ],
   "metadata": {
    "collapsed": false
   }
  },
  {
   "cell_type": "code",
   "execution_count": null,
   "outputs": [],
   "source": [
    "fig, axes = plt.subplots(2,1,figsize=(14, 6), dpi=100)\n",
    "for i in list( train_df[(train_df['site_id'] == 10)]['meter'].unique() ) :\n",
    "    train_df[(train_df['site_id'] == 10) & (train_df['meter'] == i)][['timestamp', 'meter_reading']].set_index('timestamp').resample('H').mean()['meter_reading'].plot(ax=axes[i], alpha=0.8, label='By hour', color='tab:blue').set_ylabel('Mean meter reading', fontsize=13);\n",
    "    axes[i].set_title('Meter: ' + str(i), fontsize=13);\n",
    "    plt.subplots_adjust(hspace=0.6)\n",
    "\n",
    "cond= train_df[(train_df['site_id'] == 10)]\n",
    "fig, axes = plt.subplots(len(cond['primary_use'].unique()),\n",
    "                         1,figsize=(14, 18), dpi=100)\n",
    "counter_var=0\n",
    "for i in list( cond['primary_use'].unique() ) :\n",
    "    train_df[ (train_df['site_id'] == 10) & (train_df['primary_use'] == i) ] [['timestamp', 'meter_reading']].set_index('timestamp').resample('H').mean()['meter_reading'].plot(ax=axes[counter_var], alpha=0.8, label='By hour', color='tab:blue').set_ylabel('Mean meter reading', fontsize=13)\n",
    "    axes[counter_var].set_title('primary_use: ' + str(i), fontsize=13);\n",
    "    counter_var+=1\n",
    "    plt.subplots_adjust(hspace=0.6)"
   ],
   "metadata": {
    "collapsed": false,
    "pycharm": {
     "name": "#%%\n"
    }
   }
  },
  {
   "cell_type": "markdown",
   "source": [
    "## Checking site 11"
   ],
   "metadata": {
    "collapsed": false
   }
  },
  {
   "cell_type": "code",
   "execution_count": null,
   "outputs": [],
   "source": [
    "fig, axes = plt.subplots(2,1,figsize=(14, 6), dpi=100)\n",
    "for i in list( train_df[(train_df['site_id'] == 11)]['meter'].unique() ) :\n",
    "    train_df[(train_df['site_id'] == 11) & (train_df['meter'] == i)][['timestamp', 'meter_reading']].set_index('timestamp').resample('H').mean()['meter_reading'].plot(ax=axes[i], alpha=0.8, label='By hour', color='tab:blue').set_ylabel('Mean meter reading', fontsize=13);\n",
    "    axes[i].set_title('Meter: ' + str(i), fontsize=13);\n",
    "    plt.subplots_adjust(hspace=0.6)\n",
    "\n",
    "cond= train_df[(train_df['site_id'] == 11)]\n",
    "fig, axes = plt.subplots(len(cond['primary_use'].unique()),\n",
    "                         1,figsize=(14, 3), dpi=100)\n",
    "counter_var=0\n",
    "for i in list( cond['primary_use'].unique() ) :\n",
    "    train_df[ (train_df['site_id'] == 11) & (train_df['primary_use'] == i) ] [['timestamp', 'meter_reading']].set_index('timestamp').resample('H').mean()['meter_reading'].plot(ax=axes, alpha=0.8, label='By hour', color='tab:blue').set_ylabel('Mean meter reading', fontsize=13)\n",
    "    axes.set_title('primary_use: ' + str(i), fontsize=13);\n",
    "    counter_var+=1\n",
    "    plt.subplots_adjust(hspace=0.6)"
   ],
   "metadata": {
    "collapsed": false,
    "pycharm": {
     "name": "#%%\n"
    }
   }
  },
  {
   "cell_type": "markdown",
   "source": [
    "### Dropping meter 1 as the missing data is skewing our graph"
   ],
   "metadata": {
    "collapsed": false
   }
  },
  {
   "cell_type": "code",
   "execution_count": null,
   "outputs": [],
   "source": [
    "cond= train_df[(train_df['site_id'] == 11) & (train_df.meter==1)]\n",
    "train_df.drop(index=cond.index, inplace=True)"
   ],
   "metadata": {
    "collapsed": false,
    "pycharm": {
     "name": "#%%\n"
    }
   }
  },
  {
   "cell_type": "markdown",
   "source": [
    "### Visualizing after removing data"
   ],
   "metadata": {
    "collapsed": false
   }
  },
  {
   "cell_type": "code",
   "execution_count": null,
   "outputs": [],
   "source": [
    "fig, axes = plt.subplots(1,1,figsize=(14, 6), dpi=100)\n",
    "for i in list( train_df[(train_df['site_id'] == 11)]['meter'].unique() ) :\n",
    "    train_df[(train_df['site_id'] == 11) & (train_df['meter'] == i)][['timestamp', 'meter_reading']].set_index('timestamp').resample('H').mean()['meter_reading'].plot(ax=axes, alpha=0.8, label='By hour', color='tab:blue').set_ylabel('Mean meter reading', fontsize=13);\n",
    "    axes.set_title('Meter: ' + str(i), fontsize=13);\n",
    "    plt.subplots_adjust(hspace=0.6)\n",
    "\n",
    "cond= train_df[(train_df['site_id'] == 11)]\n",
    "fig, axes = plt.subplots(len(cond['primary_use'].unique()),\n",
    "                         1,figsize=(14, 3), dpi=100)\n",
    "counter_var=0\n",
    "for i in list( cond['primary_use'].unique() ) :\n",
    "    train_df[ (train_df['site_id'] == 11) & (train_df['primary_use'] == i) ] [['timestamp', 'meter_reading']].set_index('timestamp').resample('H').mean()['meter_reading'].plot(ax=axes, alpha=0.8, label='By hour', color='tab:blue').set_ylabel('Mean meter reading', fontsize=13)\n",
    "    axes.set_title('primary_use: ' + str(i), fontsize=13);\n",
    "    counter_var+=1\n",
    "    plt.subplots_adjust(hspace=0.6)"
   ],
   "metadata": {
    "collapsed": false,
    "pycharm": {
     "name": "#%%\n"
    }
   }
  },
  {
   "cell_type": "markdown",
   "source": [
    "## Lastly Checking site 14"
   ],
   "metadata": {
    "collapsed": false
   }
  },
  {
   "cell_type": "code",
   "execution_count": null,
   "outputs": [],
   "source": [
    "fig, axes = plt.subplots(2,1,figsize=(14, 6), dpi=100)\n",
    "for i in list( train_df[(train_df['site_id'] == 10)]['meter'].unique() ) :\n",
    "    train_df[(train_df['site_id'] == 14) & (train_df['meter'] == i)][['timestamp', 'meter_reading']].set_index('timestamp').resample('H').mean()['meter_reading'].plot(ax=axes[i], alpha=0.8, label='By hour', color='tab:blue').set_ylabel('Mean meter reading', fontsize=13);\n",
    "    axes[i].set_title('Meter: ' + str(i), fontsize=13);\n",
    "    plt.subplots_adjust(hspace=0.6)\n",
    "\n",
    "cond= train_df[(train_df['site_id'] == 14)]\n",
    "fig, axes = plt.subplots(len(cond['primary_use'].unique()),\n",
    "                         1,figsize=(14, 18), dpi=100)\n",
    "counter_var=0\n",
    "for i in list( cond['primary_use'].unique() ) :\n",
    "    train_df[ (train_df['site_id'] == 14) & (train_df['primary_use'] == i) ] [['timestamp', 'meter_reading']].set_index('timestamp').resample('H').mean()['meter_reading'].plot(ax=axes[counter_var], alpha=0.8, label='By hour', color='tab:blue').set_ylabel('Mean meter reading', fontsize=13)\n",
    "    axes[counter_var].set_title('primary_use: ' + str(i), fontsize=13);\n",
    "    counter_var+=1\n",
    "    plt.subplots_adjust(hspace=0.6)"
   ],
   "metadata": {
    "collapsed": false,
    "pycharm": {
     "name": "#%%\n"
    }
   }
  },
  {
   "cell_type": "markdown",
   "source": [
    "### as we can see meter 1 is so huge that it creates an unbalanced data, so we will try visualizing without it\n"
   ],
   "metadata": {
    "collapsed": false
   }
  },
  {
   "cell_type": "code",
   "execution_count": null,
   "outputs": [],
   "source": [
    "# visualizing without meter 1\n",
    "\n",
    "fig, axes = plt.subplots(2,1,figsize=(14, 6), dpi=100)\n",
    "for i in list( train_df[(train_df['site_id'] == 10)]['meter'].unique() ) :\n",
    "    train_df[(train_df['site_id'] == 14) & (train_df['meter'] == i)][['timestamp', 'meter_reading']].set_index('timestamp').resample('H').mean()['meter_reading'].plot(ax=axes[i], alpha=0.8, label='By hour', color='tab:blue').set_ylabel('Mean meter reading', fontsize=13);\n",
    "    axes[i].set_title('Meter: ' + str(i), fontsize=13);\n",
    "    plt.subplots_adjust(hspace=0.6)\n",
    "\n",
    "cond= train_df[(train_df['site_id'] == 14)]\n",
    "fig, axes = plt.subplots(len(cond['primary_use'].unique()),\n",
    "                         1,figsize=(14, 18), dpi=100)\n",
    "counter_var=0\n",
    "for i in list( cond['primary_use'].unique() ) :\n",
    "    train_df[ (train_df['site_id'] == 14) & (train_df['primary_use'] == i) & (train_df.meter ==0) ] [['timestamp', 'meter_reading']].set_index('timestamp').resample('H').mean()['meter_reading'].plot(ax=axes[counter_var], alpha=0.8, label='By hour', color='tab:blue').set_ylabel('Mean meter reading', fontsize=13)\n",
    "    axes[counter_var].set_title('primary_use: ' + str(i), fontsize=13);\n",
    "    counter_var+=1\n",
    "    plt.subplots_adjust(hspace=0.6)"
   ],
   "metadata": {
    "collapsed": false,
    "pycharm": {
     "name": "#%%\n"
    }
   }
  },
  {
   "cell_type": "markdown",
   "source": [
    "### we clearly see that meter 1 has some problems with it, so we will drop it and clip some outliers"
   ],
   "metadata": {
    "collapsed": false
   }
  },
  {
   "cell_type": "code",
   "execution_count": null,
   "outputs": [],
   "source": [
    "condition_df= train_df[(train_df['site_id'] == 14)& (train_df.primary_use==1) ]\n",
    "clipped_values= condition_df.meter_reading.clip( upper=230, axis=0)\n",
    "clipped_idx= condition_df.index\n",
    "train_df.loc[clipped_idx,'meter_reading']= clipped_values\n",
    "\n",
    "# dropping primary use 7, 13 as it's range is just so suspecious\n",
    "condition= train_df[(train_df['site_id'] == 14) & (train_df.meter==1) ]\n",
    "train_df.drop(index=condition.index , inplace=True)\n",
    "\n",
    "condition_df= train_df[(train_df['site_id'] == 14) & (train_df.primary_use==2)]\n",
    "clipped_values= condition_df.meter_reading.clip( upper=250, axis=0)\n",
    "clipped_idx= condition_df.index\n",
    "train_df.loc[clipped_idx,'meter_reading']= clipped_values"
   ],
   "metadata": {
    "collapsed": false,
    "pycharm": {
     "name": "#%%\n"
    }
   }
  },
  {
   "cell_type": "markdown",
   "source": [
    "### visualizing after removing outliers"
   ],
   "metadata": {
    "collapsed": false
   }
  },
  {
   "cell_type": "code",
   "execution_count": null,
   "outputs": [],
   "source": [
    "# visualizing without meter 1\n",
    "\n",
    "fig, axes = plt.subplots(1,1,figsize=(14, 3), dpi=100)\n",
    "for i in list( train_df[(train_df['site_id'] == 10)]['meter'].unique() ) :\n",
    "    train_df[(train_df['site_id'] == 14)][['timestamp', 'meter_reading']].set_index('timestamp').resample('H').mean()['meter_reading'].plot(ax=axes, alpha=0.8, label='By hour', color='tab:blue').set_ylabel('Mean meter reading', fontsize=13);\n",
    "    axes.set_title('Meter: ' + str(i), fontsize=13);\n",
    "    plt.subplots_adjust(hspace=0.6)\n",
    "\n",
    "cond= train_df[(train_df['site_id'] == 14)]\n",
    "fig, axes = plt.subplots(len(cond['primary_use'].unique()),\n",
    "                         1,figsize=(14, 18), dpi=100)\n",
    "counter_var=0\n",
    "for i in list( cond['primary_use'].unique() ) :\n",
    "    train_df[ (train_df['site_id'] == 14) & (train_df['primary_use'] == i) ] [['timestamp', 'meter_reading']].set_index('timestamp').resample('H').mean()['meter_reading'].plot(ax=axes[counter_var], alpha=0.8, label='By hour', color='tab:blue').set_ylabel('Mean meter reading', fontsize=13)\n",
    "    axes[counter_var].set_title('primary_use: ' + str(i), fontsize=13);\n",
    "    counter_var+=1\n",
    "    plt.subplots_adjust(hspace=0.6)"
   ],
   "metadata": {
    "collapsed": false,
    "pycharm": {
     "name": "#%%\n"
    }
   }
  },
  {
   "cell_type": "markdown",
   "source": [
    "## Revisualizing all sites after preprocessing\n"
   ],
   "metadata": {
    "collapsed": false
   }
  },
  {
   "cell_type": "code",
   "execution_count": null,
   "outputs": [],
   "source": [
    "fig, axes = plt.subplots(16,figsize=(15, 25), dpi=100)\n",
    "for i in range(train_df['site_id'].nunique()):\n",
    "    try:\n",
    "        train_df[train_df['site_id'] == i][['timestamp', 'meter_reading']].set_index('timestamp').resample('H').mean().plot(ax=axes[i], alpha=0.8, label='By hour')\n",
    "        axes[i].set_title('site_id {}'.format(i), fontsize=13);\n",
    "        plt.subplots_adjust(hspace=0.6)\n",
    "    except: pass"
   ],
   "metadata": {
    "collapsed": false,
    "pycharm": {
     "name": "#%%\n"
    }
   }
  },
  {
   "cell_type": "markdown",
   "source": [
    "# Saving the data"
   ],
   "metadata": {
    "collapsed": false
   }
  },
  {
   "cell_type": "code",
   "execution_count": null,
   "outputs": [],
   "source": [
    "train_df.to_csv('content/preprocessed_train.csv')"
   ],
   "metadata": {
    "collapsed": false,
    "pycharm": {
     "name": "#%%\n"
    }
   }
  }
 ],
 "metadata": {
  "kernelspec": {
   "display_name": "Python 3",
   "language": "python",
   "name": "python3"
  },
  "language_info": {
   "codemirror_mode": {
    "name": "ipython",
    "version": 2
   },
   "file_extension": ".py",
   "mimetype": "text/x-python",
   "name": "python",
   "nbconvert_exporter": "python",
   "pygments_lexer": "ipython2",
   "version": "2.7.6"
  }
 },
 "nbformat": 4,
 "nbformat_minor": 0
}