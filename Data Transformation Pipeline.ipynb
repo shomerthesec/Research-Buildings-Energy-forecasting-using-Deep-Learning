{
 "cells": [
  {
   "cell_type": "code",
   "execution_count": 1,
   "id": "6eca79aa-d761-46df-8ffc-c3f6cedcc52a",
   "metadata": {},
   "outputs": [],
   "source": [
    "import numpy as np , pandas as pd "
   ]
  },
  {
   "cell_type": "code",
   "execution_count": 7,
   "id": "89de5313-5ba7-44b8-87fe-09331cb1ea1f",
   "metadata": {},
   "outputs": [],
   "source": [
    "data = pd.read_csv('content/preprocessed_train.csv')"
   ]
  },
  {
   "cell_type": "code",
   "execution_count": 8,
   "id": "03158d04-93ff-4770-a42d-cd91164ca91a",
   "metadata": {},
   "outputs": [
    {
     "data": {
      "text/plain": "   Unnamed: 0  building_id  meter            timestamp  meter_reading  \\\n0           0          105      0  2016-01-01 00:00:00        23.3036   \n1           1          106      0  2016-01-01 00:00:00         0.3746   \n2           3          107      0  2016-01-01 00:00:00       175.1840   \n3           4          108      0  2016-01-01 00:00:00        91.2653   \n4           5          109      0  2016-01-01 00:00:00        80.9300   \n\n   site_id  primary_use  square_feet  floor  area  air_temperature  \\\n0        1            0        50623      1     1              3.8   \n1        1            0         5374      1     0              3.8   \n2        1            0        97532      2     2              3.8   \n3        1            0        81580      1     1              3.8   \n4        1            0        56995      2     1              3.8   \n\n   cloud_coverage  dew_temperature  precip_depth_1_hr  sea_level_pressure  \\\n0             NaN              2.4                NaN              1020.9   \n1             NaN              2.4                NaN              1020.9   \n2             NaN              2.4                NaN              1020.9   \n3             NaN              2.4                NaN              1020.9   \n4             NaN              2.4                NaN              1020.9   \n\n   wind_direction  wind_speed  day  month  hour  \n0           240.0         3.1    1      1     0  \n1           240.0         3.1    1      1     0  \n2           240.0         3.1    1      1     0  \n3           240.0         3.1    1      1     0  \n4           240.0         3.1    1      1     0  ",
      "text/html": "<div>\n<style scoped>\n    .dataframe tbody tr th:only-of-type {\n        vertical-align: middle;\n    }\n\n    .dataframe tbody tr th {\n        vertical-align: top;\n    }\n\n    .dataframe thead th {\n        text-align: right;\n    }\n</style>\n<table border=\"1\" class=\"dataframe\">\n  <thead>\n    <tr style=\"text-align: right;\">\n      <th></th>\n      <th>Unnamed: 0</th>\n      <th>building_id</th>\n      <th>meter</th>\n      <th>timestamp</th>\n      <th>meter_reading</th>\n      <th>site_id</th>\n      <th>primary_use</th>\n      <th>square_feet</th>\n      <th>floor</th>\n      <th>area</th>\n      <th>air_temperature</th>\n      <th>cloud_coverage</th>\n      <th>dew_temperature</th>\n      <th>precip_depth_1_hr</th>\n      <th>sea_level_pressure</th>\n      <th>wind_direction</th>\n      <th>wind_speed</th>\n      <th>day</th>\n      <th>month</th>\n      <th>hour</th>\n    </tr>\n  </thead>\n  <tbody>\n    <tr>\n      <th>0</th>\n      <td>0</td>\n      <td>105</td>\n      <td>0</td>\n      <td>2016-01-01 00:00:00</td>\n      <td>23.3036</td>\n      <td>1</td>\n      <td>0</td>\n      <td>50623</td>\n      <td>1</td>\n      <td>1</td>\n      <td>3.8</td>\n      <td>NaN</td>\n      <td>2.4</td>\n      <td>NaN</td>\n      <td>1020.9</td>\n      <td>240.0</td>\n      <td>3.1</td>\n      <td>1</td>\n      <td>1</td>\n      <td>0</td>\n    </tr>\n    <tr>\n      <th>1</th>\n      <td>1</td>\n      <td>106</td>\n      <td>0</td>\n      <td>2016-01-01 00:00:00</td>\n      <td>0.3746</td>\n      <td>1</td>\n      <td>0</td>\n      <td>5374</td>\n      <td>1</td>\n      <td>0</td>\n      <td>3.8</td>\n      <td>NaN</td>\n      <td>2.4</td>\n      <td>NaN</td>\n      <td>1020.9</td>\n      <td>240.0</td>\n      <td>3.1</td>\n      <td>1</td>\n      <td>1</td>\n      <td>0</td>\n    </tr>\n    <tr>\n      <th>2</th>\n      <td>3</td>\n      <td>107</td>\n      <td>0</td>\n      <td>2016-01-01 00:00:00</td>\n      <td>175.1840</td>\n      <td>1</td>\n      <td>0</td>\n      <td>97532</td>\n      <td>2</td>\n      <td>2</td>\n      <td>3.8</td>\n      <td>NaN</td>\n      <td>2.4</td>\n      <td>NaN</td>\n      <td>1020.9</td>\n      <td>240.0</td>\n      <td>3.1</td>\n      <td>1</td>\n      <td>1</td>\n      <td>0</td>\n    </tr>\n    <tr>\n      <th>3</th>\n      <td>4</td>\n      <td>108</td>\n      <td>0</td>\n      <td>2016-01-01 00:00:00</td>\n      <td>91.2653</td>\n      <td>1</td>\n      <td>0</td>\n      <td>81580</td>\n      <td>1</td>\n      <td>1</td>\n      <td>3.8</td>\n      <td>NaN</td>\n      <td>2.4</td>\n      <td>NaN</td>\n      <td>1020.9</td>\n      <td>240.0</td>\n      <td>3.1</td>\n      <td>1</td>\n      <td>1</td>\n      <td>0</td>\n    </tr>\n    <tr>\n      <th>4</th>\n      <td>5</td>\n      <td>109</td>\n      <td>0</td>\n      <td>2016-01-01 00:00:00</td>\n      <td>80.9300</td>\n      <td>1</td>\n      <td>0</td>\n      <td>56995</td>\n      <td>2</td>\n      <td>1</td>\n      <td>3.8</td>\n      <td>NaN</td>\n      <td>2.4</td>\n      <td>NaN</td>\n      <td>1020.9</td>\n      <td>240.0</td>\n      <td>3.1</td>\n      <td>1</td>\n      <td>1</td>\n      <td>0</td>\n    </tr>\n  </tbody>\n</table>\n</div>"
     },
     "execution_count": 8,
     "metadata": {},
     "output_type": "execute_result"
    }
   ],
   "source": [
    "data.head()"
   ]
  },
  {
   "cell_type": "code",
   "execution_count": null,
   "outputs": [],
   "source": [],
   "metadata": {
    "collapsed": false,
    "pycharm": {
     "name": "#%%\n"
    }
   }
  },
  {
   "cell_type": "code",
   "execution_count": 17,
   "id": "9141606f-d814-4510-8426-c824a99da306",
   "metadata": {},
   "outputs": [
    {
     "name": "stderr",
     "output_type": "stream",
     "text": [
      "C:\\Users\\shomer\\anaconda3\\lib\\site-packages\\pandas\\core\\frame.py:4906: SettingWithCopyWarning: \n",
      "A value is trying to be set on a copy of a slice from a DataFrame\n",
      "\n",
      "See the caveats in the documentation: https://pandas.pydata.org/pandas-docs/stable/user_guide/indexing.html#returning-a-view-versus-a-copy\n",
      "  return super().drop(\n",
      "C:\\Users\\shomer\\anaconda3\\lib\\site-packages\\pandas\\core\\indexing.py:1773: SettingWithCopyWarning: \n",
      "A value is trying to be set on a copy of a slice from a DataFrame.\n",
      "Try using .loc[row_indexer,col_indexer] = value instead\n",
      "\n",
      "See the caveats in the documentation: https://pandas.pydata.org/pandas-docs/stable/user_guide/indexing.html#returning-a-view-versus-a-copy\n",
      "  self._setitem_single_column(ilocs[0], value, pi)\n",
      "D:\\projects\\Research-Buildings-Energy-forecasting-using-Deep-Learning\\data_fetcher.py:47: SettingWithCopyWarning: \n",
      "A value is trying to be set on a copy of a slice from a DataFrame.\n",
      "Try using .loc[row_indexer,col_indexer] = value instead\n",
      "\n",
      "See the caveats in the documentation: https://pandas.pydata.org/pandas-docs/stable/user_guide/indexing.html#returning-a-view-versus-a-copy\n",
      "  df['season'] = df.month.apply(self.season_finder)\n",
      "D:\\projects\\Research-Buildings-Energy-forecasting-using-Deep-Learning\\data_fetcher.py:48: SettingWithCopyWarning: \n",
      "A value is trying to be set on a copy of a slice from a DataFrame.\n",
      "Try using .loc[row_indexer,col_indexer] = value instead\n",
      "\n",
      "See the caveats in the documentation: https://pandas.pydata.org/pandas-docs/stable/user_guide/indexing.html#returning-a-view-versus-a-copy\n",
      "  df['weekend'] = df.timestamp.dt.dayofweek > 4\n",
      "D:\\projects\\Research-Buildings-Energy-forecasting-using-Deep-Learning\\data_fetcher.py:49: SettingWithCopyWarning: \n",
      "A value is trying to be set on a copy of a slice from a DataFrame.\n",
      "Try using .loc[row_indexer,col_indexer] = value instead\n",
      "\n",
      "See the caveats in the documentation: https://pandas.pydata.org/pandas-docs/stable/user_guide/indexing.html#returning-a-view-versus-a-copy\n",
      "  df['day_of_the_week'] = df.timestamp.dt.dayofweek\n"
     ]
    }
   ],
   "source": [
    "from sklearn.preprocessing import MinMaxScaler \n",
    "from data_fetcher import Fetcher\n",
    "from sklearn.pipeline import Pipeline\n",
    "from sklearn.impute import SimpleImputer\n",
    "from sklearn.compose import ColumnTransformer\n",
    "\n",
    "\n",
    "fetcher= Fetcher() # to clean the data\n",
    "data_cleaned= fetcher.transform(data)\n",
    "\n",
    "numerical_pipeline = Pipeline([ ('imputer', SimpleImputer()), # to fill missing values with mean\n",
    "                                ('scaler', MinMaxScaler())\n",
    "                              ])\n",
    "\n",
    "num_attribs = ['meter_reading','air_temperature','dew_temperature','sea_level_pressure','wind_direction','wind_speed'] # columns to transform\n",
    "date_attribs=['day','month'\t,'hour','area','floor','hour', 'season', 'weekend', 'day_of_the_week']\n",
    "\n",
    "full_pipeline = ColumnTransformer([ (\"num\", numerical_pipeline, num_attribs),\n",
    "                                      (\"date\", SimpleImputer() ,  date_attribs )])\n",
    "\n",
    "transformed_data = full_pipeline.fit_transform(data_cleaned)"
   ]
  },
  {
   "cell_type": "code",
   "execution_count": 23,
   "outputs": [],
   "source": [
    "tmp_cols=['meter_reading','air_temperature','dew_temperature','sea_level_pressure','wind_direction','wind_speed', 'day','month'\t,'hour','area','floor','hour', 'season', 'weekend', 'day_of_the_week']"
   ],
   "metadata": {
    "collapsed": false,
    "pycharm": {
     "name": "#%%\n"
    }
   }
  },
  {
   "cell_type": "code",
   "execution_count": 20,
   "outputs": [
    {
     "data": {
      "text/plain": "array([[0.        , 0.20923913, 0.38175676, ..., 3.        , 0.        ,\n        4.        ],\n       [0.36463482, 0.20652174, 0.38175676, ..., 3.        , 0.        ,\n        4.        ],\n       [0.36902801, 0.17663043, 0.36486486, ..., 3.        , 0.        ,\n        4.        ],\n       ...,\n       [0.2800659 , 0.29347826, 0.49662162, ..., 3.        , 1.        ,\n        5.        ],\n       [0.27594728, 0.29347826, 0.51013514, ..., 3.        , 1.        ,\n        5.        ],\n       [0.27841845, 0.30978261, 0.52027027, ..., 3.        , 1.        ,\n        5.        ]])"
     },
     "execution_count": 20,
     "metadata": {},
     "output_type": "execute_result"
    }
   ],
   "source": [
    "transformed_data"
   ],
   "metadata": {
    "collapsed": false,
    "pycharm": {
     "name": "#%%\n"
    }
   }
  },
  {
   "cell_type": "code",
   "execution_count": 24,
   "id": "f378d63b-3154-4a2f-8381-429fbf3610e7",
   "metadata": {},
   "outputs": [
    {
     "data": {
      "text/plain": "                     meter_reading  air_temperature  dew_temperature  \\\ntimestamp                                                              \n2016-01-01 00:00:00       0.000000         0.209239         0.381757   \n2016-01-01 01:00:00       0.364635         0.206522         0.381757   \n2016-01-01 02:00:00       0.369028         0.176630         0.364865   \n2016-01-01 03:00:00       0.366282         0.160326         0.341216   \n2016-01-01 04:00:00       0.366557         0.168478         0.361486   \n...                            ...              ...              ...   \n2016-12-31 19:00:00       0.292696         0.326087         0.520270   \n2016-12-31 20:00:00       0.285283         0.301630         0.506757   \n2016-12-31 21:00:00       0.280066         0.293478         0.496622   \n2016-12-31 22:00:00       0.275947         0.293478         0.510135   \n2016-12-31 23:00:00       0.278418         0.309783         0.520270   \n\n                     sea_level_pressure  wind_direction  wind_speed   day  \\\ntimestamp                                                                   \n2016-01-01 00:00:00            0.659280        0.666667    0.167568   1.0   \n2016-01-01 01:00:00            0.668975        0.638889    0.140541   1.0   \n2016-01-01 02:00:00            0.673130        0.000000    0.000000   1.0   \n2016-01-01 03:00:00            0.678670        0.472222    0.081081   1.0   \n2016-01-01 04:00:00            0.684211        0.305556    0.081081   1.0   \n...                                 ...             ...         ...   ...   \n2016-12-31 19:00:00            0.750693        0.611111    0.194595  31.0   \n2016-12-31 20:00:00            0.742382        0.611111    0.221622  31.0   \n2016-12-31 21:00:00            0.732687        0.611111    0.248649  31.0   \n2016-12-31 22:00:00            0.721607        0.527778    0.167568  31.0   \n2016-12-31 23:00:00            0.711911        0.583333    0.308108  31.0   \n\n                     month  hour  area  floor  hour  season  weekend  \\\ntimestamp                                                              \n2016-01-01 00:00:00    1.0   0.0   1.0    2.0   0.0     3.0      0.0   \n2016-01-01 01:00:00    1.0   1.0   1.0    2.0   1.0     3.0      0.0   \n2016-01-01 02:00:00    1.0   2.0   1.0    2.0   2.0     3.0      0.0   \n2016-01-01 03:00:00    1.0   3.0   1.0    2.0   3.0     3.0      0.0   \n2016-01-01 04:00:00    1.0   4.0   1.0    2.0   4.0     3.0      0.0   \n...                    ...   ...   ...    ...   ...     ...      ...   \n2016-12-31 19:00:00   12.0  19.0   1.0    2.0  19.0     3.0      1.0   \n2016-12-31 20:00:00   12.0  20.0   1.0    2.0  20.0     3.0      1.0   \n2016-12-31 21:00:00   12.0  21.0   1.0    2.0  21.0     3.0      1.0   \n2016-12-31 22:00:00   12.0  22.0   1.0    2.0  22.0     3.0      1.0   \n2016-12-31 23:00:00   12.0  23.0   1.0    2.0  23.0     3.0      1.0   \n\n                     day_of_the_week  \ntimestamp                             \n2016-01-01 00:00:00              4.0  \n2016-01-01 01:00:00              4.0  \n2016-01-01 02:00:00              4.0  \n2016-01-01 03:00:00              4.0  \n2016-01-01 04:00:00              4.0  \n...                              ...  \n2016-12-31 19:00:00              5.0  \n2016-12-31 20:00:00              5.0  \n2016-12-31 21:00:00              5.0  \n2016-12-31 22:00:00              5.0  \n2016-12-31 23:00:00              5.0  \n\n[8763 rows x 15 columns]",
      "text/html": "<div>\n<style scoped>\n    .dataframe tbody tr th:only-of-type {\n        vertical-align: middle;\n    }\n\n    .dataframe tbody tr th {\n        vertical-align: top;\n    }\n\n    .dataframe thead th {\n        text-align: right;\n    }\n</style>\n<table border=\"1\" class=\"dataframe\">\n  <thead>\n    <tr style=\"text-align: right;\">\n      <th></th>\n      <th>meter_reading</th>\n      <th>air_temperature</th>\n      <th>dew_temperature</th>\n      <th>sea_level_pressure</th>\n      <th>wind_direction</th>\n      <th>wind_speed</th>\n      <th>day</th>\n      <th>month</th>\n      <th>hour</th>\n      <th>area</th>\n      <th>floor</th>\n      <th>hour</th>\n      <th>season</th>\n      <th>weekend</th>\n      <th>day_of_the_week</th>\n    </tr>\n    <tr>\n      <th>timestamp</th>\n      <th></th>\n      <th></th>\n      <th></th>\n      <th></th>\n      <th></th>\n      <th></th>\n      <th></th>\n      <th></th>\n      <th></th>\n      <th></th>\n      <th></th>\n      <th></th>\n      <th></th>\n      <th></th>\n      <th></th>\n    </tr>\n  </thead>\n  <tbody>\n    <tr>\n      <th>2016-01-01 00:00:00</th>\n      <td>0.000000</td>\n      <td>0.209239</td>\n      <td>0.381757</td>\n      <td>0.659280</td>\n      <td>0.666667</td>\n      <td>0.167568</td>\n      <td>1.0</td>\n      <td>1.0</td>\n      <td>0.0</td>\n      <td>1.0</td>\n      <td>2.0</td>\n      <td>0.0</td>\n      <td>3.0</td>\n      <td>0.0</td>\n      <td>4.0</td>\n    </tr>\n    <tr>\n      <th>2016-01-01 01:00:00</th>\n      <td>0.364635</td>\n      <td>0.206522</td>\n      <td>0.381757</td>\n      <td>0.668975</td>\n      <td>0.638889</td>\n      <td>0.140541</td>\n      <td>1.0</td>\n      <td>1.0</td>\n      <td>1.0</td>\n      <td>1.0</td>\n      <td>2.0</td>\n      <td>1.0</td>\n      <td>3.0</td>\n      <td>0.0</td>\n      <td>4.0</td>\n    </tr>\n    <tr>\n      <th>2016-01-01 02:00:00</th>\n      <td>0.369028</td>\n      <td>0.176630</td>\n      <td>0.364865</td>\n      <td>0.673130</td>\n      <td>0.000000</td>\n      <td>0.000000</td>\n      <td>1.0</td>\n      <td>1.0</td>\n      <td>2.0</td>\n      <td>1.0</td>\n      <td>2.0</td>\n      <td>2.0</td>\n      <td>3.0</td>\n      <td>0.0</td>\n      <td>4.0</td>\n    </tr>\n    <tr>\n      <th>2016-01-01 03:00:00</th>\n      <td>0.366282</td>\n      <td>0.160326</td>\n      <td>0.341216</td>\n      <td>0.678670</td>\n      <td>0.472222</td>\n      <td>0.081081</td>\n      <td>1.0</td>\n      <td>1.0</td>\n      <td>3.0</td>\n      <td>1.0</td>\n      <td>2.0</td>\n      <td>3.0</td>\n      <td>3.0</td>\n      <td>0.0</td>\n      <td>4.0</td>\n    </tr>\n    <tr>\n      <th>2016-01-01 04:00:00</th>\n      <td>0.366557</td>\n      <td>0.168478</td>\n      <td>0.361486</td>\n      <td>0.684211</td>\n      <td>0.305556</td>\n      <td>0.081081</td>\n      <td>1.0</td>\n      <td>1.0</td>\n      <td>4.0</td>\n      <td>1.0</td>\n      <td>2.0</td>\n      <td>4.0</td>\n      <td>3.0</td>\n      <td>0.0</td>\n      <td>4.0</td>\n    </tr>\n    <tr>\n      <th>...</th>\n      <td>...</td>\n      <td>...</td>\n      <td>...</td>\n      <td>...</td>\n      <td>...</td>\n      <td>...</td>\n      <td>...</td>\n      <td>...</td>\n      <td>...</td>\n      <td>...</td>\n      <td>...</td>\n      <td>...</td>\n      <td>...</td>\n      <td>...</td>\n      <td>...</td>\n    </tr>\n    <tr>\n      <th>2016-12-31 19:00:00</th>\n      <td>0.292696</td>\n      <td>0.326087</td>\n      <td>0.520270</td>\n      <td>0.750693</td>\n      <td>0.611111</td>\n      <td>0.194595</td>\n      <td>31.0</td>\n      <td>12.0</td>\n      <td>19.0</td>\n      <td>1.0</td>\n      <td>2.0</td>\n      <td>19.0</td>\n      <td>3.0</td>\n      <td>1.0</td>\n      <td>5.0</td>\n    </tr>\n    <tr>\n      <th>2016-12-31 20:00:00</th>\n      <td>0.285283</td>\n      <td>0.301630</td>\n      <td>0.506757</td>\n      <td>0.742382</td>\n      <td>0.611111</td>\n      <td>0.221622</td>\n      <td>31.0</td>\n      <td>12.0</td>\n      <td>20.0</td>\n      <td>1.0</td>\n      <td>2.0</td>\n      <td>20.0</td>\n      <td>3.0</td>\n      <td>1.0</td>\n      <td>5.0</td>\n    </tr>\n    <tr>\n      <th>2016-12-31 21:00:00</th>\n      <td>0.280066</td>\n      <td>0.293478</td>\n      <td>0.496622</td>\n      <td>0.732687</td>\n      <td>0.611111</td>\n      <td>0.248649</td>\n      <td>31.0</td>\n      <td>12.0</td>\n      <td>21.0</td>\n      <td>1.0</td>\n      <td>2.0</td>\n      <td>21.0</td>\n      <td>3.0</td>\n      <td>1.0</td>\n      <td>5.0</td>\n    </tr>\n    <tr>\n      <th>2016-12-31 22:00:00</th>\n      <td>0.275947</td>\n      <td>0.293478</td>\n      <td>0.510135</td>\n      <td>0.721607</td>\n      <td>0.527778</td>\n      <td>0.167568</td>\n      <td>31.0</td>\n      <td>12.0</td>\n      <td>22.0</td>\n      <td>1.0</td>\n      <td>2.0</td>\n      <td>22.0</td>\n      <td>3.0</td>\n      <td>1.0</td>\n      <td>5.0</td>\n    </tr>\n    <tr>\n      <th>2016-12-31 23:00:00</th>\n      <td>0.278418</td>\n      <td>0.309783</td>\n      <td>0.520270</td>\n      <td>0.711911</td>\n      <td>0.583333</td>\n      <td>0.308108</td>\n      <td>31.0</td>\n      <td>12.0</td>\n      <td>23.0</td>\n      <td>1.0</td>\n      <td>2.0</td>\n      <td>23.0</td>\n      <td>3.0</td>\n      <td>1.0</td>\n      <td>5.0</td>\n    </tr>\n  </tbody>\n</table>\n<p>8763 rows × 15 columns</p>\n</div>"
     },
     "execution_count": 24,
     "metadata": {},
     "output_type": "execute_result"
    }
   ],
   "source": [
    "pd.DataFrame(transformed_data , index=data_cleaned.index , columns= tmp_cols )"
   ]
  },
  {
   "cell_type": "code",
   "execution_count": 12,
   "id": "d369c54b-73bc-429e-b344-c72ba29234ec",
   "metadata": {},
   "outputs": [],
   "source": [
    "## creating a class for doing nothing to the dates"
   ]
  },
  {
   "cell_type": "code",
   "execution_count": 25,
   "id": "b1af0d2f-1f63-4ad0-814a-97bc4179ab8c",
   "metadata": {},
   "outputs": [],
   "source": [
    "import numpy as np , pandas as pd \n",
    "from sklearn.base import BaseEstimator, TransformerMixin\n",
    "\n",
    "class Do_nothing(BaseEstimator, TransformerMixin):\n",
    "    \n",
    "    def __init__(self): # 99 referes to none\n",
    "        return \n",
    "        \n",
    "    def fit(self, x, y=None):\n",
    "        return self  # nothing else to do\n",
    "    \n",
    "    \n",
    "    def transform(self, x):\n",
    "        return x.astype(int)"
   ]
  },
  {
   "cell_type": "code",
   "execution_count": 52,
   "id": "43945b3e-7f49-49c7-94b2-ddddc5bdfb73",
   "metadata": {},
   "outputs": [
    {
     "name": "stderr",
     "output_type": "stream",
     "text": [
      "C:\\ProgramData\\Anaconda3\\lib\\site-packages\\pandas\\core\\frame.py:4906: SettingWithCopyWarning: \n",
      "A value is trying to be set on a copy of a slice from a DataFrame\n",
      "\n",
      "See the caveats in the documentation: https://pandas.pydata.org/pandas-docs/stable/user_guide/indexing.html#returning-a-view-versus-a-copy\n",
      "  return super().drop(\n",
      "C:\\ProgramData\\Anaconda3\\lib\\site-packages\\pandas\\core\\indexing.py:1773: SettingWithCopyWarning: \n",
      "A value is trying to be set on a copy of a slice from a DataFrame.\n",
      "Try using .loc[row_indexer,col_indexer] = value instead\n",
      "\n",
      "See the caveats in the documentation: https://pandas.pydata.org/pandas-docs/stable/user_guide/indexing.html#returning-a-view-versus-a-copy\n",
      "  self._setitem_single_column(ilocs[0], value, pi)\n"
     ]
    }
   ],
   "source": [
    "from sklearn.preprocessing import MinMaxScaler \n",
    "from data_fetcher import Fetcher\n",
    "from sklearn.pipeline import Pipeline\n",
    "from sklearn.impute import SimpleImputer\n",
    "from sklearn.compose import ColumnTransformer\n",
    "\n",
    "\n",
    "fetcher= Fetcher() # to clean the data\n",
    "data_cleaned= fetcher.transform(data)\n",
    "\n",
    "numerical_pipeline = Pipeline([ ('imputer', SimpleImputer()), # to fill missing values with mean\n",
    "                                ('scaler', MinMaxScaler())\n",
    "                              ])\n",
    "\n",
    "num_attribs = ['meter_reading','air_temperature','dew_temperature','sea_level_pressure','wind_direction','wind_speed'] # columns to transform\n",
    "date_attribs=['day','month'\t,'hour']\n",
    "\n",
    "full_pipeline = ColumnTransformer([ (\"num\", numerical_pipeline, num_attribs),\n",
    "                                      (\"date\", Do_nothing() ,  date_attribs )])\n"
   ]
  },
  {
   "cell_type": "code",
   "execution_count": 53,
   "id": "98c83b2b-404e-4e35-b959-12857b90f98b",
   "metadata": {},
   "outputs": [
    {
     "data": {
      "text/html": [
       "<div>\n",
       "<style scoped>\n",
       "    .dataframe tbody tr th:only-of-type {\n",
       "        vertical-align: middle;\n",
       "    }\n",
       "\n",
       "    .dataframe tbody tr th {\n",
       "        vertical-align: top;\n",
       "    }\n",
       "\n",
       "    .dataframe thead th {\n",
       "        text-align: right;\n",
       "    }\n",
       "</style>\n",
       "<table border=\"1\" class=\"dataframe\">\n",
       "  <thead>\n",
       "    <tr style=\"text-align: right;\">\n",
       "      <th></th>\n",
       "      <th>meter_reading</th>\n",
       "      <th>air_temperature</th>\n",
       "      <th>dew_temperature</th>\n",
       "      <th>sea_level_pressure</th>\n",
       "      <th>wind_direction</th>\n",
       "      <th>wind_speed</th>\n",
       "      <th>day</th>\n",
       "      <th>month</th>\n",
       "      <th>hour</th>\n",
       "    </tr>\n",
       "    <tr>\n",
       "      <th>timestamp</th>\n",
       "      <th></th>\n",
       "      <th></th>\n",
       "      <th></th>\n",
       "      <th></th>\n",
       "      <th></th>\n",
       "      <th></th>\n",
       "      <th></th>\n",
       "      <th></th>\n",
       "      <th></th>\n",
       "    </tr>\n",
       "  </thead>\n",
       "  <tbody>\n",
       "    <tr>\n",
       "      <th>2016-01-01 00:00:00</th>\n",
       "      <td>0.000000</td>\n",
       "      <td>0.209239</td>\n",
       "      <td>0.381757</td>\n",
       "      <td>0.659280</td>\n",
       "      <td>0.666667</td>\n",
       "      <td>0.167568</td>\n",
       "      <td>1.0</td>\n",
       "      <td>1.0</td>\n",
       "      <td>0.0</td>\n",
       "    </tr>\n",
       "    <tr>\n",
       "      <th>2016-01-01 01:00:00</th>\n",
       "      <td>0.364635</td>\n",
       "      <td>0.206522</td>\n",
       "      <td>0.381757</td>\n",
       "      <td>0.668975</td>\n",
       "      <td>0.638889</td>\n",
       "      <td>0.140541</td>\n",
       "      <td>1.0</td>\n",
       "      <td>1.0</td>\n",
       "      <td>1.0</td>\n",
       "    </tr>\n",
       "    <tr>\n",
       "      <th>2016-01-01 02:00:00</th>\n",
       "      <td>0.369028</td>\n",
       "      <td>0.176630</td>\n",
       "      <td>0.364865</td>\n",
       "      <td>0.673130</td>\n",
       "      <td>0.000000</td>\n",
       "      <td>0.000000</td>\n",
       "      <td>1.0</td>\n",
       "      <td>1.0</td>\n",
       "      <td>2.0</td>\n",
       "    </tr>\n",
       "    <tr>\n",
       "      <th>2016-01-01 03:00:00</th>\n",
       "      <td>0.366282</td>\n",
       "      <td>0.160326</td>\n",
       "      <td>0.341216</td>\n",
       "      <td>0.678670</td>\n",
       "      <td>0.472222</td>\n",
       "      <td>0.081081</td>\n",
       "      <td>1.0</td>\n",
       "      <td>1.0</td>\n",
       "      <td>3.0</td>\n",
       "    </tr>\n",
       "    <tr>\n",
       "      <th>2016-01-01 04:00:00</th>\n",
       "      <td>0.366557</td>\n",
       "      <td>0.168478</td>\n",
       "      <td>0.361486</td>\n",
       "      <td>0.684211</td>\n",
       "      <td>0.305556</td>\n",
       "      <td>0.081081</td>\n",
       "      <td>1.0</td>\n",
       "      <td>1.0</td>\n",
       "      <td>4.0</td>\n",
       "    </tr>\n",
       "  </tbody>\n",
       "</table>\n",
       "</div>"
      ],
      "text/plain": [
       "                     meter_reading  air_temperature  dew_temperature  \\\n",
       "timestamp                                                              \n",
       "2016-01-01 00:00:00       0.000000         0.209239         0.381757   \n",
       "2016-01-01 01:00:00       0.364635         0.206522         0.381757   \n",
       "2016-01-01 02:00:00       0.369028         0.176630         0.364865   \n",
       "2016-01-01 03:00:00       0.366282         0.160326         0.341216   \n",
       "2016-01-01 04:00:00       0.366557         0.168478         0.361486   \n",
       "\n",
       "                     sea_level_pressure  wind_direction  wind_speed  day  \\\n",
       "timestamp                                                                  \n",
       "2016-01-01 00:00:00            0.659280        0.666667    0.167568  1.0   \n",
       "2016-01-01 01:00:00            0.668975        0.638889    0.140541  1.0   \n",
       "2016-01-01 02:00:00            0.673130        0.000000    0.000000  1.0   \n",
       "2016-01-01 03:00:00            0.678670        0.472222    0.081081  1.0   \n",
       "2016-01-01 04:00:00            0.684211        0.305556    0.081081  1.0   \n",
       "\n",
       "                     month  hour  \n",
       "timestamp                         \n",
       "2016-01-01 00:00:00    1.0   0.0  \n",
       "2016-01-01 01:00:00    1.0   1.0  \n",
       "2016-01-01 02:00:00    1.0   2.0  \n",
       "2016-01-01 03:00:00    1.0   3.0  \n",
       "2016-01-01 04:00:00    1.0   4.0  "
      ]
     },
     "execution_count": 53,
     "metadata": {},
     "output_type": "execute_result"
    }
   ],
   "source": [
    "transformed_data = full_pipeline.fit_transform(data_cleaned)\n",
    "pd.DataFrame(transformed_data , index=data_cleaned.index , columns= data_cleaned.columns ).head()"
   ]
  }
 ],
 "metadata": {
  "kernelspec": {
   "display_name": "Python 3 (ipykernel)",
   "language": "python",
   "name": "python3"
  },
  "language_info": {
   "codemirror_mode": {
    "name": "ipython",
    "version": 3
   },
   "file_extension": ".py",
   "mimetype": "text/x-python",
   "name": "python",
   "nbconvert_exporter": "python",
   "pygments_lexer": "ipython3",
   "version": "3.8.8"
  }
 },
 "nbformat": 4,
 "nbformat_minor": 5
}