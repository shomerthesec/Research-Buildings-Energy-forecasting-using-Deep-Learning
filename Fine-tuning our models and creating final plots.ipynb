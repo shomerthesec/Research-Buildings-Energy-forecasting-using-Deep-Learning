{
 "cells": [
  {
   "cell_type": "code",
   "execution_count": 1,
   "metadata": {
    "collapsed": false,
    "pycharm": {
     "name": "#%%\n"
    }
   },
   "outputs": [],
   "source": [
    "\n",
    "import matplotlib.pyplot as plt\n",
    "import numpy as np\n",
    "import pandas as pd\n",
    "from data_pipeline import transformation_pipeline\n",
    "from sklearn.model_selection import train_test_split\n",
    "import tensorflow as tf\n",
    "tf.random.set_seed(2111)"
   ]
  },
  {
   "cell_type": "code",
   "execution_count": 2,
   "metadata": {
    "collapsed": false,
    "pycharm": {
     "name": "#%%\n"
    }
   },
   "outputs": [],
   "source": [
    "\n",
    "data = pd.read_csv('content/preprocessed_train.csv')\n",
    "\n",
    "# let's pick the data wiht primary_use==0\n",
    "data = data.query('primary_use==0 & meter==0')"
   ]
  },
  {
   "cell_type": "code",
   "execution_count": 3,
   "metadata": {
    "collapsed": false,
    "pycharm": {
     "name": "#%%\n"
    }
   },
   "outputs": [],
   "source": [
    "b_id = [118, 646, 125]"
   ]
  },
  {
   "cell_type": "code",
   "execution_count": 4,
   "metadata": {
    "collapsed": false,
    "pycharm": {
     "name": "#%%\n"
    }
   },
   "outputs": [],
   "source": [
    "def plot_output(actual, predicted, title, building_idx, avg_loss, avg_rmse):\n",
    "    fig, (ax1, ax2, ax) = plt.subplots(3, 1,  figsize=(30, 15), sharex=True)\n",
    "\n",
    "    fig.suptitle(\n",
    "        f'{title} model for building {building_idx}\\nmse={avg_loss:.5f}\\nrmse={avg_rmse:.5f}', fontsize=24)\n",
    "\n",
    "    ax1.plot(range(len(actual)),\n",
    "             predicted,\n",
    "             color='green', linestyle='dashed')\n",
    "    ax1.set_title('Predicted')\n",
    "    ax1.set_ylim(0, 1)\n",
    "\n",
    "    ax2.plot(range(len(actual)),\n",
    "             actual,\n",
    "             color='red', label='Actual')\n",
    "    ax2.set_title('Actual')\n",
    "    ax2.set_ylim(0, 1)\n",
    "\n",
    "    ax.plot(range(len(actual)),\n",
    "            predicted,\n",
    "            color='green', linestyle='dashed',\n",
    "            label='Predicted')\n",
    "\n",
    "    ax.plot(range(len(actual)),\n",
    "            actual,\n",
    "            color='red',\n",
    "            label='actual')\n",
    "    ax.set_ylim(0, 1)\n",
    "    plt.legend()\n",
    "    plt.show()\n",
    "    fig.savefig(\n",
    "        f'Final Plots for the research/tune on 20/{title} model -- building {building_idx} -- mse {avg_loss:.5f} -- rmse {avg_rmse:.5f}.png')\n",
    "\n",
    "# %%\n",
    "\n",
    "# function to laod certain building id\n",
    "\n",
    "\n",
    "def loading_data(idx, train_size):\n",
    "    pipeline, data_cleaned = transformation_pipeline(\n",
    "        data, building_id=idx, meter=0, primary_use=0)\n",
    "\n",
    "    train, test = train_test_split(data_cleaned,\n",
    "                                   # [:, 1:],\n",
    "                                   #transformed_data[:, 0],\n",
    "                                   train_size=train_size,\n",
    "                                   shuffle=False,\n",
    "                                   random_state=2021)\n",
    "\n",
    "    train_data = pipeline.fit_transform(train)\n",
    "    test_data = pipeline.transform(test)\n",
    "\n",
    "    x_train, y_train = train_data[:, 1:], train_data[:, 0]\n",
    "\n",
    "    x_val, y_val = test_data[:, 1:], test_data[:, 0]\n",
    "\n",
    "    train_gen = tf.keras.preprocessing.sequence.TimeseriesGenerator(x_train,\n",
    "                                                                    y_train,\n",
    "                                                            length=6, sampling_rate=1,\n",
    "                                                             stride=1,\n",
    "                                                             batch_size=32,\n",
    "                                                                shuffle=False)\n",
    "\n",
    "    val_gen = tf.keras.preprocessing.sequence.TimeseriesGenerator(x_val,\n",
    "                                                                  y_val,\n",
    "                                                      length=6, sampling_rate=1,\n",
    "                                                      stride=1, batch_size=350,\n",
    "                                                      shuffle=False\n",
    "                                                      )\n",
    "    return train_gen, val_gen[0]"
   ]
  },
  {
   "cell_type": "code",
   "execution_count": 5,
   "metadata": {
    "collapsed": false,
    "pycharm": {
     "name": "#%%\n"
    }
   },
   "outputs": [
    {
     "name": "stdout",
     "output_type": "stream",
     "text": [
      "Transformer Model \n",
      "building: 118 \n",
      "mse= 0.00936779126558001 \n",
      "rmse] 0.0967873507519449 \n",
      "mape= 0.19034668517437536\n",
      "----------\n",
      "GRU Model \n",
      "building: 118 \n",
      "mse= 0.008136873175614814 \n",
      "rmse] 0.09020461837187059 \n",
      "mape= 0.15619631910260892\n",
      "----------\n",
      "LSTM Model \n",
      "building: 118 \n",
      "mse= 0.015584076218718955 \n",
      "rmse] 0.12483619754990519 \n",
      "mape= 0.26039965990744396\n",
      "----------\n",
      "RNN Model \n",
      "building: 118 \n",
      "mse= 0.048006197682977 \n",
      "rmse] 0.2191031667570713 \n",
      "mape= 0.4423555671118504\n",
      "----------\n",
      "Transformer Model \n",
      "building: 646 \n",
      "mse= 0.035827769834770325 \n",
      "rmse] 0.18928224912751412 \n",
      "mape= 924770065717.572\n",
      "----------\n",
      "GRU Model \n",
      "building: 646 \n",
      "mse= 0.017834408565941193 \n",
      "rmse] 0.13354552993620264 \n",
      "mape= 1026355624199.8346\n",
      "----------\n",
      "LSTM Model \n",
      "building: 646 \n",
      "mse= 0.028449453736345803 \n",
      "rmse] 0.16866965861216948 \n",
      "mape= 1221226879529.9912\n",
      "----------\n",
      "RNN Model \n",
      "building: 646 \n",
      "mse= 0.09469632810814715 \n",
      "rmse] 0.30772768498811925 \n",
      "mape= 295408602273.69604\n",
      "----------\n",
      "Transformer Model \n",
      "building: 125 \n",
      "mse= 0.012138896823412931 \n",
      "rmse] 0.11017666188178389 \n",
      "mape= 0.15256378198610557\n",
      "----------\n",
      "GRU Model \n",
      "building: 125 \n",
      "mse= 0.013537311289596014 \n",
      "rmse] 0.11634995182463985 \n",
      "mape= 0.167884464184542\n",
      "----------\n",
      "LSTM Model \n",
      "building: 125 \n",
      "mse= 0.04319672282927244 \n",
      "rmse] 0.20783821311123815 \n",
      "mape= 0.3100814228810054\n",
      "----------\n",
      "RNN Model \n",
      "building: 125 \n",
      "mse= 0.06392148293111292 \n",
      "rmse] 0.252826982205446 \n",
      "mape= 0.3754554232210037\n",
      "----------\n"
     ]
    }
   ],
   "source": [
    "pd.options.mode.chained_assignment = None\n",
    "# %% loading models to evaluate them on new data\n",
    "import time\n",
    "models = ['models/Transformer_adam',\n",
    "          'models/GRU_ADAM',\n",
    "          'models/LSTM_ADAM',\n",
    "          'models/RNN_ADAM']\n",
    "finetuning_data = {}\n",
    "for building_idx in b_id:\n",
    "    train_gen, test_gen = loading_data(building_idx, 0.2)\n",
    "    finetuning_data[building_idx] = {}\n",
    "    for model_address in models:\n",
    "        predicted = np.array([])\n",
    "        actual = np.array([])\n",
    "\n",
    "        txt = model_address.split('/')[1].split('_')[0]\n",
    "\n",
    "        finetuning_data[building_idx][txt] = []\n",
    "\n",
    "        model = tf.keras.models.load_model(model_address)\n",
    "\n",
    "       # start_time = time.time()\n",
    "\n",
    "        model.fit(train_gen, epochs=15, verbose=False)\n",
    "       # time_taken = time.time() - start_time\n",
    "       # print(f\"model {txt} took {time.time() - start_time} seconds\")\n",
    "\n",
    "        predicted = np.append(predicted, model.predict(test_gen[0]))\n",
    "        actual = np.append(actual, test_gen[1])\n",
    "\n",
    "        avg_mse = np.mean((actual - predicted)**2)\n",
    "        avg_rmse = np.sqrt(np.mean((actual - predicted)**2))\n",
    "\n",
    "        #finetuning_data[building_idx][txt].append(\n",
    "        #    (avg_mse, avg_rmse, time_taken))\n",
    "\n",
    "        mape= np.mean(np.abs(np.divide((predicted - actual),(actual + 1e-15))))\n",
    "\n",
    "        print(f'{txt} Model \\nbuilding: {building_idx} \\nmse= {avg_mse} \\nrmse] {avg_rmse} \\nmape= {mape}\\n----------')\n",
    "\n",
    "        #plot_output(actual, predicted, txt, building_idx, avg_mse, avg_rmse)"
   ]
  },
  {
   "cell_type": "code",
   "execution_count": 6,
   "metadata": {
    "collapsed": false,
    "pycharm": {
     "name": "#%%\n"
    }
   },
   "outputs": [],
   "source": [
    "# transformer, gru, lstm,rnn = [], [], [],[]\n",
    "# for building_idx in b_id:\n",
    "\n",
    "#     x, y, z,r = finetuning_data[building_idx].values()\n",
    "#     transformer.append(x)\n",
    "#     gru.append(y)\n",
    "#     lstm.append(z)\n",
    "#     rnn.append(r)\n",
    "# # %%\n",
    "# mse, rmse, t = [], [], []\n",
    "# for d in [transformer, gru, lstm,rnn]:\n",
    "#     for i in range(3):\n",
    "\n",
    "#         mse.append(d[i][0][0])\n",
    "#         rmse.append(d[i][0][1])\n",
    "#         t.append(d[i][0][2])\n",
    "\n",
    "#     d.append([np.mean(mse), np.mean(rmse), np.mean(t)])\n",
    "\n",
    "# # %%\n",
    "# for d, n in zip([transformer, gru, lstm,rnn], ['transformer', 'gru',\n",
    "#                                                'lstm','rnn']):\n",
    "#     print(f'--- {n} ---')\n",
    "#     print(' mse \\t rmse \\t time')\n",
    "#     print(f'{d[3][0]:0.4f}\\t{d[3][1]:0.4f}\\t{d[3][2]:0.4f}')"
   ]
  },
  {
   "cell_type": "code",
   "execution_count": null,
   "metadata": {
    "collapsed": false,
    "pycharm": {
     "name": "#%%\n"
    }
   },
   "outputs": [],
   "source": []
  }
 ],
 "metadata": {
  "kernelspec": {
   "display_name": "Python 3",
   "language": "python",
   "name": "python3"
  },
  "language_info": {
   "codemirror_mode": {
    "name": "ipython",
    "version": 3
   },
   "file_extension": ".py",
   "mimetype": "text/x-python",
   "name": "python",
   "nbconvert_exporter": "python",
   "pygments_lexer": "ipython3",
   "version": "3.7.11"
  }
 },
 "nbformat": 4,
 "nbformat_minor": 0
}
