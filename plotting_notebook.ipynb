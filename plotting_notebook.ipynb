{
 "cells": [
  {
   "cell_type": "code",
   "execution_count": 1,
   "metadata": {},
   "outputs": [],
   "source": [
    "import pandas as pd, matplotlib.pyplot as plt, numpy as np"
   ]
  },
  {
   "cell_type": "code",
   "execution_count": 3,
   "metadata": {},
   "outputs": [
    {
     "name": "stderr",
     "output_type": "stream",
     "text": [
      "C:\\Users\\shomer\\anaconda3\\lib\\site-packages\\numpy\\lib\\arraysetops.py:583: FutureWarning: elementwise comparison failed; returning scalar instead, but in the future will perform elementwise comparison\n",
      "  mask |= (ar1 == a)\n"
     ]
    }
   ],
   "source": [
    "df= pd.read_csv('content/preprocessed_train.csv', index_col=0)"
   ]
  },
  {
   "cell_type": "code",
   "execution_count": 4,
   "metadata": {},
   "outputs": [
    {
     "data": {
      "text/html": [
       "<div>\n",
       "<style scoped>\n",
       "    .dataframe tbody tr th:only-of-type {\n",
       "        vertical-align: middle;\n",
       "    }\n",
       "\n",
       "    .dataframe tbody tr th {\n",
       "        vertical-align: top;\n",
       "    }\n",
       "\n",
       "    .dataframe thead th {\n",
       "        text-align: right;\n",
       "    }\n",
       "</style>\n",
       "<table border=\"1\" class=\"dataframe\">\n",
       "  <thead>\n",
       "    <tr style=\"text-align: right;\">\n",
       "      <th></th>\n",
       "      <th>building_id</th>\n",
       "      <th>meter</th>\n",
       "      <th>timestamp</th>\n",
       "      <th>meter_reading</th>\n",
       "      <th>site_id</th>\n",
       "      <th>primary_use</th>\n",
       "      <th>square_feet</th>\n",
       "      <th>floor</th>\n",
       "      <th>area</th>\n",
       "      <th>air_temperature</th>\n",
       "      <th>cloud_coverage</th>\n",
       "      <th>dew_temperature</th>\n",
       "      <th>precip_depth_1_hr</th>\n",
       "      <th>sea_level_pressure</th>\n",
       "      <th>wind_direction</th>\n",
       "      <th>wind_speed</th>\n",
       "      <th>day</th>\n",
       "      <th>month</th>\n",
       "      <th>hour</th>\n",
       "    </tr>\n",
       "  </thead>\n",
       "  <tbody>\n",
       "    <tr>\n",
       "      <th>0</th>\n",
       "      <td>105</td>\n",
       "      <td>0</td>\n",
       "      <td>2016-01-01 00:00:00</td>\n",
       "      <td>23.3036</td>\n",
       "      <td>1</td>\n",
       "      <td>0</td>\n",
       "      <td>50623</td>\n",
       "      <td>1</td>\n",
       "      <td>1</td>\n",
       "      <td>3.8</td>\n",
       "      <td>NaN</td>\n",
       "      <td>2.4</td>\n",
       "      <td>NaN</td>\n",
       "      <td>1020.9</td>\n",
       "      <td>240.0</td>\n",
       "      <td>3.1</td>\n",
       "      <td>1</td>\n",
       "      <td>1</td>\n",
       "      <td>0</td>\n",
       "    </tr>\n",
       "    <tr>\n",
       "      <th>1</th>\n",
       "      <td>106</td>\n",
       "      <td>0</td>\n",
       "      <td>2016-01-01 00:00:00</td>\n",
       "      <td>0.3746</td>\n",
       "      <td>1</td>\n",
       "      <td>0</td>\n",
       "      <td>5374</td>\n",
       "      <td>1</td>\n",
       "      <td>0</td>\n",
       "      <td>3.8</td>\n",
       "      <td>NaN</td>\n",
       "      <td>2.4</td>\n",
       "      <td>NaN</td>\n",
       "      <td>1020.9</td>\n",
       "      <td>240.0</td>\n",
       "      <td>3.1</td>\n",
       "      <td>1</td>\n",
       "      <td>1</td>\n",
       "      <td>0</td>\n",
       "    </tr>\n",
       "    <tr>\n",
       "      <th>3</th>\n",
       "      <td>107</td>\n",
       "      <td>0</td>\n",
       "      <td>2016-01-01 00:00:00</td>\n",
       "      <td>175.1840</td>\n",
       "      <td>1</td>\n",
       "      <td>0</td>\n",
       "      <td>97532</td>\n",
       "      <td>2</td>\n",
       "      <td>2</td>\n",
       "      <td>3.8</td>\n",
       "      <td>NaN</td>\n",
       "      <td>2.4</td>\n",
       "      <td>NaN</td>\n",
       "      <td>1020.9</td>\n",
       "      <td>240.0</td>\n",
       "      <td>3.1</td>\n",
       "      <td>1</td>\n",
       "      <td>1</td>\n",
       "      <td>0</td>\n",
       "    </tr>\n",
       "    <tr>\n",
       "      <th>4</th>\n",
       "      <td>108</td>\n",
       "      <td>0</td>\n",
       "      <td>2016-01-01 00:00:00</td>\n",
       "      <td>91.2653</td>\n",
       "      <td>1</td>\n",
       "      <td>0</td>\n",
       "      <td>81580</td>\n",
       "      <td>1</td>\n",
       "      <td>1</td>\n",
       "      <td>3.8</td>\n",
       "      <td>NaN</td>\n",
       "      <td>2.4</td>\n",
       "      <td>NaN</td>\n",
       "      <td>1020.9</td>\n",
       "      <td>240.0</td>\n",
       "      <td>3.1</td>\n",
       "      <td>1</td>\n",
       "      <td>1</td>\n",
       "      <td>0</td>\n",
       "    </tr>\n",
       "    <tr>\n",
       "      <th>5</th>\n",
       "      <td>109</td>\n",
       "      <td>0</td>\n",
       "      <td>2016-01-01 00:00:00</td>\n",
       "      <td>80.9300</td>\n",
       "      <td>1</td>\n",
       "      <td>0</td>\n",
       "      <td>56995</td>\n",
       "      <td>2</td>\n",
       "      <td>1</td>\n",
       "      <td>3.8</td>\n",
       "      <td>NaN</td>\n",
       "      <td>2.4</td>\n",
       "      <td>NaN</td>\n",
       "      <td>1020.9</td>\n",
       "      <td>240.0</td>\n",
       "      <td>3.1</td>\n",
       "      <td>1</td>\n",
       "      <td>1</td>\n",
       "      <td>0</td>\n",
       "    </tr>\n",
       "  </tbody>\n",
       "</table>\n",
       "</div>"
      ],
      "text/plain": [
       "   building_id  meter            timestamp  meter_reading  site_id  \\\n",
       "0          105      0  2016-01-01 00:00:00        23.3036        1   \n",
       "1          106      0  2016-01-01 00:00:00         0.3746        1   \n",
       "3          107      0  2016-01-01 00:00:00       175.1840        1   \n",
       "4          108      0  2016-01-01 00:00:00        91.2653        1   \n",
       "5          109      0  2016-01-01 00:00:00        80.9300        1   \n",
       "\n",
       "   primary_use  square_feet  floor  area  air_temperature  cloud_coverage  \\\n",
       "0            0        50623      1     1              3.8             NaN   \n",
       "1            0         5374      1     0              3.8             NaN   \n",
       "3            0        97532      2     2              3.8             NaN   \n",
       "4            0        81580      1     1              3.8             NaN   \n",
       "5            0        56995      2     1              3.8             NaN   \n",
       "\n",
       "   dew_temperature  precip_depth_1_hr  sea_level_pressure  wind_direction  \\\n",
       "0              2.4                NaN              1020.9           240.0   \n",
       "1              2.4                NaN              1020.9           240.0   \n",
       "3              2.4                NaN              1020.9           240.0   \n",
       "4              2.4                NaN              1020.9           240.0   \n",
       "5              2.4                NaN              1020.9           240.0   \n",
       "\n",
       "   wind_speed  day  month  hour  \n",
       "0         3.1    1      1     0  \n",
       "1         3.1    1      1     0  \n",
       "3         3.1    1      1     0  \n",
       "4         3.1    1      1     0  \n",
       "5         3.1    1      1     0  "
      ]
     },
     "execution_count": 4,
     "metadata": {},
     "output_type": "execute_result"
    }
   ],
   "source": [
    "df.head()"
   ]
  },
  {
   "cell_type": "code",
   "execution_count": 7,
   "metadata": {},
   "outputs": [
    {
     "name": "stdout",
     "output_type": "stream",
     "text": [
      "<class 'pandas.core.frame.DataFrame'>\n",
      "Int64Index: 3166112 entries, 0 to 3495552\n",
      "Data columns (total 19 columns):\n",
      " #   Column              Dtype  \n",
      "---  ------              -----  \n",
      " 0   building_id         int64  \n",
      " 1   meter               int64  \n",
      " 2   timestamp           object \n",
      " 3   meter_reading       float64\n",
      " 4   site_id             int64  \n",
      " 5   primary_use         int64  \n",
      " 6   square_feet         int64  \n",
      " 7   floor               int64  \n",
      " 8   area                int64  \n",
      " 9   air_temperature     float64\n",
      " 10  cloud_coverage      float64\n",
      " 11  dew_temperature     float64\n",
      " 12  precip_depth_1_hr   float64\n",
      " 13  sea_level_pressure  float64\n",
      " 14  wind_direction      float64\n",
      " 15  wind_speed          float64\n",
      " 16  day                 int64  \n",
      " 17  month               int64  \n",
      " 18  hour                int64  \n",
      "dtypes: float64(8), int64(10), object(1)\n",
      "memory usage: 483.1+ MB\n"
     ]
    }
   ],
   "source": [
    "df.info()"
   ]
  },
  {
   "cell_type": "code",
   "execution_count": 9,
   "metadata": {},
   "outputs": [
    {
     "name": "stderr",
     "output_type": "stream",
     "text": [
      "C:\\Users\\shomer\\anaconda3\\lib\\site-packages\\pandas\\core\\indexing.py:1773: SettingWithCopyWarning: \n",
      "A value is trying to be set on a copy of a slice from a DataFrame.\n",
      "Try using .loc[row_indexer,col_indexer] = value instead\n",
      "\n",
      "See the caveats in the documentation: https://pandas.pydata.org/pandas-docs/stable/user_guide/indexing.html#returning-a-view-versus-a-copy\n",
      "  self._setitem_single_column(ilocs[0], value, pi)\n"
     ]
    }
   ],
   "source": [
    "df= df[(df['building_id']==122)&(df['meter']==0)]\n",
    "df.loc[:, \"timestamp\"] = pd.to_datetime(df.loc[:, \"timestamp\"])"
   ]
  },
  {
   "cell_type": "code",
   "execution_count": 11,
   "metadata": {},
   "outputs": [],
   "source": [
    "df= df.set_index('timestamp')"
   ]
  },
  {
   "cell_type": "markdown",
   "metadata": {},
   "source": [
    "plotting 1 week"
   ]
  },
  {
   "cell_type": "code",
   "execution_count": 32,
   "metadata": {},
   "outputs": [],
   "source": [
    "y= df.iloc[1:168].meter_reading\n",
    "x= range(1,168)"
   ]
  },
  {
   "cell_type": "code",
   "execution_count": 67,
   "metadata": {},
   "outputs": [
    {
     "data": {
      "text/plain": [
       "(array([220., 240., 260., 280., 300., 320., 340., 360., 380.]),\n",
       " [Text(0, 0, ''),\n",
       "  Text(0, 0, ''),\n",
       "  Text(0, 0, ''),\n",
       "  Text(0, 0, ''),\n",
       "  Text(0, 0, ''),\n",
       "  Text(0, 0, ''),\n",
       "  Text(0, 0, ''),\n",
       "  Text(0, 0, ''),\n",
       "  Text(0, 0, '')])"
      ]
     },
     "execution_count": 67,
     "metadata": {},
     "output_type": "execute_result"
    },
    {
     "data": {
      "image/png": "[encoded data removed]",
      "text/plain": [
       "<Figure size 720x360 with 1 Axes>"
      ]
     },
     "metadata": {
      "needs_background": "light"
     },
     "output_type": "display_data"
    }
   ],
   "source": [
    "fig, ax= plt.subplots(1,1, figsize=(10,5)) \n",
    "\n",
    "ax.plot( y , color='green', marker='o', linestyle='-',\n",
    "     linewidth=1, markersize=5 )\n",
    "\n",
    "ax.set_title('1 Week Load Demand',fontsize=20 )\n",
    "ax.set_xlabel('Day' ,fontsize=15)\n",
    "ax.set_ylabel('Load' ,fontsize=15)\n",
    "\n",
    "plt.xticks(rotation = 45, fontsize=8)\n",
    "plt.yticks(fontsize=8)"
   ]
  },
  {
   "cell_type": "code",
   "execution_count": null,
   "metadata": {},
   "outputs": [],
   "source": []
  }
 ],
 "metadata": {
  "interpreter": {
   "hash": "fe80f4a3550e9e7d818933b6d30b28ac2c4ab0cf50bb7c60114a4f9ffb7261c6"
  },
  "kernelspec": {
   "display_name": "Python 3.7.11 ('base')",
   "language": "python",
   "name": "python3"
  },
  "language_info": {
   "codemirror_mode": {
    "name": "ipython",
    "version": 3
   },
   "file_extension": ".py",
   "mimetype": "text/x-python",
   "name": "python",
   "nbconvert_exporter": "python",
   "pygments_lexer": "ipython3",
   "version": "3.7.11"
  },
  "orig_nbformat": 4
 },
 "nbformat": 4,
 "nbformat_minor": 2
}
