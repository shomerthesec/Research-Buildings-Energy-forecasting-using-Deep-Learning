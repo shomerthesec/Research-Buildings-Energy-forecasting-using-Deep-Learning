{
 "cells": [
  {
   "cell_type": "code",
   "execution_count": 1,
   "id": "131ac50f-3ea3-4c48-8e5b-9d21319be60d",
   "metadata": {},
   "outputs": [],
   "source": [
    "import numpy as np , pandas as pd \n",
    "from sklearn.base import BaseEstimator, TransformerMixin"
   ]
  },
  {
   "cell_type": "code",
   "execution_count": 2,
   "id": "bf9d22c5-21be-4f66-a392-6e71e30c07aa",
   "metadata": {},
   "outputs": [],
   "source": [
    "data = pd.read_csv('content/preprocessed_train.csv')"
   ]
  },
  {
   "cell_type": "code",
   "execution_count": 4,
   "outputs": [
    {
     "data": {
      "text/plain": "          Unnamed: 0  building_id  meter            timestamp  meter_reading  \\\n0             146446            7      1  2016-02-29 09:00:00      1857.2600   \n1             146449            9      1  2016-02-29 09:00:00       590.9450   \n2             146454           13      1  2016-02-29 09:00:00      1224.1000   \n3             146456           14      1  2016-02-29 09:00:00      1435.1500   \n4             146458           15      1  2016-02-29 09:00:00       422.1040   \n...              ...          ...    ...                  ...            ...   \n13362281    20125600         1400      1  2016-03-24 12:00:00        15.3753   \n13362282    20125601         1400      1  2016-03-24 13:00:00        25.0848   \n13362283    20125602         1400      1  2016-03-24 14:00:00        32.3439   \n13362284    20125603         1400      1  2016-03-24 15:00:00        24.2214   \n13362285    20125604         1400      1  2016-03-24 16:00:00        16.3553   \n\n          site_id  primary_use  square_feet  air_temperature  cloud_coverage  \\\n0               0            0       121074             12.8             NaN   \n1               0            6        27000             12.8             NaN   \n2               0            0        99380             12.8             NaN   \n3               0            0        86250             12.8             NaN   \n4               0            6        83957             12.8             NaN   \n...           ...          ...          ...              ...             ...   \n13362281       15            4        21168              1.7             NaN   \n13362282       15            4        21168              2.8             NaN   \n13362283       15            4        21168              5.6             NaN   \n13362284       15            4        21168             11.1             NaN   \n13362285       15            4        21168             15.0             4.0   \n\n          dew_temperature  precip_depth_1_hr  sea_level_pressure  \\\n0                     8.9                0.0              1021.9   \n1                     8.9                0.0              1021.9   \n2                     8.9                0.0              1021.9   \n3                     8.9                0.0              1021.9   \n4                     8.9                0.0              1021.9   \n...                   ...                ...                 ...   \n13362281              1.7                NaN              1016.8   \n13362282              2.2                NaN              1016.6   \n13362283              4.4                NaN              1015.2   \n13362284              4.4                NaN              1013.9   \n13362285              4.4                NaN              1012.0   \n\n          wind_direction  wind_speed  day  month  hour  \n0                    0.0         0.0   29      2     9  \n1                    0.0         0.0   29      2     9  \n2                    0.0         0.0   29      2     9  \n3                    0.0         0.0   29      2     9  \n4                    0.0         0.0   29      2     9  \n...                  ...         ...  ...    ...   ...  \n13362281             0.0         0.0   24      3    12  \n13362282           320.0         1.5   24      3    13  \n13362283           110.0         2.1   24      3    14  \n13362284           150.0         5.1   24      3    15  \n13362285           160.0         8.2   24      3    16  \n\n[13362286 rows x 18 columns]",
      "text/html": "<div>\n<style scoped>\n    .dataframe tbody tr th:only-of-type {\n        vertical-align: middle;\n    }\n\n    .dataframe tbody tr th {\n        vertical-align: top;\n    }\n\n    .dataframe thead th {\n        text-align: right;\n    }\n</style>\n<table border=\"1\" class=\"dataframe\">\n  <thead>\n    <tr style=\"text-align: right;\">\n      <th></th>\n      <th>Unnamed: 0</th>\n      <th>building_id</th>\n      <th>meter</th>\n      <th>timestamp</th>\n      <th>meter_reading</th>\n      <th>site_id</th>\n      <th>primary_use</th>\n      <th>square_feet</th>\n      <th>air_temperature</th>\n      <th>cloud_coverage</th>\n      <th>dew_temperature</th>\n      <th>precip_depth_1_hr</th>\n      <th>sea_level_pressure</th>\n      <th>wind_direction</th>\n      <th>wind_speed</th>\n      <th>day</th>\n      <th>month</th>\n      <th>hour</th>\n    </tr>\n  </thead>\n  <tbody>\n    <tr>\n      <th>0</th>\n      <td>146446</td>\n      <td>7</td>\n      <td>1</td>\n      <td>2016-02-29 09:00:00</td>\n      <td>1857.2600</td>\n      <td>0</td>\n      <td>0</td>\n      <td>121074</td>\n      <td>12.8</td>\n      <td>NaN</td>\n      <td>8.9</td>\n      <td>0.0</td>\n      <td>1021.9</td>\n      <td>0.0</td>\n      <td>0.0</td>\n      <td>29</td>\n      <td>2</td>\n      <td>9</td>\n    </tr>\n    <tr>\n      <th>1</th>\n      <td>146449</td>\n      <td>9</td>\n      <td>1</td>\n      <td>2016-02-29 09:00:00</td>\n      <td>590.9450</td>\n      <td>0</td>\n      <td>6</td>\n      <td>27000</td>\n      <td>12.8</td>\n      <td>NaN</td>\n      <td>8.9</td>\n      <td>0.0</td>\n      <td>1021.9</td>\n      <td>0.0</td>\n      <td>0.0</td>\n      <td>29</td>\n      <td>2</td>\n      <td>9</td>\n    </tr>\n    <tr>\n      <th>2</th>\n      <td>146454</td>\n      <td>13</td>\n      <td>1</td>\n      <td>2016-02-29 09:00:00</td>\n      <td>1224.1000</td>\n      <td>0</td>\n      <td>0</td>\n      <td>99380</td>\n      <td>12.8</td>\n      <td>NaN</td>\n      <td>8.9</td>\n      <td>0.0</td>\n      <td>1021.9</td>\n      <td>0.0</td>\n      <td>0.0</td>\n      <td>29</td>\n      <td>2</td>\n      <td>9</td>\n    </tr>\n    <tr>\n      <th>3</th>\n      <td>146456</td>\n      <td>14</td>\n      <td>1</td>\n      <td>2016-02-29 09:00:00</td>\n      <td>1435.1500</td>\n      <td>0</td>\n      <td>0</td>\n      <td>86250</td>\n      <td>12.8</td>\n      <td>NaN</td>\n      <td>8.9</td>\n      <td>0.0</td>\n      <td>1021.9</td>\n      <td>0.0</td>\n      <td>0.0</td>\n      <td>29</td>\n      <td>2</td>\n      <td>9</td>\n    </tr>\n    <tr>\n      <th>4</th>\n      <td>146458</td>\n      <td>15</td>\n      <td>1</td>\n      <td>2016-02-29 09:00:00</td>\n      <td>422.1040</td>\n      <td>0</td>\n      <td>6</td>\n      <td>83957</td>\n      <td>12.8</td>\n      <td>NaN</td>\n      <td>8.9</td>\n      <td>0.0</td>\n      <td>1021.9</td>\n      <td>0.0</td>\n      <td>0.0</td>\n      <td>29</td>\n      <td>2</td>\n      <td>9</td>\n    </tr>\n    <tr>\n      <th>...</th>\n      <td>...</td>\n      <td>...</td>\n      <td>...</td>\n      <td>...</td>\n      <td>...</td>\n      <td>...</td>\n      <td>...</td>\n      <td>...</td>\n      <td>...</td>\n      <td>...</td>\n      <td>...</td>\n      <td>...</td>\n      <td>...</td>\n      <td>...</td>\n      <td>...</td>\n      <td>...</td>\n      <td>...</td>\n      <td>...</td>\n    </tr>\n    <tr>\n      <th>13362281</th>\n      <td>20125600</td>\n      <td>1400</td>\n      <td>1</td>\n      <td>2016-03-24 12:00:00</td>\n      <td>15.3753</td>\n      <td>15</td>\n      <td>4</td>\n      <td>21168</td>\n      <td>1.7</td>\n      <td>NaN</td>\n      <td>1.7</td>\n      <td>NaN</td>\n      <td>1016.8</td>\n      <td>0.0</td>\n      <td>0.0</td>\n      <td>24</td>\n      <td>3</td>\n      <td>12</td>\n    </tr>\n    <tr>\n      <th>13362282</th>\n      <td>20125601</td>\n      <td>1400</td>\n      <td>1</td>\n      <td>2016-03-24 13:00:00</td>\n      <td>25.0848</td>\n      <td>15</td>\n      <td>4</td>\n      <td>21168</td>\n      <td>2.8</td>\n      <td>NaN</td>\n      <td>2.2</td>\n      <td>NaN</td>\n      <td>1016.6</td>\n      <td>320.0</td>\n      <td>1.5</td>\n      <td>24</td>\n      <td>3</td>\n      <td>13</td>\n    </tr>\n    <tr>\n      <th>13362283</th>\n      <td>20125602</td>\n      <td>1400</td>\n      <td>1</td>\n      <td>2016-03-24 14:00:00</td>\n      <td>32.3439</td>\n      <td>15</td>\n      <td>4</td>\n      <td>21168</td>\n      <td>5.6</td>\n      <td>NaN</td>\n      <td>4.4</td>\n      <td>NaN</td>\n      <td>1015.2</td>\n      <td>110.0</td>\n      <td>2.1</td>\n      <td>24</td>\n      <td>3</td>\n      <td>14</td>\n    </tr>\n    <tr>\n      <th>13362284</th>\n      <td>20125603</td>\n      <td>1400</td>\n      <td>1</td>\n      <td>2016-03-24 15:00:00</td>\n      <td>24.2214</td>\n      <td>15</td>\n      <td>4</td>\n      <td>21168</td>\n      <td>11.1</td>\n      <td>NaN</td>\n      <td>4.4</td>\n      <td>NaN</td>\n      <td>1013.9</td>\n      <td>150.0</td>\n      <td>5.1</td>\n      <td>24</td>\n      <td>3</td>\n      <td>15</td>\n    </tr>\n    <tr>\n      <th>13362285</th>\n      <td>20125604</td>\n      <td>1400</td>\n      <td>1</td>\n      <td>2016-03-24 16:00:00</td>\n      <td>16.3553</td>\n      <td>15</td>\n      <td>4</td>\n      <td>21168</td>\n      <td>15.0</td>\n      <td>4.0</td>\n      <td>4.4</td>\n      <td>NaN</td>\n      <td>1012.0</td>\n      <td>160.0</td>\n      <td>8.2</td>\n      <td>24</td>\n      <td>3</td>\n      <td>16</td>\n    </tr>\n  </tbody>\n</table>\n<p>13362286 rows × 18 columns</p>\n</div>"
     },
     "execution_count": 4,
     "metadata": {},
     "output_type": "execute_result"
    }
   ],
   "source": [
    "data"
   ],
   "metadata": {
    "collapsed": false,
    "pycharm": {
     "name": "#%%\n"
    }
   }
  },
  {
   "cell_type": "code",
   "execution_count": 9,
   "outputs": [],
   "source": [
    "b_data=pd.read_csv('content/building_metadata.csv', usecols=['building_id','floor','area'])"
   ],
   "metadata": {
    "collapsed": false,
    "pycharm": {
     "name": "#%%\n"
    }
   }
  },
  {
   "cell_type": "code",
   "execution_count": 10,
   "outputs": [
    {
     "data": {
      "text/plain": "     building_id  floor  area\n0            105      1     1\n1            106      1     0\n2            107      2     2\n3            108      1     1\n4            109      2     1\n..           ...    ...   ...\n350         1051      0     0\n351         1052      0     1\n352         1054      1     2\n353         1055      1     1\n354         1057      1     0\n\n[355 rows x 3 columns]",
      "text/html": "<div>\n<style scoped>\n    .dataframe tbody tr th:only-of-type {\n        vertical-align: middle;\n    }\n\n    .dataframe tbody tr th {\n        vertical-align: top;\n    }\n\n    .dataframe thead th {\n        text-align: right;\n    }\n</style>\n<table border=\"1\" class=\"dataframe\">\n  <thead>\n    <tr style=\"text-align: right;\">\n      <th></th>\n      <th>building_id</th>\n      <th>floor</th>\n      <th>area</th>\n    </tr>\n  </thead>\n  <tbody>\n    <tr>\n      <th>0</th>\n      <td>105</td>\n      <td>1</td>\n      <td>1</td>\n    </tr>\n    <tr>\n      <th>1</th>\n      <td>106</td>\n      <td>1</td>\n      <td>0</td>\n    </tr>\n    <tr>\n      <th>2</th>\n      <td>107</td>\n      <td>2</td>\n      <td>2</td>\n    </tr>\n    <tr>\n      <th>3</th>\n      <td>108</td>\n      <td>1</td>\n      <td>1</td>\n    </tr>\n    <tr>\n      <th>4</th>\n      <td>109</td>\n      <td>2</td>\n      <td>1</td>\n    </tr>\n    <tr>\n      <th>...</th>\n      <td>...</td>\n      <td>...</td>\n      <td>...</td>\n    </tr>\n    <tr>\n      <th>350</th>\n      <td>1051</td>\n      <td>0</td>\n      <td>0</td>\n    </tr>\n    <tr>\n      <th>351</th>\n      <td>1052</td>\n      <td>0</td>\n      <td>1</td>\n    </tr>\n    <tr>\n      <th>352</th>\n      <td>1054</td>\n      <td>1</td>\n      <td>2</td>\n    </tr>\n    <tr>\n      <th>353</th>\n      <td>1055</td>\n      <td>1</td>\n      <td>1</td>\n    </tr>\n    <tr>\n      <th>354</th>\n      <td>1057</td>\n      <td>1</td>\n      <td>0</td>\n    </tr>\n  </tbody>\n</table>\n<p>355 rows × 3 columns</p>\n</div>"
     },
     "execution_count": 10,
     "metadata": {},
     "output_type": "execute_result"
    }
   ],
   "source": [
    "b_data"
   ],
   "metadata": {
    "collapsed": false,
    "pycharm": {
     "name": "#%%\n"
    }
   }
  },
  {
   "cell_type": "code",
   "execution_count": 49,
   "id": "91e67a5c-984f-43af-bbe5-cb61c6b929cd",
   "metadata": {},
   "outputs": [],
   "source": [
    "class fetch_building_data(BaseEstimator, TransformerMixin):\n",
    "    \n",
    "    def __init__(self, building_id=122 , meter=0 , primary_use= 99 ): # 99 referes to none\n",
    "        \n",
    "        self.building_id = building_id\n",
    "        self.meter = meter\n",
    "        self.primary_use = primary_use\n",
    "        \n",
    "        \n",
    "    def fit(self, x, y=None):\n",
    "        return self  # nothing else to do\n",
    "    \n",
    "    \n",
    "    def transform(self, df):\n",
    "        \n",
    "        df= df.drop(columns=['Unnamed: 0' , 'precip_depth_1_hr' , 'cloud_coverage', 'site_id' , 'square_feet'])\n",
    "        \n",
    "        if self.primary_use == 99:\n",
    "            \n",
    "            df= df.query(f'building_id=={self.building_id} & meter=={self.meter}')\n",
    "            df.drop(['building_id', 'meter','primary_use' ], axis=1 , inplace=True )\n",
    "            \n",
    "        else:\n",
    "            \n",
    "            df= df.query(f'building_id=={self.building_id} & meter=={self.meter} & primary_use =={self.primary_use}')\n",
    "            df.drop(['building_id', 'meter','primary_use'], axis=1 , inplace=True )\n",
    "            \n",
    "            \n",
    "        df.loc[:, \"timestamp\"] = pd.to_datetime( df.loc[:, \"timestamp\"] )\n",
    "        df.set_index('timestamp', inplace=True)\n",
    "        return df\n"
   ]
  },
  {
   "cell_type": "code",
   "execution_count": 50,
   "id": "1a9b392b-f8e1-4391-9429-573249f11c87",
   "metadata": {},
   "outputs": [],
   "source": [
    "# data = pd.read_csv('content/preprocessed_train.csv')\n",
    "fetcher=fetch_building_data()\n",
    "\n",
    "df= fetcher.transform( data )\n"
   ]
  },
  {
   "cell_type": "code",
   "execution_count": 51,
   "id": "553d5d5c-e572-4825-939d-7387a1b4a1af",
   "metadata": {},
   "outputs": [
    {
     "data": {
      "text/html": [
       "<div>\n",
       "<style scoped>\n",
       "    .dataframe tbody tr th:only-of-type {\n",
       "        vertical-align: middle;\n",
       "    }\n",
       "\n",
       "    .dataframe tbody tr th {\n",
       "        vertical-align: top;\n",
       "    }\n",
       "\n",
       "    .dataframe thead th {\n",
       "        text-align: right;\n",
       "    }\n",
       "</style>\n",
       "<table border=\"1\" class=\"dataframe\">\n",
       "  <thead>\n",
       "    <tr style=\"text-align: right;\">\n",
       "      <th></th>\n",
       "      <th>meter_reading</th>\n",
       "      <th>air_temperature</th>\n",
       "      <th>dew_temperature</th>\n",
       "      <th>sea_level_pressure</th>\n",
       "      <th>wind_direction</th>\n",
       "      <th>wind_speed</th>\n",
       "      <th>day</th>\n",
       "      <th>month</th>\n",
       "      <th>hour</th>\n",
       "    </tr>\n",
       "    <tr>\n",
       "      <th>timestamp</th>\n",
       "      <th></th>\n",
       "      <th></th>\n",
       "      <th></th>\n",
       "      <th></th>\n",
       "      <th></th>\n",
       "      <th></th>\n",
       "      <th></th>\n",
       "      <th></th>\n",
       "      <th></th>\n",
       "    </tr>\n",
       "  </thead>\n",
       "  <tbody>\n",
       "    <tr>\n",
       "      <th>2016-01-01 00:00:00</th>\n",
       "      <td>134.3</td>\n",
       "      <td>3.8</td>\n",
       "      <td>2.4</td>\n",
       "      <td>1020.9</td>\n",
       "      <td>240.0</td>\n",
       "      <td>3.1</td>\n",
       "      <td>1</td>\n",
       "      <td>1</td>\n",
       "      <td>0</td>\n",
       "    </tr>\n",
       "    <tr>\n",
       "      <th>2016-01-01 01:00:00</th>\n",
       "      <td>267.1</td>\n",
       "      <td>3.7</td>\n",
       "      <td>2.4</td>\n",
       "      <td>1021.6</td>\n",
       "      <td>230.0</td>\n",
       "      <td>2.6</td>\n",
       "      <td>1</td>\n",
       "      <td>1</td>\n",
       "      <td>1</td>\n",
       "    </tr>\n",
       "    <tr>\n",
       "      <th>2016-01-01 02:00:00</th>\n",
       "      <td>268.7</td>\n",
       "      <td>2.6</td>\n",
       "      <td>1.9</td>\n",
       "      <td>1021.9</td>\n",
       "      <td>0.0</td>\n",
       "      <td>0.0</td>\n",
       "      <td>1</td>\n",
       "      <td>1</td>\n",
       "      <td>2</td>\n",
       "    </tr>\n",
       "    <tr>\n",
       "      <th>2016-01-01 03:00:00</th>\n",
       "      <td>267.7</td>\n",
       "      <td>2.0</td>\n",
       "      <td>1.2</td>\n",
       "      <td>1022.3</td>\n",
       "      <td>170.0</td>\n",
       "      <td>1.5</td>\n",
       "      <td>1</td>\n",
       "      <td>1</td>\n",
       "      <td>3</td>\n",
       "    </tr>\n",
       "    <tr>\n",
       "      <th>2016-01-01 04:00:00</th>\n",
       "      <td>267.8</td>\n",
       "      <td>2.3</td>\n",
       "      <td>1.8</td>\n",
       "      <td>1022.7</td>\n",
       "      <td>110.0</td>\n",
       "      <td>1.5</td>\n",
       "      <td>1</td>\n",
       "      <td>1</td>\n",
       "      <td>4</td>\n",
       "    </tr>\n",
       "  </tbody>\n",
       "</table>\n",
       "</div>"
      ],
      "text/plain": [
       "                     meter_reading  air_temperature  dew_temperature  \\\n",
       "timestamp                                                              \n",
       "2016-01-01 00:00:00          134.3              3.8              2.4   \n",
       "2016-01-01 01:00:00          267.1              3.7              2.4   \n",
       "2016-01-01 02:00:00          268.7              2.6              1.9   \n",
       "2016-01-01 03:00:00          267.7              2.0              1.2   \n",
       "2016-01-01 04:00:00          267.8              2.3              1.8   \n",
       "\n",
       "                     sea_level_pressure  wind_direction  wind_speed  day  \\\n",
       "timestamp                                                                  \n",
       "2016-01-01 00:00:00              1020.9           240.0         3.1    1   \n",
       "2016-01-01 01:00:00              1021.6           230.0         2.6    1   \n",
       "2016-01-01 02:00:00              1021.9             0.0         0.0    1   \n",
       "2016-01-01 03:00:00              1022.3           170.0         1.5    1   \n",
       "2016-01-01 04:00:00              1022.7           110.0         1.5    1   \n",
       "\n",
       "                     month  hour  \n",
       "timestamp                         \n",
       "2016-01-01 00:00:00      1     0  \n",
       "2016-01-01 01:00:00      1     1  \n",
       "2016-01-01 02:00:00      1     2  \n",
       "2016-01-01 03:00:00      1     3  \n",
       "2016-01-01 04:00:00      1     4  "
      ]
     },
     "execution_count": 51,
     "metadata": {},
     "output_type": "execute_result"
    }
   ],
   "source": [
    "df.head()"
   ]
  },
  {
   "cell_type": "code",
   "execution_count": 56,
   "id": "bdb052e7-ca21-4e5e-af95-dec439beb41e",
   "metadata": {},
   "outputs": [
    {
     "name": "stderr",
     "output_type": "stream",
     "text": [
      "C:\\ProgramData\\Anaconda3\\lib\\site-packages\\pandas\\core\\frame.py:4906: SettingWithCopyWarning: \n",
      "A value is trying to be set on a copy of a slice from a DataFrame\n",
      "\n",
      "See the caveats in the documentation: https://pandas.pydata.org/pandas-docs/stable/user_guide/indexing.html#returning-a-view-versus-a-copy\n",
      "  return super().drop(\n",
      "C:\\ProgramData\\Anaconda3\\lib\\site-packages\\pandas\\core\\indexing.py:1773: SettingWithCopyWarning: \n",
      "A value is trying to be set on a copy of a slice from a DataFrame.\n",
      "Try using .loc[row_indexer,col_indexer] = value instead\n",
      "\n",
      "See the caveats in the documentation: https://pandas.pydata.org/pandas-docs/stable/user_guide/indexing.html#returning-a-view-versus-a-copy\n",
      "  self._setitem_single_column(ilocs[0], value, pi)\n"
     ]
    },
    {
     "data": {
      "text/html": [
       "<div>\n",
       "<style scoped>\n",
       "    .dataframe tbody tr th:only-of-type {\n",
       "        vertical-align: middle;\n",
       "    }\n",
       "\n",
       "    .dataframe tbody tr th {\n",
       "        vertical-align: top;\n",
       "    }\n",
       "\n",
       "    .dataframe thead th {\n",
       "        text-align: right;\n",
       "    }\n",
       "</style>\n",
       "<table border=\"1\" class=\"dataframe\">\n",
       "  <thead>\n",
       "    <tr style=\"text-align: right;\">\n",
       "      <th></th>\n",
       "      <th>meter_reading</th>\n",
       "      <th>air_temperature</th>\n",
       "      <th>dew_temperature</th>\n",
       "      <th>sea_level_pressure</th>\n",
       "      <th>wind_direction</th>\n",
       "      <th>wind_speed</th>\n",
       "      <th>day</th>\n",
       "      <th>month</th>\n",
       "      <th>hour</th>\n",
       "    </tr>\n",
       "    <tr>\n",
       "      <th>timestamp</th>\n",
       "      <th></th>\n",
       "      <th></th>\n",
       "      <th></th>\n",
       "      <th></th>\n",
       "      <th></th>\n",
       "      <th></th>\n",
       "      <th></th>\n",
       "      <th></th>\n",
       "      <th></th>\n",
       "    </tr>\n",
       "  </thead>\n",
       "  <tbody>\n",
       "    <tr>\n",
       "      <th>2016-01-01 00:00:00</th>\n",
       "      <td>134.3</td>\n",
       "      <td>3.8</td>\n",
       "      <td>2.4</td>\n",
       "      <td>1020.9</td>\n",
       "      <td>240.0</td>\n",
       "      <td>3.1</td>\n",
       "      <td>1</td>\n",
       "      <td>1</td>\n",
       "      <td>0</td>\n",
       "    </tr>\n",
       "    <tr>\n",
       "      <th>2016-01-01 01:00:00</th>\n",
       "      <td>267.1</td>\n",
       "      <td>3.7</td>\n",
       "      <td>2.4</td>\n",
       "      <td>1021.6</td>\n",
       "      <td>230.0</td>\n",
       "      <td>2.6</td>\n",
       "      <td>1</td>\n",
       "      <td>1</td>\n",
       "      <td>1</td>\n",
       "    </tr>\n",
       "    <tr>\n",
       "      <th>2016-01-01 02:00:00</th>\n",
       "      <td>268.7</td>\n",
       "      <td>2.6</td>\n",
       "      <td>1.9</td>\n",
       "      <td>1021.9</td>\n",
       "      <td>0.0</td>\n",
       "      <td>0.0</td>\n",
       "      <td>1</td>\n",
       "      <td>1</td>\n",
       "      <td>2</td>\n",
       "    </tr>\n",
       "    <tr>\n",
       "      <th>2016-01-01 03:00:00</th>\n",
       "      <td>267.7</td>\n",
       "      <td>2.0</td>\n",
       "      <td>1.2</td>\n",
       "      <td>1022.3</td>\n",
       "      <td>170.0</td>\n",
       "      <td>1.5</td>\n",
       "      <td>1</td>\n",
       "      <td>1</td>\n",
       "      <td>3</td>\n",
       "    </tr>\n",
       "    <tr>\n",
       "      <th>2016-01-01 04:00:00</th>\n",
       "      <td>267.8</td>\n",
       "      <td>2.3</td>\n",
       "      <td>1.8</td>\n",
       "      <td>1022.7</td>\n",
       "      <td>110.0</td>\n",
       "      <td>1.5</td>\n",
       "      <td>1</td>\n",
       "      <td>1</td>\n",
       "      <td>4</td>\n",
       "    </tr>\n",
       "  </tbody>\n",
       "</table>\n",
       "</div>"
      ],
      "text/plain": [
       "                     meter_reading  air_temperature  dew_temperature  \\\n",
       "timestamp                                                              \n",
       "2016-01-01 00:00:00          134.3              3.8              2.4   \n",
       "2016-01-01 01:00:00          267.1              3.7              2.4   \n",
       "2016-01-01 02:00:00          268.7              2.6              1.9   \n",
       "2016-01-01 03:00:00          267.7              2.0              1.2   \n",
       "2016-01-01 04:00:00          267.8              2.3              1.8   \n",
       "\n",
       "                     sea_level_pressure  wind_direction  wind_speed  day  \\\n",
       "timestamp                                                                  \n",
       "2016-01-01 00:00:00              1020.9           240.0         3.1    1   \n",
       "2016-01-01 01:00:00              1021.6           230.0         2.6    1   \n",
       "2016-01-01 02:00:00              1021.9             0.0         0.0    1   \n",
       "2016-01-01 03:00:00              1022.3           170.0         1.5    1   \n",
       "2016-01-01 04:00:00              1022.7           110.0         1.5    1   \n",
       "\n",
       "                     month  hour  \n",
       "timestamp                         \n",
       "2016-01-01 00:00:00      1     0  \n",
       "2016-01-01 01:00:00      1     1  \n",
       "2016-01-01 02:00:00      1     2  \n",
       "2016-01-01 03:00:00      1     3  \n",
       "2016-01-01 04:00:00      1     4  "
      ]
     },
     "execution_count": 56,
     "metadata": {},
     "output_type": "execute_result"
    }
   ],
   "source": [
    "from data_fetcher import Fetcher\n",
    "\n",
    "df_fetcher = Fetcher()\n",
    "\n",
    "df= df_fetcher.transform( data )\n",
    "df.head()"
   ]
  }
 ],
 "metadata": {
  "kernelspec": {
   "display_name": "Python 3 (ipykernel)",
   "language": "python",
   "name": "python3"
  },
  "language_info": {
   "codemirror_mode": {
    "name": "ipython",
    "version": 3
   },
   "file_extension": ".py",
   "mimetype": "text/x-python",
   "name": "python",
   "nbconvert_exporter": "python",
   "pygments_lexer": "ipython3",
   "version": "3.8.8"
  }
 },
 "nbformat": 4,
 "nbformat_minor": 5
}