{
 "cells": [
  {
   "cell_type": "code",
   "execution_count": 2,
   "metadata": {
    "collapsed": true
   },
   "outputs": [],
   "source": [
    "import pandas as pd, numpy as np, matplotlib.pyplot as plt"
   ]
  },
  {
   "cell_type": "code",
   "execution_count": 3,
   "outputs": [],
   "source": [
    "# b_data = building data\n",
    "b_data=pd.read_csv('content/building_metadata.csv').dropna(subset=['floor_count'])"
   ],
   "metadata": {
    "collapsed": false,
    "pycharm": {
     "name": "#%%\n"
    }
   }
  },
  {
   "cell_type": "code",
   "execution_count": 4,
   "outputs": [
    {
     "data": {
      "text/plain": "     Unnamed: 0  Unnamed: 0.1  site_id  building_id primary_use  square_feet  \\\n0             0           105        1          105   Education        50623   \n1             1           106        1          106   Education         5374   \n2             2           107        1          107   Education        97532   \n3             3           108        1          108   Education        81580   \n4             4           109        1          109   Education        56995   \n..          ...           ...      ...          ...         ...          ...   \n350         350          1051       12         1051   Education        28406   \n351         351          1052       12         1052      Retail        45305   \n352         352          1054       12         1054   Education       204998   \n353         353          1055       12         1055   Education        86714   \n354         354          1057       12         1057   Education        26372   \n\n     year_built  floor_count  floor  area  \n0           0.0          5.0      1     1  \n1           0.0          4.0      1     0  \n2        2005.0         10.0      2     2  \n3        1913.0          5.0      1     1  \n4        1953.0          6.0      2     1  \n..          ...          ...    ...   ...  \n350         0.0          1.0      0     0  \n351         0.0          2.0      0     1  \n352         0.0          4.0      1     2  \n353         0.0          4.0      1     1  \n354         0.0          4.0      1     0  \n\n[355 rows x 10 columns]",
      "text/html": "<div>\n<style scoped>\n    .dataframe tbody tr th:only-of-type {\n        vertical-align: middle;\n    }\n\n    .dataframe tbody tr th {\n        vertical-align: top;\n    }\n\n    .dataframe thead th {\n        text-align: right;\n    }\n</style>\n<table border=\"1\" class=\"dataframe\">\n  <thead>\n    <tr style=\"text-align: right;\">\n      <th></th>\n      <th>Unnamed: 0</th>\n      <th>Unnamed: 0.1</th>\n      <th>site_id</th>\n      <th>building_id</th>\n      <th>primary_use</th>\n      <th>square_feet</th>\n      <th>year_built</th>\n      <th>floor_count</th>\n      <th>floor</th>\n      <th>area</th>\n    </tr>\n  </thead>\n  <tbody>\n    <tr>\n      <th>0</th>\n      <td>0</td>\n      <td>105</td>\n      <td>1</td>\n      <td>105</td>\n      <td>Education</td>\n      <td>50623</td>\n      <td>0.0</td>\n      <td>5.0</td>\n      <td>1</td>\n      <td>1</td>\n    </tr>\n    <tr>\n      <th>1</th>\n      <td>1</td>\n      <td>106</td>\n      <td>1</td>\n      <td>106</td>\n      <td>Education</td>\n      <td>5374</td>\n      <td>0.0</td>\n      <td>4.0</td>\n      <td>1</td>\n      <td>0</td>\n    </tr>\n    <tr>\n      <th>2</th>\n      <td>2</td>\n      <td>107</td>\n      <td>1</td>\n      <td>107</td>\n      <td>Education</td>\n      <td>97532</td>\n      <td>2005.0</td>\n      <td>10.0</td>\n      <td>2</td>\n      <td>2</td>\n    </tr>\n    <tr>\n      <th>3</th>\n      <td>3</td>\n      <td>108</td>\n      <td>1</td>\n      <td>108</td>\n      <td>Education</td>\n      <td>81580</td>\n      <td>1913.0</td>\n      <td>5.0</td>\n      <td>1</td>\n      <td>1</td>\n    </tr>\n    <tr>\n      <th>4</th>\n      <td>4</td>\n      <td>109</td>\n      <td>1</td>\n      <td>109</td>\n      <td>Education</td>\n      <td>56995</td>\n      <td>1953.0</td>\n      <td>6.0</td>\n      <td>2</td>\n      <td>1</td>\n    </tr>\n    <tr>\n      <th>...</th>\n      <td>...</td>\n      <td>...</td>\n      <td>...</td>\n      <td>...</td>\n      <td>...</td>\n      <td>...</td>\n      <td>...</td>\n      <td>...</td>\n      <td>...</td>\n      <td>...</td>\n    </tr>\n    <tr>\n      <th>350</th>\n      <td>350</td>\n      <td>1051</td>\n      <td>12</td>\n      <td>1051</td>\n      <td>Education</td>\n      <td>28406</td>\n      <td>0.0</td>\n      <td>1.0</td>\n      <td>0</td>\n      <td>0</td>\n    </tr>\n    <tr>\n      <th>351</th>\n      <td>351</td>\n      <td>1052</td>\n      <td>12</td>\n      <td>1052</td>\n      <td>Retail</td>\n      <td>45305</td>\n      <td>0.0</td>\n      <td>2.0</td>\n      <td>0</td>\n      <td>1</td>\n    </tr>\n    <tr>\n      <th>352</th>\n      <td>352</td>\n      <td>1054</td>\n      <td>12</td>\n      <td>1054</td>\n      <td>Education</td>\n      <td>204998</td>\n      <td>0.0</td>\n      <td>4.0</td>\n      <td>1</td>\n      <td>2</td>\n    </tr>\n    <tr>\n      <th>353</th>\n      <td>353</td>\n      <td>1055</td>\n      <td>12</td>\n      <td>1055</td>\n      <td>Education</td>\n      <td>86714</td>\n      <td>0.0</td>\n      <td>4.0</td>\n      <td>1</td>\n      <td>1</td>\n    </tr>\n    <tr>\n      <th>354</th>\n      <td>354</td>\n      <td>1057</td>\n      <td>12</td>\n      <td>1057</td>\n      <td>Education</td>\n      <td>26372</td>\n      <td>0.0</td>\n      <td>4.0</td>\n      <td>1</td>\n      <td>0</td>\n    </tr>\n  </tbody>\n</table>\n<p>355 rows × 10 columns</p>\n</div>"
     },
     "execution_count": 4,
     "metadata": {},
     "output_type": "execute_result"
    }
   ],
   "source": [
    "b_data"
   ],
   "metadata": {
    "collapsed": false,
    "pycharm": {
     "name": "#%%\n"
    }
   }
  },
  {
   "cell_type": "code",
   "execution_count": 5,
   "outputs": [
    {
     "data": {
      "text/plain": "0        (3.0, 5.0]\n1        (3.0, 5.0]\n2       (5.0, 26.0]\n3        (3.0, 5.0]\n4       (5.0, 26.0]\n           ...     \n350    (0.999, 3.0]\n351    (0.999, 3.0]\n352      (3.0, 5.0]\n353      (3.0, 5.0]\n354      (3.0, 5.0]\nName: floor_count, Length: 355, dtype: category\nCategories (3, interval[float64, right]): [(0.999, 3.0] < (3.0, 5.0] < (5.0, 26.0]]"
     },
     "execution_count": 5,
     "metadata": {},
     "output_type": "execute_result"
    }
   ],
   "source": [
    "pd.qcut( b_data['floor_count'], [0.25 , 0.5 , 0.75 , 1.0] )"
   ],
   "metadata": {
    "collapsed": false,
    "pycharm": {
     "name": "#%%\n"
    }
   }
  },
  {
   "cell_type": "code",
   "execution_count": 6,
   "outputs": [
    {
     "data": {
      "text/plain": "<AxesSubplot:ylabel='Frequency'>"
     },
     "execution_count": 6,
     "metadata": {},
     "output_type": "execute_result"
    },
    {
     "data": {
      "text/plain": "<Figure size 432x288 with 1 Axes>",
      "image/png": "[encoded data removed]"
     },
     "metadata": {
      "needs_background": "light"
     },
     "output_type": "display_data"
    }
   ],
   "source": [
    "b_data.floor_count.plot(kind='hist')"
   ],
   "metadata": {
    "collapsed": false,
    "pycharm": {
     "name": "#%%\n"
    }
   }
  },
  {
   "cell_type": "code",
   "execution_count": 7,
   "outputs": [
    {
     "data": {
      "text/plain": "     Unnamed: 0  Unnamed: 0.1  site_id  building_id primary_use  square_feet  \\\n0             0           105        1          105   Education        50623   \n1             1           106        1          106   Education         5374   \n2             2           107        1          107   Education        97532   \n3             3           108        1          108   Education        81580   \n4             4           109        1          109   Education        56995   \n..          ...           ...      ...          ...         ...          ...   \n350         350          1051       12         1051   Education        28406   \n351         351          1052       12         1052      Retail        45305   \n352         352          1054       12         1054   Education       204998   \n353         353          1055       12         1055   Education        86714   \n354         354          1057       12         1057   Education        26372   \n\n     year_built  floor_count  floor  area  \n0           0.0          5.0      1     1  \n1           0.0          4.0      1     0  \n2        2005.0         10.0      2     2  \n3        1913.0          5.0      1     1  \n4        1953.0          6.0      2     1  \n..          ...          ...    ...   ...  \n350         0.0          1.0      0     0  \n351         0.0          2.0      0     1  \n352         0.0          4.0      1     2  \n353         0.0          4.0      1     1  \n354         0.0          4.0      1     0  \n\n[351 rows x 10 columns]",
      "text/html": "<div>\n<style scoped>\n    .dataframe tbody tr th:only-of-type {\n        vertical-align: middle;\n    }\n\n    .dataframe tbody tr th {\n        vertical-align: top;\n    }\n\n    .dataframe thead th {\n        text-align: right;\n    }\n</style>\n<table border=\"1\" class=\"dataframe\">\n  <thead>\n    <tr style=\"text-align: right;\">\n      <th></th>\n      <th>Unnamed: 0</th>\n      <th>Unnamed: 0.1</th>\n      <th>site_id</th>\n      <th>building_id</th>\n      <th>primary_use</th>\n      <th>square_feet</th>\n      <th>year_built</th>\n      <th>floor_count</th>\n      <th>floor</th>\n      <th>area</th>\n    </tr>\n  </thead>\n  <tbody>\n    <tr>\n      <th>0</th>\n      <td>0</td>\n      <td>105</td>\n      <td>1</td>\n      <td>105</td>\n      <td>Education</td>\n      <td>50623</td>\n      <td>0.0</td>\n      <td>5.0</td>\n      <td>1</td>\n      <td>1</td>\n    </tr>\n    <tr>\n      <th>1</th>\n      <td>1</td>\n      <td>106</td>\n      <td>1</td>\n      <td>106</td>\n      <td>Education</td>\n      <td>5374</td>\n      <td>0.0</td>\n      <td>4.0</td>\n      <td>1</td>\n      <td>0</td>\n    </tr>\n    <tr>\n      <th>2</th>\n      <td>2</td>\n      <td>107</td>\n      <td>1</td>\n      <td>107</td>\n      <td>Education</td>\n      <td>97532</td>\n      <td>2005.0</td>\n      <td>10.0</td>\n      <td>2</td>\n      <td>2</td>\n    </tr>\n    <tr>\n      <th>3</th>\n      <td>3</td>\n      <td>108</td>\n      <td>1</td>\n      <td>108</td>\n      <td>Education</td>\n      <td>81580</td>\n      <td>1913.0</td>\n      <td>5.0</td>\n      <td>1</td>\n      <td>1</td>\n    </tr>\n    <tr>\n      <th>4</th>\n      <td>4</td>\n      <td>109</td>\n      <td>1</td>\n      <td>109</td>\n      <td>Education</td>\n      <td>56995</td>\n      <td>1953.0</td>\n      <td>6.0</td>\n      <td>2</td>\n      <td>1</td>\n    </tr>\n    <tr>\n      <th>...</th>\n      <td>...</td>\n      <td>...</td>\n      <td>...</td>\n      <td>...</td>\n      <td>...</td>\n      <td>...</td>\n      <td>...</td>\n      <td>...</td>\n      <td>...</td>\n      <td>...</td>\n    </tr>\n    <tr>\n      <th>350</th>\n      <td>350</td>\n      <td>1051</td>\n      <td>12</td>\n      <td>1051</td>\n      <td>Education</td>\n      <td>28406</td>\n      <td>0.0</td>\n      <td>1.0</td>\n      <td>0</td>\n      <td>0</td>\n    </tr>\n    <tr>\n      <th>351</th>\n      <td>351</td>\n      <td>1052</td>\n      <td>12</td>\n      <td>1052</td>\n      <td>Retail</td>\n      <td>45305</td>\n      <td>0.0</td>\n      <td>2.0</td>\n      <td>0</td>\n      <td>1</td>\n    </tr>\n    <tr>\n      <th>352</th>\n      <td>352</td>\n      <td>1054</td>\n      <td>12</td>\n      <td>1054</td>\n      <td>Education</td>\n      <td>204998</td>\n      <td>0.0</td>\n      <td>4.0</td>\n      <td>1</td>\n      <td>2</td>\n    </tr>\n    <tr>\n      <th>353</th>\n      <td>353</td>\n      <td>1055</td>\n      <td>12</td>\n      <td>1055</td>\n      <td>Education</td>\n      <td>86714</td>\n      <td>0.0</td>\n      <td>4.0</td>\n      <td>1</td>\n      <td>1</td>\n    </tr>\n    <tr>\n      <th>354</th>\n      <td>354</td>\n      <td>1057</td>\n      <td>12</td>\n      <td>1057</td>\n      <td>Education</td>\n      <td>26372</td>\n      <td>0.0</td>\n      <td>4.0</td>\n      <td>1</td>\n      <td>0</td>\n    </tr>\n  </tbody>\n</table>\n<p>351 rows × 10 columns</p>\n</div>"
     },
     "execution_count": 7,
     "metadata": {},
     "output_type": "execute_result"
    }
   ],
   "source": [
    "b_data[b_data.floor_count<15]"
   ],
   "metadata": {
    "collapsed": false,
    "pycharm": {
     "name": "#%%\n"
    }
   }
  },
  {
   "cell_type": "code",
   "execution_count": 8,
   "outputs": [
    {
     "data": {
      "text/plain": "0        (2.0, 5.0]\n1        (2.0, 5.0]\n2       (5.0, 14.0]\n3        (2.0, 5.0]\n4       (5.0, 14.0]\n           ...     \n350    (0.999, 2.0]\n351    (0.999, 2.0]\n352      (2.0, 5.0]\n353      (2.0, 5.0]\n354      (2.0, 5.0]\nName: floor_count, Length: 351, dtype: category\nCategories (3, interval[float64, right]): [(0.999, 2.0] < (2.0, 5.0] < (5.0, 14.0]]"
     },
     "execution_count": 8,
     "metadata": {},
     "output_type": "execute_result"
    }
   ],
   "source": [
    "pd.qcut( b_data[b_data.floor_count<15].floor_count , [0.25,0.5,0.75,1.0])"
   ],
   "metadata": {
    "collapsed": false,
    "pycharm": {
     "name": "#%%\n"
    }
   }
  },
  {
   "cell_type": "markdown",
   "source": [
    "# we will work with the quantiles of the data without caring about outliers"
   ],
   "metadata": {
    "collapsed": false
   }
  },
  {
   "cell_type": "markdown",
   "source": [
    "we will assume that building between 1-3 floors as 0 for short\n",
    "and 1 for medium between 3-5\n",
    "and 2 for high more than 5"
   ],
   "metadata": {
    "collapsed": false
   }
  },
  {
   "cell_type": "code",
   "execution_count": 9,
   "outputs": [],
   "source": [
    "b_data['floor']=pd.qcut( b_data['floor_count'], [0.25 , 0.5 , 0.75 , 1.0], labels=['0','1','2'] )"
   ],
   "metadata": {
    "collapsed": false,
    "pycharm": {
     "name": "#%%\n"
    }
   }
  },
  {
   "cell_type": "code",
   "execution_count": 10,
   "outputs": [
    {
     "data": {
      "text/plain": "   Unnamed: 0  Unnamed: 0.1  site_id  building_id primary_use  square_feet  \\\n0           0           105        1          105   Education        50623   \n1           1           106        1          106   Education         5374   \n2           2           107        1          107   Education        97532   \n3           3           108        1          108   Education        81580   \n4           4           109        1          109   Education        56995   \n\n   year_built  floor_count floor  area  \n0         0.0          5.0     1     1  \n1         0.0          4.0     1     0  \n2      2005.0         10.0     2     2  \n3      1913.0          5.0     1     1  \n4      1953.0          6.0     2     1  ",
      "text/html": "<div>\n<style scoped>\n    .dataframe tbody tr th:only-of-type {\n        vertical-align: middle;\n    }\n\n    .dataframe tbody tr th {\n        vertical-align: top;\n    }\n\n    .dataframe thead th {\n        text-align: right;\n    }\n</style>\n<table border=\"1\" class=\"dataframe\">\n  <thead>\n    <tr style=\"text-align: right;\">\n      <th></th>\n      <th>Unnamed: 0</th>\n      <th>Unnamed: 0.1</th>\n      <th>site_id</th>\n      <th>building_id</th>\n      <th>primary_use</th>\n      <th>square_feet</th>\n      <th>year_built</th>\n      <th>floor_count</th>\n      <th>floor</th>\n      <th>area</th>\n    </tr>\n  </thead>\n  <tbody>\n    <tr>\n      <th>0</th>\n      <td>0</td>\n      <td>105</td>\n      <td>1</td>\n      <td>105</td>\n      <td>Education</td>\n      <td>50623</td>\n      <td>0.0</td>\n      <td>5.0</td>\n      <td>1</td>\n      <td>1</td>\n    </tr>\n    <tr>\n      <th>1</th>\n      <td>1</td>\n      <td>106</td>\n      <td>1</td>\n      <td>106</td>\n      <td>Education</td>\n      <td>5374</td>\n      <td>0.0</td>\n      <td>4.0</td>\n      <td>1</td>\n      <td>0</td>\n    </tr>\n    <tr>\n      <th>2</th>\n      <td>2</td>\n      <td>107</td>\n      <td>1</td>\n      <td>107</td>\n      <td>Education</td>\n      <td>97532</td>\n      <td>2005.0</td>\n      <td>10.0</td>\n      <td>2</td>\n      <td>2</td>\n    </tr>\n    <tr>\n      <th>3</th>\n      <td>3</td>\n      <td>108</td>\n      <td>1</td>\n      <td>108</td>\n      <td>Education</td>\n      <td>81580</td>\n      <td>1913.0</td>\n      <td>5.0</td>\n      <td>1</td>\n      <td>1</td>\n    </tr>\n    <tr>\n      <th>4</th>\n      <td>4</td>\n      <td>109</td>\n      <td>1</td>\n      <td>109</td>\n      <td>Education</td>\n      <td>56995</td>\n      <td>1953.0</td>\n      <td>6.0</td>\n      <td>2</td>\n      <td>1</td>\n    </tr>\n  </tbody>\n</table>\n</div>"
     },
     "execution_count": 10,
     "metadata": {},
     "output_type": "execute_result"
    }
   ],
   "source": [
    "b_data.head()"
   ],
   "metadata": {
    "collapsed": false,
    "pycharm": {
     "name": "#%%\n"
    }
   }
  },
  {
   "cell_type": "markdown",
   "source": [
    "using the same method to create categories for square feet"
   ],
   "metadata": {
    "collapsed": false
   }
  },
  {
   "cell_type": "markdown",
   "source": [
    "to know how we will fill the missing values let's see the median\n"
   ],
   "metadata": {
    "collapsed": false
   }
  },
  {
   "cell_type": "code",
   "execution_count": 11,
   "outputs": [
    {
     "data": {
      "text/plain": "count       355.000000\nmean      72395.360563\nstd      102739.243998\nmin         356.000000\n25%       14150.000000\n50%       40085.000000\n75%       93969.500000\nmax      875000.000000\nName: square_feet, dtype: float64"
     },
     "execution_count": 11,
     "metadata": {},
     "output_type": "execute_result"
    }
   ],
   "source": [
    "b_data.square_feet.describe()"
   ],
   "metadata": {
    "collapsed": false,
    "pycharm": {
     "name": "#%%\n"
    }
   }
  },
  {
   "cell_type": "code",
   "execution_count": 12,
   "outputs": [],
   "source": [
    "b_data['square_feet']= b_data['square_feet'].fillna( 72395 )"
   ],
   "metadata": {
    "collapsed": false,
    "pycharm": {
     "name": "#%%\n"
    }
   }
  },
  {
   "cell_type": "code",
   "execution_count": 13,
   "outputs": [],
   "source": [
    "b_data['area']=pd.qcut( b_data['square_feet'] , [0.25,0.5,0.75,1.0], labels=[0 , 1 , 2])"
   ],
   "metadata": {
    "collapsed": false,
    "pycharm": {
     "name": "#%%\n"
    }
   }
  },
  {
   "cell_type": "code",
   "execution_count": 14,
   "outputs": [],
   "source": [
    "b_data['area'].fillna(0,inplace=True)"
   ],
   "metadata": {
    "collapsed": false,
    "pycharm": {
     "name": "#%%\n"
    }
   }
  },
  {
   "cell_type": "code",
   "execution_count": 15,
   "outputs": [
    {
     "data": {
      "text/plain": "   Unnamed: 0  Unnamed: 0.1  site_id  building_id primary_use  square_feet  \\\n0           0           105        1          105   Education        50623   \n1           1           106        1          106   Education         5374   \n2           2           107        1          107   Education        97532   \n3           3           108        1          108   Education        81580   \n4           4           109        1          109   Education        56995   \n\n   year_built  floor_count floor area  \n0         0.0          5.0     1    1  \n1         0.0          4.0     1    0  \n2      2005.0         10.0     2    2  \n3      1913.0          5.0     1    1  \n4      1953.0          6.0     2    1  ",
      "text/html": "<div>\n<style scoped>\n    .dataframe tbody tr th:only-of-type {\n        vertical-align: middle;\n    }\n\n    .dataframe tbody tr th {\n        vertical-align: top;\n    }\n\n    .dataframe thead th {\n        text-align: right;\n    }\n</style>\n<table border=\"1\" class=\"dataframe\">\n  <thead>\n    <tr style=\"text-align: right;\">\n      <th></th>\n      <th>Unnamed: 0</th>\n      <th>Unnamed: 0.1</th>\n      <th>site_id</th>\n      <th>building_id</th>\n      <th>primary_use</th>\n      <th>square_feet</th>\n      <th>year_built</th>\n      <th>floor_count</th>\n      <th>floor</th>\n      <th>area</th>\n    </tr>\n  </thead>\n  <tbody>\n    <tr>\n      <th>0</th>\n      <td>0</td>\n      <td>105</td>\n      <td>1</td>\n      <td>105</td>\n      <td>Education</td>\n      <td>50623</td>\n      <td>0.0</td>\n      <td>5.0</td>\n      <td>1</td>\n      <td>1</td>\n    </tr>\n    <tr>\n      <th>1</th>\n      <td>1</td>\n      <td>106</td>\n      <td>1</td>\n      <td>106</td>\n      <td>Education</td>\n      <td>5374</td>\n      <td>0.0</td>\n      <td>4.0</td>\n      <td>1</td>\n      <td>0</td>\n    </tr>\n    <tr>\n      <th>2</th>\n      <td>2</td>\n      <td>107</td>\n      <td>1</td>\n      <td>107</td>\n      <td>Education</td>\n      <td>97532</td>\n      <td>2005.0</td>\n      <td>10.0</td>\n      <td>2</td>\n      <td>2</td>\n    </tr>\n    <tr>\n      <th>3</th>\n      <td>3</td>\n      <td>108</td>\n      <td>1</td>\n      <td>108</td>\n      <td>Education</td>\n      <td>81580</td>\n      <td>1913.0</td>\n      <td>5.0</td>\n      <td>1</td>\n      <td>1</td>\n    </tr>\n    <tr>\n      <th>4</th>\n      <td>4</td>\n      <td>109</td>\n      <td>1</td>\n      <td>109</td>\n      <td>Education</td>\n      <td>56995</td>\n      <td>1953.0</td>\n      <td>6.0</td>\n      <td>2</td>\n      <td>1</td>\n    </tr>\n  </tbody>\n</table>\n</div>"
     },
     "execution_count": 15,
     "metadata": {},
     "output_type": "execute_result"
    }
   ],
   "source": [
    "b_data.head()"
   ],
   "metadata": {
    "collapsed": false,
    "pycharm": {
     "name": "#%%\n"
    }
   }
  },
  {
   "cell_type": "code",
   "execution_count": 16,
   "outputs": [],
   "source": [
    "#b_data.to_csv('content/building_metadata.csv')"
   ],
   "metadata": {
    "collapsed": false,
    "pycharm": {
     "name": "#%%\n"
    }
   }
  },
  {
   "cell_type": "code",
   "execution_count": 17,
   "outputs": [
    {
     "data": {
      "text/plain": "     Unnamed: 0  Unnamed: 0.1  site_id  building_id primary_use  square_feet  \\\n0             0           105        1          105   Education        50623   \n1             1           106        1          106   Education         5374   \n2             2           107        1          107   Education        97532   \n3             3           108        1          108   Education        81580   \n4             4           109        1          109   Education        56995   \n..          ...           ...      ...          ...         ...          ...   \n350         350          1051       12         1051   Education        28406   \n351         351          1052       12         1052      Retail        45305   \n352         352          1054       12         1054   Education       204998   \n353         353          1055       12         1055   Education        86714   \n354         354          1057       12         1057   Education        26372   \n\n     year_built  floor_count floor area  \n0           0.0          5.0     1    1  \n1           0.0          4.0     1    0  \n2        2005.0         10.0     2    2  \n3        1913.0          5.0     1    1  \n4        1953.0          6.0     2    1  \n..          ...          ...   ...  ...  \n350         0.0          1.0     0    0  \n351         0.0          2.0     0    1  \n352         0.0          4.0     1    2  \n353         0.0          4.0     1    1  \n354         0.0          4.0     1    0  \n\n[355 rows x 10 columns]",
      "text/html": "<div>\n<style scoped>\n    .dataframe tbody tr th:only-of-type {\n        vertical-align: middle;\n    }\n\n    .dataframe tbody tr th {\n        vertical-align: top;\n    }\n\n    .dataframe thead th {\n        text-align: right;\n    }\n</style>\n<table border=\"1\" class=\"dataframe\">\n  <thead>\n    <tr style=\"text-align: right;\">\n      <th></th>\n      <th>Unnamed: 0</th>\n      <th>Unnamed: 0.1</th>\n      <th>site_id</th>\n      <th>building_id</th>\n      <th>primary_use</th>\n      <th>square_feet</th>\n      <th>year_built</th>\n      <th>floor_count</th>\n      <th>floor</th>\n      <th>area</th>\n    </tr>\n  </thead>\n  <tbody>\n    <tr>\n      <th>0</th>\n      <td>0</td>\n      <td>105</td>\n      <td>1</td>\n      <td>105</td>\n      <td>Education</td>\n      <td>50623</td>\n      <td>0.0</td>\n      <td>5.0</td>\n      <td>1</td>\n      <td>1</td>\n    </tr>\n    <tr>\n      <th>1</th>\n      <td>1</td>\n      <td>106</td>\n      <td>1</td>\n      <td>106</td>\n      <td>Education</td>\n      <td>5374</td>\n      <td>0.0</td>\n      <td>4.0</td>\n      <td>1</td>\n      <td>0</td>\n    </tr>\n    <tr>\n      <th>2</th>\n      <td>2</td>\n      <td>107</td>\n      <td>1</td>\n      <td>107</td>\n      <td>Education</td>\n      <td>97532</td>\n      <td>2005.0</td>\n      <td>10.0</td>\n      <td>2</td>\n      <td>2</td>\n    </tr>\n    <tr>\n      <th>3</th>\n      <td>3</td>\n      <td>108</td>\n      <td>1</td>\n      <td>108</td>\n      <td>Education</td>\n      <td>81580</td>\n      <td>1913.0</td>\n      <td>5.0</td>\n      <td>1</td>\n      <td>1</td>\n    </tr>\n    <tr>\n      <th>4</th>\n      <td>4</td>\n      <td>109</td>\n      <td>1</td>\n      <td>109</td>\n      <td>Education</td>\n      <td>56995</td>\n      <td>1953.0</td>\n      <td>6.0</td>\n      <td>2</td>\n      <td>1</td>\n    </tr>\n    <tr>\n      <th>...</th>\n      <td>...</td>\n      <td>...</td>\n      <td>...</td>\n      <td>...</td>\n      <td>...</td>\n      <td>...</td>\n      <td>...</td>\n      <td>...</td>\n      <td>...</td>\n      <td>...</td>\n    </tr>\n    <tr>\n      <th>350</th>\n      <td>350</td>\n      <td>1051</td>\n      <td>12</td>\n      <td>1051</td>\n      <td>Education</td>\n      <td>28406</td>\n      <td>0.0</td>\n      <td>1.0</td>\n      <td>0</td>\n      <td>0</td>\n    </tr>\n    <tr>\n      <th>351</th>\n      <td>351</td>\n      <td>1052</td>\n      <td>12</td>\n      <td>1052</td>\n      <td>Retail</td>\n      <td>45305</td>\n      <td>0.0</td>\n      <td>2.0</td>\n      <td>0</td>\n      <td>1</td>\n    </tr>\n    <tr>\n      <th>352</th>\n      <td>352</td>\n      <td>1054</td>\n      <td>12</td>\n      <td>1054</td>\n      <td>Education</td>\n      <td>204998</td>\n      <td>0.0</td>\n      <td>4.0</td>\n      <td>1</td>\n      <td>2</td>\n    </tr>\n    <tr>\n      <th>353</th>\n      <td>353</td>\n      <td>1055</td>\n      <td>12</td>\n      <td>1055</td>\n      <td>Education</td>\n      <td>86714</td>\n      <td>0.0</td>\n      <td>4.0</td>\n      <td>1</td>\n      <td>1</td>\n    </tr>\n    <tr>\n      <th>354</th>\n      <td>354</td>\n      <td>1057</td>\n      <td>12</td>\n      <td>1057</td>\n      <td>Education</td>\n      <td>26372</td>\n      <td>0.0</td>\n      <td>4.0</td>\n      <td>1</td>\n      <td>0</td>\n    </tr>\n  </tbody>\n</table>\n<p>355 rows × 10 columns</p>\n</div>"
     },
     "execution_count": 17,
     "metadata": {},
     "output_type": "execute_result"
    }
   ],
   "source": [
    "b_data"
   ],
   "metadata": {
    "collapsed": false,
    "pycharm": {
     "name": "#%%\n"
    }
   }
  },
  {
   "cell_type": "code",
   "execution_count": 18,
   "outputs": [
    {
     "data": {
      "text/plain": "     Unnamed: 0  Unnamed: 0.1  site_id  building_id  \\\n0             0           105        1          105   \n1             1           106        1          106   \n3             3           108        1          108   \n11           11           116        1          116   \n12           12           117        1          117   \n..          ...           ...      ...          ...   \n337         337          1019       10         1019   \n348         348          1044       12         1044   \n352         352          1054       12         1054   \n353         353          1055       12         1055   \n354         354          1057       12         1057   \n\n                       primary_use  square_feet  year_built  floor_count  \\\n0                        Education        50623         0.0          5.0   \n1                        Education         5374         0.0          4.0   \n3                        Education        81580      1913.0          5.0   \n11                       Education        37265         0.0          5.0   \n12                       Education        15489      2004.0          4.0   \n..                             ...          ...         ...          ...   \n337  Entertainment/public assembly        39788         0.0          5.0   \n348                      Education       150673         0.0          4.0   \n352                      Education       204998         0.0          4.0   \n353                      Education        86714         0.0          4.0   \n354                      Education        26372         0.0          4.0   \n\n    floor area  \n0       1    1  \n1       1    0  \n3       1    1  \n11      1    0  \n12      1    0  \n..    ...  ...  \n337     1    0  \n348     1    2  \n352     1    2  \n353     1    1  \n354     1    0  \n\n[62 rows x 10 columns]",
      "text/html": "<div>\n<style scoped>\n    .dataframe tbody tr th:only-of-type {\n        vertical-align: middle;\n    }\n\n    .dataframe tbody tr th {\n        vertical-align: top;\n    }\n\n    .dataframe thead th {\n        text-align: right;\n    }\n</style>\n<table border=\"1\" class=\"dataframe\">\n  <thead>\n    <tr style=\"text-align: right;\">\n      <th></th>\n      <th>Unnamed: 0</th>\n      <th>Unnamed: 0.1</th>\n      <th>site_id</th>\n      <th>building_id</th>\n      <th>primary_use</th>\n      <th>square_feet</th>\n      <th>year_built</th>\n      <th>floor_count</th>\n      <th>floor</th>\n      <th>area</th>\n    </tr>\n  </thead>\n  <tbody>\n    <tr>\n      <th>0</th>\n      <td>0</td>\n      <td>105</td>\n      <td>1</td>\n      <td>105</td>\n      <td>Education</td>\n      <td>50623</td>\n      <td>0.0</td>\n      <td>5.0</td>\n      <td>1</td>\n      <td>1</td>\n    </tr>\n    <tr>\n      <th>1</th>\n      <td>1</td>\n      <td>106</td>\n      <td>1</td>\n      <td>106</td>\n      <td>Education</td>\n      <td>5374</td>\n      <td>0.0</td>\n      <td>4.0</td>\n      <td>1</td>\n      <td>0</td>\n    </tr>\n    <tr>\n      <th>3</th>\n      <td>3</td>\n      <td>108</td>\n      <td>1</td>\n      <td>108</td>\n      <td>Education</td>\n      <td>81580</td>\n      <td>1913.0</td>\n      <td>5.0</td>\n      <td>1</td>\n      <td>1</td>\n    </tr>\n    <tr>\n      <th>11</th>\n      <td>11</td>\n      <td>116</td>\n      <td>1</td>\n      <td>116</td>\n      <td>Education</td>\n      <td>37265</td>\n      <td>0.0</td>\n      <td>5.0</td>\n      <td>1</td>\n      <td>0</td>\n    </tr>\n    <tr>\n      <th>12</th>\n      <td>12</td>\n      <td>117</td>\n      <td>1</td>\n      <td>117</td>\n      <td>Education</td>\n      <td>15489</td>\n      <td>2004.0</td>\n      <td>4.0</td>\n      <td>1</td>\n      <td>0</td>\n    </tr>\n    <tr>\n      <th>...</th>\n      <td>...</td>\n      <td>...</td>\n      <td>...</td>\n      <td>...</td>\n      <td>...</td>\n      <td>...</td>\n      <td>...</td>\n      <td>...</td>\n      <td>...</td>\n      <td>...</td>\n    </tr>\n    <tr>\n      <th>337</th>\n      <td>337</td>\n      <td>1019</td>\n      <td>10</td>\n      <td>1019</td>\n      <td>Entertainment/public assembly</td>\n      <td>39788</td>\n      <td>0.0</td>\n      <td>5.0</td>\n      <td>1</td>\n      <td>0</td>\n    </tr>\n    <tr>\n      <th>348</th>\n      <td>348</td>\n      <td>1044</td>\n      <td>12</td>\n      <td>1044</td>\n      <td>Education</td>\n      <td>150673</td>\n      <td>0.0</td>\n      <td>4.0</td>\n      <td>1</td>\n      <td>2</td>\n    </tr>\n    <tr>\n      <th>352</th>\n      <td>352</td>\n      <td>1054</td>\n      <td>12</td>\n      <td>1054</td>\n      <td>Education</td>\n      <td>204998</td>\n      <td>0.0</td>\n      <td>4.0</td>\n      <td>1</td>\n      <td>2</td>\n    </tr>\n    <tr>\n      <th>353</th>\n      <td>353</td>\n      <td>1055</td>\n      <td>12</td>\n      <td>1055</td>\n      <td>Education</td>\n      <td>86714</td>\n      <td>0.0</td>\n      <td>4.0</td>\n      <td>1</td>\n      <td>1</td>\n    </tr>\n    <tr>\n      <th>354</th>\n      <td>354</td>\n      <td>1057</td>\n      <td>12</td>\n      <td>1057</td>\n      <td>Education</td>\n      <td>26372</td>\n      <td>0.0</td>\n      <td>4.0</td>\n      <td>1</td>\n      <td>0</td>\n    </tr>\n  </tbody>\n</table>\n<p>62 rows × 10 columns</p>\n</div>"
     },
     "execution_count": 18,
     "metadata": {},
     "output_type": "execute_result"
    }
   ],
   "source": [
    "b_data[ b_data['floor'] == '1' ]"
   ],
   "metadata": {
    "collapsed": false,
    "pycharm": {
     "name": "#%%\n"
    }
   }
  },
  {
   "cell_type": "code",
   "execution_count": 19,
   "outputs": [
    {
     "data": {
      "text/plain": "     Unnamed: 0  Unnamed: 0.1  site_id  building_id primary_use  square_feet  \\\n47           47           152        1          152      Office        10301   \n48           48           153        1          153      Office        16092   \n51           51           565        4          565   Education        15326   \n52           52           566        4          566   Education         2010   \n54           54           568        4          568   Education        14150   \n..          ...           ...      ...          ...         ...          ...   \n346         346          1034       12         1034      Retail         3907   \n347         347          1039       12         1039   Education        30171   \n349         349          1050       12         1050      Office        50493   \n350         350          1051       12         1051   Education        28406   \n351         351          1052       12         1052      Retail        45305   \n\n     year_built  floor_count floor area  \n47       1970.0          2.0     0    0  \n48       1965.0          3.0     0    0  \n51       1954.0          2.0     0    0  \n52       1957.0          1.0     0    0  \n54       1974.0          2.0     0    0  \n..          ...          ...   ...  ...  \n346         0.0          1.0     0    0  \n347         0.0          3.0     0    0  \n349         0.0          2.0     0    1  \n350         0.0          1.0     0    0  \n351         0.0          2.0     0    1  \n\n[209 rows x 10 columns]",
      "text/html": "<div>\n<style scoped>\n    .dataframe tbody tr th:only-of-type {\n        vertical-align: middle;\n    }\n\n    .dataframe tbody tr th {\n        vertical-align: top;\n    }\n\n    .dataframe thead th {\n        text-align: right;\n    }\n</style>\n<table border=\"1\" class=\"dataframe\">\n  <thead>\n    <tr style=\"text-align: right;\">\n      <th></th>\n      <th>Unnamed: 0</th>\n      <th>Unnamed: 0.1</th>\n      <th>site_id</th>\n      <th>building_id</th>\n      <th>primary_use</th>\n      <th>square_feet</th>\n      <th>year_built</th>\n      <th>floor_count</th>\n      <th>floor</th>\n      <th>area</th>\n    </tr>\n  </thead>\n  <tbody>\n    <tr>\n      <th>47</th>\n      <td>47</td>\n      <td>152</td>\n      <td>1</td>\n      <td>152</td>\n      <td>Office</td>\n      <td>10301</td>\n      <td>1970.0</td>\n      <td>2.0</td>\n      <td>0</td>\n      <td>0</td>\n    </tr>\n    <tr>\n      <th>48</th>\n      <td>48</td>\n      <td>153</td>\n      <td>1</td>\n      <td>153</td>\n      <td>Office</td>\n      <td>16092</td>\n      <td>1965.0</td>\n      <td>3.0</td>\n      <td>0</td>\n      <td>0</td>\n    </tr>\n    <tr>\n      <th>51</th>\n      <td>51</td>\n      <td>565</td>\n      <td>4</td>\n      <td>565</td>\n      <td>Education</td>\n      <td>15326</td>\n      <td>1954.0</td>\n      <td>2.0</td>\n      <td>0</td>\n      <td>0</td>\n    </tr>\n    <tr>\n      <th>52</th>\n      <td>52</td>\n      <td>566</td>\n      <td>4</td>\n      <td>566</td>\n      <td>Education</td>\n      <td>2010</td>\n      <td>1957.0</td>\n      <td>1.0</td>\n      <td>0</td>\n      <td>0</td>\n    </tr>\n    <tr>\n      <th>54</th>\n      <td>54</td>\n      <td>568</td>\n      <td>4</td>\n      <td>568</td>\n      <td>Education</td>\n      <td>14150</td>\n      <td>1974.0</td>\n      <td>2.0</td>\n      <td>0</td>\n      <td>0</td>\n    </tr>\n    <tr>\n      <th>...</th>\n      <td>...</td>\n      <td>...</td>\n      <td>...</td>\n      <td>...</td>\n      <td>...</td>\n      <td>...</td>\n      <td>...</td>\n      <td>...</td>\n      <td>...</td>\n      <td>...</td>\n    </tr>\n    <tr>\n      <th>346</th>\n      <td>346</td>\n      <td>1034</td>\n      <td>12</td>\n      <td>1034</td>\n      <td>Retail</td>\n      <td>3907</td>\n      <td>0.0</td>\n      <td>1.0</td>\n      <td>0</td>\n      <td>0</td>\n    </tr>\n    <tr>\n      <th>347</th>\n      <td>347</td>\n      <td>1039</td>\n      <td>12</td>\n      <td>1039</td>\n      <td>Education</td>\n      <td>30171</td>\n      <td>0.0</td>\n      <td>3.0</td>\n      <td>0</td>\n      <td>0</td>\n    </tr>\n    <tr>\n      <th>349</th>\n      <td>349</td>\n      <td>1050</td>\n      <td>12</td>\n      <td>1050</td>\n      <td>Office</td>\n      <td>50493</td>\n      <td>0.0</td>\n      <td>2.0</td>\n      <td>0</td>\n      <td>1</td>\n    </tr>\n    <tr>\n      <th>350</th>\n      <td>350</td>\n      <td>1051</td>\n      <td>12</td>\n      <td>1051</td>\n      <td>Education</td>\n      <td>28406</td>\n      <td>0.0</td>\n      <td>1.0</td>\n      <td>0</td>\n      <td>0</td>\n    </tr>\n    <tr>\n      <th>351</th>\n      <td>351</td>\n      <td>1052</td>\n      <td>12</td>\n      <td>1052</td>\n      <td>Retail</td>\n      <td>45305</td>\n      <td>0.0</td>\n      <td>2.0</td>\n      <td>0</td>\n      <td>1</td>\n    </tr>\n  </tbody>\n</table>\n<p>209 rows × 10 columns</p>\n</div>"
     },
     "execution_count": 19,
     "metadata": {},
     "output_type": "execute_result"
    }
   ],
   "source": [
    "b_data[ b_data['floor'] == '0' ]"
   ],
   "metadata": {
    "collapsed": false,
    "pycharm": {
     "name": "#%%\n"
    }
   }
  },
  {
   "cell_type": "code",
   "execution_count": 20,
   "outputs": [
    {
     "data": {
      "text/plain": "     Unnamed: 0  Unnamed: 0.1  site_id  building_id         primary_use  \\\n2             2           107        1          107           Education   \n4             4           109        1          109           Education   \n5             5           110        1          110           Education   \n6             6           111        1          111           Education   \n7             7           112        1          112           Education   \n..          ...           ...      ...          ...                 ...   \n239         239           797        7          797           Education   \n240         240           798        7          798           Education   \n241         241           799        7          799           Education   \n244         244           802        7          802           Education   \n335         335          1017       10         1017  Technology/science   \n\n     square_feet  year_built  floor_count floor area  \n2          97532      2005.0         10.0     2    2  \n4          56995      1953.0          6.0     2    1  \n5          27814      2006.0          8.0     2    0  \n6         118338      1909.0          7.0     2    2  \n7          32206         0.0          6.0     2    0  \n..           ...         ...          ...   ...  ...  \n239       764237      1979.0         13.0     2    2  \n240       409028      1970.0         21.0     2    2  \n241       527431      1976.0         26.0     2    2  \n244       290625      1995.0         19.0     2    2  \n335       109263         0.0          6.0     2    2  \n\n[84 rows x 10 columns]",
      "text/html": "<div>\n<style scoped>\n    .dataframe tbody tr th:only-of-type {\n        vertical-align: middle;\n    }\n\n    .dataframe tbody tr th {\n        vertical-align: top;\n    }\n\n    .dataframe thead th {\n        text-align: right;\n    }\n</style>\n<table border=\"1\" class=\"dataframe\">\n  <thead>\n    <tr style=\"text-align: right;\">\n      <th></th>\n      <th>Unnamed: 0</th>\n      <th>Unnamed: 0.1</th>\n      <th>site_id</th>\n      <th>building_id</th>\n      <th>primary_use</th>\n      <th>square_feet</th>\n      <th>year_built</th>\n      <th>floor_count</th>\n      <th>floor</th>\n      <th>area</th>\n    </tr>\n  </thead>\n  <tbody>\n    <tr>\n      <th>2</th>\n      <td>2</td>\n      <td>107</td>\n      <td>1</td>\n      <td>107</td>\n      <td>Education</td>\n      <td>97532</td>\n      <td>2005.0</td>\n      <td>10.0</td>\n      <td>2</td>\n      <td>2</td>\n    </tr>\n    <tr>\n      <th>4</th>\n      <td>4</td>\n      <td>109</td>\n      <td>1</td>\n      <td>109</td>\n      <td>Education</td>\n      <td>56995</td>\n      <td>1953.0</td>\n      <td>6.0</td>\n      <td>2</td>\n      <td>1</td>\n    </tr>\n    <tr>\n      <th>5</th>\n      <td>5</td>\n      <td>110</td>\n      <td>1</td>\n      <td>110</td>\n      <td>Education</td>\n      <td>27814</td>\n      <td>2006.0</td>\n      <td>8.0</td>\n      <td>2</td>\n      <td>0</td>\n    </tr>\n    <tr>\n      <th>6</th>\n      <td>6</td>\n      <td>111</td>\n      <td>1</td>\n      <td>111</td>\n      <td>Education</td>\n      <td>118338</td>\n      <td>1909.0</td>\n      <td>7.0</td>\n      <td>2</td>\n      <td>2</td>\n    </tr>\n    <tr>\n      <th>7</th>\n      <td>7</td>\n      <td>112</td>\n      <td>1</td>\n      <td>112</td>\n      <td>Education</td>\n      <td>32206</td>\n      <td>0.0</td>\n      <td>6.0</td>\n      <td>2</td>\n      <td>0</td>\n    </tr>\n    <tr>\n      <th>...</th>\n      <td>...</td>\n      <td>...</td>\n      <td>...</td>\n      <td>...</td>\n      <td>...</td>\n      <td>...</td>\n      <td>...</td>\n      <td>...</td>\n      <td>...</td>\n      <td>...</td>\n    </tr>\n    <tr>\n      <th>239</th>\n      <td>239</td>\n      <td>797</td>\n      <td>7</td>\n      <td>797</td>\n      <td>Education</td>\n      <td>764237</td>\n      <td>1979.0</td>\n      <td>13.0</td>\n      <td>2</td>\n      <td>2</td>\n    </tr>\n    <tr>\n      <th>240</th>\n      <td>240</td>\n      <td>798</td>\n      <td>7</td>\n      <td>798</td>\n      <td>Education</td>\n      <td>409028</td>\n      <td>1970.0</td>\n      <td>21.0</td>\n      <td>2</td>\n      <td>2</td>\n    </tr>\n    <tr>\n      <th>241</th>\n      <td>241</td>\n      <td>799</td>\n      <td>7</td>\n      <td>799</td>\n      <td>Education</td>\n      <td>527431</td>\n      <td>1976.0</td>\n      <td>26.0</td>\n      <td>2</td>\n      <td>2</td>\n    </tr>\n    <tr>\n      <th>244</th>\n      <td>244</td>\n      <td>802</td>\n      <td>7</td>\n      <td>802</td>\n      <td>Education</td>\n      <td>290625</td>\n      <td>1995.0</td>\n      <td>19.0</td>\n      <td>2</td>\n      <td>2</td>\n    </tr>\n    <tr>\n      <th>335</th>\n      <td>335</td>\n      <td>1017</td>\n      <td>10</td>\n      <td>1017</td>\n      <td>Technology/science</td>\n      <td>109263</td>\n      <td>0.0</td>\n      <td>6.0</td>\n      <td>2</td>\n      <td>2</td>\n    </tr>\n  </tbody>\n</table>\n<p>84 rows × 10 columns</p>\n</div>"
     },
     "execution_count": 20,
     "metadata": {},
     "output_type": "execute_result"
    }
   ],
   "source": [
    "b_data[ b_data['floor'] == '2' ]"
   ],
   "metadata": {
    "collapsed": false,
    "pycharm": {
     "name": "#%%\n"
    }
   }
  },
  {
   "cell_type": "code",
   "execution_count": 21,
   "outputs": [
    {
     "data": {
      "text/plain": "    Unnamed: 0  Unnamed: 0.1  site_id  building_id primary_use  square_feet  \\\n20          20           125        1          125   Education        16802   \n\n    year_built  floor_count floor area  \n20      1995.0          6.0     2    0  ",
      "text/html": "<div>\n<style scoped>\n    .dataframe tbody tr th:only-of-type {\n        vertical-align: middle;\n    }\n\n    .dataframe tbody tr th {\n        vertical-align: top;\n    }\n\n    .dataframe thead th {\n        text-align: right;\n    }\n</style>\n<table border=\"1\" class=\"dataframe\">\n  <thead>\n    <tr style=\"text-align: right;\">\n      <th></th>\n      <th>Unnamed: 0</th>\n      <th>Unnamed: 0.1</th>\n      <th>site_id</th>\n      <th>building_id</th>\n      <th>primary_use</th>\n      <th>square_feet</th>\n      <th>year_built</th>\n      <th>floor_count</th>\n      <th>floor</th>\n      <th>area</th>\n    </tr>\n  </thead>\n  <tbody>\n    <tr>\n      <th>20</th>\n      <td>20</td>\n      <td>125</td>\n      <td>1</td>\n      <td>125</td>\n      <td>Education</td>\n      <td>16802</td>\n      <td>1995.0</td>\n      <td>6.0</td>\n      <td>2</td>\n      <td>0</td>\n    </tr>\n  </tbody>\n</table>\n</div>"
     },
     "execution_count": 21,
     "metadata": {},
     "output_type": "execute_result"
    }
   ],
   "source": [
    "b_data.query('building_id==125')"
   ],
   "metadata": {
    "collapsed": false,
    "pycharm": {
     "name": "#%%\n"
    }
   }
  },
  {
   "cell_type": "code",
   "execution_count": 22,
   "outputs": [
    {
     "data": {
      "text/plain": "0       (4.0, 26.0]\n1        (2.0, 4.0]\n2       (4.0, 26.0]\n3       (4.0, 26.0]\n4       (4.0, 26.0]\n           ...     \n350    (0.999, 2.0]\n351    (0.999, 2.0]\n352      (2.0, 4.0]\n353      (2.0, 4.0]\n354      (2.0, 4.0]\nName: floor_count, Length: 355, dtype: category\nCategories (3, interval[float64, right]): [(0.999, 2.0] < (2.0, 4.0] < (4.0, 26.0]]"
     },
     "execution_count": 22,
     "metadata": {},
     "output_type": "execute_result"
    }
   ],
   "source": [
    "pd.qcut( b_data['floor_count'] , 3)"
   ],
   "metadata": {
    "collapsed": false,
    "pycharm": {
     "name": "#%%\n"
    }
   }
  },
  {
   "cell_type": "code",
   "execution_count": 23,
   "outputs": [
    {
     "data": {
      "text/plain": "0       (40085.0, 93969.5]\n1       (355.999, 14150.0]\n2      (93969.5, 875000.0]\n3       (40085.0, 93969.5]\n4       (40085.0, 93969.5]\n              ...         \n350     (14150.0, 40085.0]\n351     (40085.0, 93969.5]\n352    (93969.5, 875000.0]\n353     (40085.0, 93969.5]\n354     (14150.0, 40085.0]\nName: square_feet, Length: 355, dtype: category\nCategories (4, interval[float64, right]): [(355.999, 14150.0] < (14150.0, 40085.0] < (40085.0, 93969.5] < (93969.5, 875000.0]]"
     },
     "execution_count": 23,
     "metadata": {},
     "output_type": "execute_result"
    }
   ],
   "source": [
    "pd.qcut( b_data['square_feet'] , 4)"
   ],
   "metadata": {
    "collapsed": false,
    "pycharm": {
     "name": "#%%\n"
    }
   }
  },
  {
   "cell_type": "code",
   "execution_count": 28,
   "outputs": [
    {
     "data": {
      "text/plain": "    Unnamed: 0  Unnamed: 0.1  site_id  building_id primary_use  square_feet  \\\n17          17           122        1          122   Education        83043   \n\n    year_built  floor_count floor area  \n17      1991.0          6.0     2    1  ",
      "text/html": "<div>\n<style scoped>\n    .dataframe tbody tr th:only-of-type {\n        vertical-align: middle;\n    }\n\n    .dataframe tbody tr th {\n        vertical-align: top;\n    }\n\n    .dataframe thead th {\n        text-align: right;\n    }\n</style>\n<table border=\"1\" class=\"dataframe\">\n  <thead>\n    <tr style=\"text-align: right;\">\n      <th></th>\n      <th>Unnamed: 0</th>\n      <th>Unnamed: 0.1</th>\n      <th>site_id</th>\n      <th>building_id</th>\n      <th>primary_use</th>\n      <th>square_feet</th>\n      <th>year_built</th>\n      <th>floor_count</th>\n      <th>floor</th>\n      <th>area</th>\n    </tr>\n  </thead>\n  <tbody>\n    <tr>\n      <th>17</th>\n      <td>17</td>\n      <td>122</td>\n      <td>1</td>\n      <td>122</td>\n      <td>Education</td>\n      <td>83043</td>\n      <td>1991.0</td>\n      <td>6.0</td>\n      <td>2</td>\n      <td>1</td>\n    </tr>\n  </tbody>\n</table>\n</div>"
     },
     "execution_count": 28,
     "metadata": {},
     "output_type": "execute_result"
    }
   ],
   "source": [
    "b_data[b_data.building_id==122]"
   ],
   "metadata": {
    "collapsed": false,
    "pycharm": {
     "name": "#%%\n"
    }
   }
  },
  {
   "cell_type": "code",
   "execution_count": 40,
   "outputs": [
    {
     "data": {
      "text/plain": "     Unnamed: 0  Unnamed: 0.1  site_id  building_id primary_use  square_feet  \\\n0             0           105        1          105   Education        50623   \n3             3           108        1          108   Education        81580   \n4             4           109        1          109   Education        56995   \n14           14           119        1          119   Education        91149   \n15           15           120        1          120   Education        68211   \n17           17           122        1          122   Education        83043   \n18           18           123        1          123   Education        61204   \n55           55           569        4          569   Education        86091   \n57           57           571        4          571   Education        47954   \n60           60           574        4          574   Education        56343   \n62           62           576        4          576   Education        86465   \n79           79           593        4          593   Education        66203   \n86           86           600        4          600   Education        44182   \n91           91           605        4          605   Education        51020   \n98           98           612        4          612   Education        77055   \n105         105           619        4          619   Education        68146   \n109         109           623        4          623   Education        49388   \n110         110           624        4          624   Education        46204   \n111         111           625        4          625   Education        55516   \n113         113           627        4          627   Education        56637   \n114         114           628        4          628   Education        40706   \n115         115           629        4          629   Education        40835   \n116         116           630        4          630   Education        93420   \n118         118           632        4          632   Education        41297   \n132         132           646        4          646   Education        58733   \n136         136           650        4          650   Education        75228   \n140         140           654        4          654   Education        43910   \n185         185           699        5          699   Education        93764   \n210         210           724        5          724   Education        88856   \n218         218           732        5          732   Education        66187   \n231         231           789        7          789   Education        64583   \n232         232           790        7          790   Education        86111   \n242         242           800        7          800   Education        64583   \n322         322          1004       10         1004   Education        74886   \n326         326          1008       10         1008   Education        74420   \n329         329          1011       10         1011   Education        65144   \n331         331          1013       10         1013   Education        67377   \n340         340          1022       10         1022   Education        84346   \n341         341          1023       10         1023   Education        87976   \n342         342          1024       10         1024   Education        53855   \n353         353          1055       12         1055   Education        86714   \n\n     year_built  floor_count floor area  \n0           0.0          5.0     1    1  \n3        1913.0          5.0     1    1  \n4        1953.0          6.0     2    1  \n14       2007.0          7.0     2    1  \n15       1976.0          7.0     2    1  \n17       1991.0          6.0     2    1  \n18       1989.0          6.0     2    1  \n55       1964.0          8.0     2    1  \n57       1980.0          3.0     0    1  \n60       1905.0          4.0     1    1  \n62       2014.0          7.0     2    1  \n79       2015.0          6.0     2    1  \n86       1917.0          5.0     1    1  \n91       1924.0          5.0     1    1  \n98       1917.0          4.0     1    1  \n105      1948.0          6.0     2    1  \n109      1931.0          6.0     2    1  \n110      1941.0          5.0     1    1  \n111      1978.0          5.0     1    1  \n113      1953.0          5.0     1    1  \n114      1958.0          3.0     0    1  \n115      1931.0          6.0     2    1  \n116      1948.0          5.0     1    1  \n118      1959.0          6.0     2    1  \n132      1923.0          6.0     2    1  \n136      1993.0          4.0     1    1  \n140      1912.0          5.0     1    1  \n185      1945.0          3.0     0    1  \n210      1976.0          2.0     0    1  \n218      1976.0          1.0     0    1  \n231      1923.0          1.0     0    1  \n232      1911.0          8.0     2    1  \n242      1955.0          2.0     0    1  \n322         0.0          2.0     0    1  \n326         0.0          2.0     0    1  \n329         0.0          4.0     1    1  \n331         0.0          3.0     0    1  \n340         0.0          2.0     0    1  \n341         0.0          2.0     0    1  \n342         0.0          2.0     0    1  \n353         0.0          4.0     1    1  ",
      "text/html": "<div>\n<style scoped>\n    .dataframe tbody tr th:only-of-type {\n        vertical-align: middle;\n    }\n\n    .dataframe tbody tr th {\n        vertical-align: top;\n    }\n\n    .dataframe thead th {\n        text-align: right;\n    }\n</style>\n<table border=\"1\" class=\"dataframe\">\n  <thead>\n    <tr style=\"text-align: right;\">\n      <th></th>\n      <th>Unnamed: 0</th>\n      <th>Unnamed: 0.1</th>\n      <th>site_id</th>\n      <th>building_id</th>\n      <th>primary_use</th>\n      <th>square_feet</th>\n      <th>year_built</th>\n      <th>floor_count</th>\n      <th>floor</th>\n      <th>area</th>\n    </tr>\n  </thead>\n  <tbody>\n    <tr>\n      <th>0</th>\n      <td>0</td>\n      <td>105</td>\n      <td>1</td>\n      <td>105</td>\n      <td>Education</td>\n      <td>50623</td>\n      <td>0.0</td>\n      <td>5.0</td>\n      <td>1</td>\n      <td>1</td>\n    </tr>\n    <tr>\n      <th>3</th>\n      <td>3</td>\n      <td>108</td>\n      <td>1</td>\n      <td>108</td>\n      <td>Education</td>\n      <td>81580</td>\n      <td>1913.0</td>\n      <td>5.0</td>\n      <td>1</td>\n      <td>1</td>\n    </tr>\n    <tr>\n      <th>4</th>\n      <td>4</td>\n      <td>109</td>\n      <td>1</td>\n      <td>109</td>\n      <td>Education</td>\n      <td>56995</td>\n      <td>1953.0</td>\n      <td>6.0</td>\n      <td>2</td>\n      <td>1</td>\n    </tr>\n    <tr>\n      <th>14</th>\n      <td>14</td>\n      <td>119</td>\n      <td>1</td>\n      <td>119</td>\n      <td>Education</td>\n      <td>91149</td>\n      <td>2007.0</td>\n      <td>7.0</td>\n      <td>2</td>\n      <td>1</td>\n    </tr>\n    <tr>\n      <th>15</th>\n      <td>15</td>\n      <td>120</td>\n      <td>1</td>\n      <td>120</td>\n      <td>Education</td>\n      <td>68211</td>\n      <td>1976.0</td>\n      <td>7.0</td>\n      <td>2</td>\n      <td>1</td>\n    </tr>\n    <tr>\n      <th>17</th>\n      <td>17</td>\n      <td>122</td>\n      <td>1</td>\n      <td>122</td>\n      <td>Education</td>\n      <td>83043</td>\n      <td>1991.0</td>\n      <td>6.0</td>\n      <td>2</td>\n      <td>1</td>\n    </tr>\n    <tr>\n      <th>18</th>\n      <td>18</td>\n      <td>123</td>\n      <td>1</td>\n      <td>123</td>\n      <td>Education</td>\n      <td>61204</td>\n      <td>1989.0</td>\n      <td>6.0</td>\n      <td>2</td>\n      <td>1</td>\n    </tr>\n    <tr>\n      <th>55</th>\n      <td>55</td>\n      <td>569</td>\n      <td>4</td>\n      <td>569</td>\n      <td>Education</td>\n      <td>86091</td>\n      <td>1964.0</td>\n      <td>8.0</td>\n      <td>2</td>\n      <td>1</td>\n    </tr>\n    <tr>\n      <th>57</th>\n      <td>57</td>\n      <td>571</td>\n      <td>4</td>\n      <td>571</td>\n      <td>Education</td>\n      <td>47954</td>\n      <td>1980.0</td>\n      <td>3.0</td>\n      <td>0</td>\n      <td>1</td>\n    </tr>\n    <tr>\n      <th>60</th>\n      <td>60</td>\n      <td>574</td>\n      <td>4</td>\n      <td>574</td>\n      <td>Education</td>\n      <td>56343</td>\n      <td>1905.0</td>\n      <td>4.0</td>\n      <td>1</td>\n      <td>1</td>\n    </tr>\n    <tr>\n      <th>62</th>\n      <td>62</td>\n      <td>576</td>\n      <td>4</td>\n      <td>576</td>\n      <td>Education</td>\n      <td>86465</td>\n      <td>2014.0</td>\n      <td>7.0</td>\n      <td>2</td>\n      <td>1</td>\n    </tr>\n    <tr>\n      <th>79</th>\n      <td>79</td>\n      <td>593</td>\n      <td>4</td>\n      <td>593</td>\n      <td>Education</td>\n      <td>66203</td>\n      <td>2015.0</td>\n      <td>6.0</td>\n      <td>2</td>\n      <td>1</td>\n    </tr>\n    <tr>\n      <th>86</th>\n      <td>86</td>\n      <td>600</td>\n      <td>4</td>\n      <td>600</td>\n      <td>Education</td>\n      <td>44182</td>\n      <td>1917.0</td>\n      <td>5.0</td>\n      <td>1</td>\n      <td>1</td>\n    </tr>\n    <tr>\n      <th>91</th>\n      <td>91</td>\n      <td>605</td>\n      <td>4</td>\n      <td>605</td>\n      <td>Education</td>\n      <td>51020</td>\n      <td>1924.0</td>\n      <td>5.0</td>\n      <td>1</td>\n      <td>1</td>\n    </tr>\n    <tr>\n      <th>98</th>\n      <td>98</td>\n      <td>612</td>\n      <td>4</td>\n      <td>612</td>\n      <td>Education</td>\n      <td>77055</td>\n      <td>1917.0</td>\n      <td>4.0</td>\n      <td>1</td>\n      <td>1</td>\n    </tr>\n    <tr>\n      <th>105</th>\n      <td>105</td>\n      <td>619</td>\n      <td>4</td>\n      <td>619</td>\n      <td>Education</td>\n      <td>68146</td>\n      <td>1948.0</td>\n      <td>6.0</td>\n      <td>2</td>\n      <td>1</td>\n    </tr>\n    <tr>\n      <th>109</th>\n      <td>109</td>\n      <td>623</td>\n      <td>4</td>\n      <td>623</td>\n      <td>Education</td>\n      <td>49388</td>\n      <td>1931.0</td>\n      <td>6.0</td>\n      <td>2</td>\n      <td>1</td>\n    </tr>\n    <tr>\n      <th>110</th>\n      <td>110</td>\n      <td>624</td>\n      <td>4</td>\n      <td>624</td>\n      <td>Education</td>\n      <td>46204</td>\n      <td>1941.0</td>\n      <td>5.0</td>\n      <td>1</td>\n      <td>1</td>\n    </tr>\n    <tr>\n      <th>111</th>\n      <td>111</td>\n      <td>625</td>\n      <td>4</td>\n      <td>625</td>\n      <td>Education</td>\n      <td>55516</td>\n      <td>1978.0</td>\n      <td>5.0</td>\n      <td>1</td>\n      <td>1</td>\n    </tr>\n    <tr>\n      <th>113</th>\n      <td>113</td>\n      <td>627</td>\n      <td>4</td>\n      <td>627</td>\n      <td>Education</td>\n      <td>56637</td>\n      <td>1953.0</td>\n      <td>5.0</td>\n      <td>1</td>\n      <td>1</td>\n    </tr>\n    <tr>\n      <th>114</th>\n      <td>114</td>\n      <td>628</td>\n      <td>4</td>\n      <td>628</td>\n      <td>Education</td>\n      <td>40706</td>\n      <td>1958.0</td>\n      <td>3.0</td>\n      <td>0</td>\n      <td>1</td>\n    </tr>\n    <tr>\n      <th>115</th>\n      <td>115</td>\n      <td>629</td>\n      <td>4</td>\n      <td>629</td>\n      <td>Education</td>\n      <td>40835</td>\n      <td>1931.0</td>\n      <td>6.0</td>\n      <td>2</td>\n      <td>1</td>\n    </tr>\n    <tr>\n      <th>116</th>\n      <td>116</td>\n      <td>630</td>\n      <td>4</td>\n      <td>630</td>\n      <td>Education</td>\n      <td>93420</td>\n      <td>1948.0</td>\n      <td>5.0</td>\n      <td>1</td>\n      <td>1</td>\n    </tr>\n    <tr>\n      <th>118</th>\n      <td>118</td>\n      <td>632</td>\n      <td>4</td>\n      <td>632</td>\n      <td>Education</td>\n      <td>41297</td>\n      <td>1959.0</td>\n      <td>6.0</td>\n      <td>2</td>\n      <td>1</td>\n    </tr>\n    <tr>\n      <th>132</th>\n      <td>132</td>\n      <td>646</td>\n      <td>4</td>\n      <td>646</td>\n      <td>Education</td>\n      <td>58733</td>\n      <td>1923.0</td>\n      <td>6.0</td>\n      <td>2</td>\n      <td>1</td>\n    </tr>\n    <tr>\n      <th>136</th>\n      <td>136</td>\n      <td>650</td>\n      <td>4</td>\n      <td>650</td>\n      <td>Education</td>\n      <td>75228</td>\n      <td>1993.0</td>\n      <td>4.0</td>\n      <td>1</td>\n      <td>1</td>\n    </tr>\n    <tr>\n      <th>140</th>\n      <td>140</td>\n      <td>654</td>\n      <td>4</td>\n      <td>654</td>\n      <td>Education</td>\n      <td>43910</td>\n      <td>1912.0</td>\n      <td>5.0</td>\n      <td>1</td>\n      <td>1</td>\n    </tr>\n    <tr>\n      <th>185</th>\n      <td>185</td>\n      <td>699</td>\n      <td>5</td>\n      <td>699</td>\n      <td>Education</td>\n      <td>93764</td>\n      <td>1945.0</td>\n      <td>3.0</td>\n      <td>0</td>\n      <td>1</td>\n    </tr>\n    <tr>\n      <th>210</th>\n      <td>210</td>\n      <td>724</td>\n      <td>5</td>\n      <td>724</td>\n      <td>Education</td>\n      <td>88856</td>\n      <td>1976.0</td>\n      <td>2.0</td>\n      <td>0</td>\n      <td>1</td>\n    </tr>\n    <tr>\n      <th>218</th>\n      <td>218</td>\n      <td>732</td>\n      <td>5</td>\n      <td>732</td>\n      <td>Education</td>\n      <td>66187</td>\n      <td>1976.0</td>\n      <td>1.0</td>\n      <td>0</td>\n      <td>1</td>\n    </tr>\n    <tr>\n      <th>231</th>\n      <td>231</td>\n      <td>789</td>\n      <td>7</td>\n      <td>789</td>\n      <td>Education</td>\n      <td>64583</td>\n      <td>1923.0</td>\n      <td>1.0</td>\n      <td>0</td>\n      <td>1</td>\n    </tr>\n    <tr>\n      <th>232</th>\n      <td>232</td>\n      <td>790</td>\n      <td>7</td>\n      <td>790</td>\n      <td>Education</td>\n      <td>86111</td>\n      <td>1911.0</td>\n      <td>8.0</td>\n      <td>2</td>\n      <td>1</td>\n    </tr>\n    <tr>\n      <th>242</th>\n      <td>242</td>\n      <td>800</td>\n      <td>7</td>\n      <td>800</td>\n      <td>Education</td>\n      <td>64583</td>\n      <td>1955.0</td>\n      <td>2.0</td>\n      <td>0</td>\n      <td>1</td>\n    </tr>\n    <tr>\n      <th>322</th>\n      <td>322</td>\n      <td>1004</td>\n      <td>10</td>\n      <td>1004</td>\n      <td>Education</td>\n      <td>74886</td>\n      <td>0.0</td>\n      <td>2.0</td>\n      <td>0</td>\n      <td>1</td>\n    </tr>\n    <tr>\n      <th>326</th>\n      <td>326</td>\n      <td>1008</td>\n      <td>10</td>\n      <td>1008</td>\n      <td>Education</td>\n      <td>74420</td>\n      <td>0.0</td>\n      <td>2.0</td>\n      <td>0</td>\n      <td>1</td>\n    </tr>\n    <tr>\n      <th>329</th>\n      <td>329</td>\n      <td>1011</td>\n      <td>10</td>\n      <td>1011</td>\n      <td>Education</td>\n      <td>65144</td>\n      <td>0.0</td>\n      <td>4.0</td>\n      <td>1</td>\n      <td>1</td>\n    </tr>\n    <tr>\n      <th>331</th>\n      <td>331</td>\n      <td>1013</td>\n      <td>10</td>\n      <td>1013</td>\n      <td>Education</td>\n      <td>67377</td>\n      <td>0.0</td>\n      <td>3.0</td>\n      <td>0</td>\n      <td>1</td>\n    </tr>\n    <tr>\n      <th>340</th>\n      <td>340</td>\n      <td>1022</td>\n      <td>10</td>\n      <td>1022</td>\n      <td>Education</td>\n      <td>84346</td>\n      <td>0.0</td>\n      <td>2.0</td>\n      <td>0</td>\n      <td>1</td>\n    </tr>\n    <tr>\n      <th>341</th>\n      <td>341</td>\n      <td>1023</td>\n      <td>10</td>\n      <td>1023</td>\n      <td>Education</td>\n      <td>87976</td>\n      <td>0.0</td>\n      <td>2.0</td>\n      <td>0</td>\n      <td>1</td>\n    </tr>\n    <tr>\n      <th>342</th>\n      <td>342</td>\n      <td>1024</td>\n      <td>10</td>\n      <td>1024</td>\n      <td>Education</td>\n      <td>53855</td>\n      <td>0.0</td>\n      <td>2.0</td>\n      <td>0</td>\n      <td>1</td>\n    </tr>\n    <tr>\n      <th>353</th>\n      <td>353</td>\n      <td>1055</td>\n      <td>12</td>\n      <td>1055</td>\n      <td>Education</td>\n      <td>86714</td>\n      <td>0.0</td>\n      <td>4.0</td>\n      <td>1</td>\n      <td>1</td>\n    </tr>\n  </tbody>\n</table>\n</div>"
     },
     "execution_count": 40,
     "metadata": {},
     "output_type": "execute_result"
    }
   ],
   "source": [
    "b_data.query('area==1 & primary_use==\"Education\"')"
   ],
   "metadata": {
    "collapsed": false,
    "pycharm": {
     "name": "#%%\n"
    }
   }
  },
  {
   "cell_type": "code",
   "execution_count": null,
   "outputs": [],
   "source": [],
   "metadata": {
    "collapsed": false,
    "pycharm": {
     "name": "#%%\n"
    }
   }
  }
 ],
 "metadata": {
  "kernelspec": {
   "display_name": "Python 3",
   "language": "python",
   "name": "python3"
  },
  "language_info": {
   "codemirror_mode": {
    "name": "ipython",
    "version": 2
   },
   "file_extension": ".py",
   "mimetype": "text/x-python",
   "name": "python",
   "nbconvert_exporter": "python",
   "pygments_lexer": "ipython2",
   "version": "2.7.6"
  }
 },
 "nbformat": 4,
 "nbformat_minor": 0
}