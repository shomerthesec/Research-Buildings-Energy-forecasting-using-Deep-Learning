{
 "cells": [
  {
   "cell_type": "code",
   "execution_count": 1,
   "metadata": {
    "collapsed": true
   },
   "outputs": [],
   "source": [
    "import pandas as pd, numpy as np, matplotlib.pyplot as plt"
   ]
  },
  {
   "cell_type": "code",
   "execution_count": 2,
   "outputs": [],
   "source": [
    "# b_data = building data\n",
    "b_data=pd.read_csv('content/building_metadata.csv').dropna(subset=['floor_count'])"
   ],
   "metadata": {
    "collapsed": false,
    "pycharm": {
     "name": "#%%\n"
    }
   }
  },
  {
   "cell_type": "code",
   "execution_count": 3,
   "outputs": [
    {
     "data": {
      "text/plain": "     Unnamed: 0  site_id  building_id primary_use  square_feet  year_built  \\\n0           105        1          105   Education        50623         NaN   \n1           106        1          106   Education         5374         NaN   \n2           107        1          107   Education        97532      2005.0   \n3           108        1          108   Education        81580      1913.0   \n4           109        1          109   Education        56995      1953.0   \n..          ...      ...          ...         ...          ...         ...   \n350        1051       12         1051   Education        28406         NaN   \n351        1052       12         1052      Retail        45305         NaN   \n352        1054       12         1054   Education       204998         NaN   \n353        1055       12         1055   Education        86714         NaN   \n354        1057       12         1057   Education        26372         NaN   \n\n     floor_count  \n0            5.0  \n1            4.0  \n2           10.0  \n3            5.0  \n4            6.0  \n..           ...  \n350          1.0  \n351          2.0  \n352          4.0  \n353          4.0  \n354          4.0  \n\n[355 rows x 7 columns]",
      "text/html": "<div>\n<style scoped>\n    .dataframe tbody tr th:only-of-type {\n        vertical-align: middle;\n    }\n\n    .dataframe tbody tr th {\n        vertical-align: top;\n    }\n\n    .dataframe thead th {\n        text-align: right;\n    }\n</style>\n<table border=\"1\" class=\"dataframe\">\n  <thead>\n    <tr style=\"text-align: right;\">\n      <th></th>\n      <th>Unnamed: 0</th>\n      <th>site_id</th>\n      <th>building_id</th>\n      <th>primary_use</th>\n      <th>square_feet</th>\n      <th>year_built</th>\n      <th>floor_count</th>\n    </tr>\n  </thead>\n  <tbody>\n    <tr>\n      <th>0</th>\n      <td>105</td>\n      <td>1</td>\n      <td>105</td>\n      <td>Education</td>\n      <td>50623</td>\n      <td>NaN</td>\n      <td>5.0</td>\n    </tr>\n    <tr>\n      <th>1</th>\n      <td>106</td>\n      <td>1</td>\n      <td>106</td>\n      <td>Education</td>\n      <td>5374</td>\n      <td>NaN</td>\n      <td>4.0</td>\n    </tr>\n    <tr>\n      <th>2</th>\n      <td>107</td>\n      <td>1</td>\n      <td>107</td>\n      <td>Education</td>\n      <td>97532</td>\n      <td>2005.0</td>\n      <td>10.0</td>\n    </tr>\n    <tr>\n      <th>3</th>\n      <td>108</td>\n      <td>1</td>\n      <td>108</td>\n      <td>Education</td>\n      <td>81580</td>\n      <td>1913.0</td>\n      <td>5.0</td>\n    </tr>\n    <tr>\n      <th>4</th>\n      <td>109</td>\n      <td>1</td>\n      <td>109</td>\n      <td>Education</td>\n      <td>56995</td>\n      <td>1953.0</td>\n      <td>6.0</td>\n    </tr>\n    <tr>\n      <th>...</th>\n      <td>...</td>\n      <td>...</td>\n      <td>...</td>\n      <td>...</td>\n      <td>...</td>\n      <td>...</td>\n      <td>...</td>\n    </tr>\n    <tr>\n      <th>350</th>\n      <td>1051</td>\n      <td>12</td>\n      <td>1051</td>\n      <td>Education</td>\n      <td>28406</td>\n      <td>NaN</td>\n      <td>1.0</td>\n    </tr>\n    <tr>\n      <th>351</th>\n      <td>1052</td>\n      <td>12</td>\n      <td>1052</td>\n      <td>Retail</td>\n      <td>45305</td>\n      <td>NaN</td>\n      <td>2.0</td>\n    </tr>\n    <tr>\n      <th>352</th>\n      <td>1054</td>\n      <td>12</td>\n      <td>1054</td>\n      <td>Education</td>\n      <td>204998</td>\n      <td>NaN</td>\n      <td>4.0</td>\n    </tr>\n    <tr>\n      <th>353</th>\n      <td>1055</td>\n      <td>12</td>\n      <td>1055</td>\n      <td>Education</td>\n      <td>86714</td>\n      <td>NaN</td>\n      <td>4.0</td>\n    </tr>\n    <tr>\n      <th>354</th>\n      <td>1057</td>\n      <td>12</td>\n      <td>1057</td>\n      <td>Education</td>\n      <td>26372</td>\n      <td>NaN</td>\n      <td>4.0</td>\n    </tr>\n  </tbody>\n</table>\n<p>355 rows × 7 columns</p>\n</div>"
     },
     "execution_count": 3,
     "metadata": {},
     "output_type": "execute_result"
    }
   ],
   "source": [
    "b_data"
   ],
   "metadata": {
    "collapsed": false,
    "pycharm": {
     "name": "#%%\n"
    }
   }
  },
  {
   "cell_type": "code",
   "execution_count": 4,
   "outputs": [
    {
     "data": {
      "text/plain": "0        (3.0, 5.0]\n1        (3.0, 5.0]\n2       (5.0, 26.0]\n3        (3.0, 5.0]\n4       (5.0, 26.0]\n           ...     \n350    (0.999, 3.0]\n351    (0.999, 3.0]\n352      (3.0, 5.0]\n353      (3.0, 5.0]\n354      (3.0, 5.0]\nName: floor_count, Length: 355, dtype: category\nCategories (3, interval[float64, right]): [(0.999, 3.0] < (3.0, 5.0] < (5.0, 26.0]]"
     },
     "execution_count": 4,
     "metadata": {},
     "output_type": "execute_result"
    }
   ],
   "source": [
    "pd.qcut( b_data['floor_count'], [0.25 , 0.5 , 0.75 , 1.0] )"
   ],
   "metadata": {
    "collapsed": false,
    "pycharm": {
     "name": "#%%\n"
    }
   }
  },
  {
   "cell_type": "code",
   "execution_count": 5,
   "outputs": [
    {
     "data": {
      "text/plain": "<AxesSubplot:ylabel='Frequency'>"
     },
     "execution_count": 5,
     "metadata": {},
     "output_type": "execute_result"
    },
    {
     "data": {
      "text/plain": "<Figure size 432x288 with 1 Axes>",
      "image/png": "[encoded data removed]"
     },
     "metadata": {
      "needs_background": "light"
     },
     "output_type": "display_data"
    }
   ],
   "source": [
    "b_data.floor_count.plot(kind='hist')"
   ],
   "metadata": {
    "collapsed": false,
    "pycharm": {
     "name": "#%%\n"
    }
   }
  },
  {
   "cell_type": "code",
   "execution_count": 6,
   "outputs": [
    {
     "data": {
      "text/plain": "     Unnamed: 0  site_id  building_id primary_use  square_feet  year_built  \\\n0           105        1          105   Education        50623         NaN   \n1           106        1          106   Education         5374         NaN   \n2           107        1          107   Education        97532      2005.0   \n3           108        1          108   Education        81580      1913.0   \n4           109        1          109   Education        56995      1953.0   \n..          ...      ...          ...         ...          ...         ...   \n350        1051       12         1051   Education        28406         NaN   \n351        1052       12         1052      Retail        45305         NaN   \n352        1054       12         1054   Education       204998         NaN   \n353        1055       12         1055   Education        86714         NaN   \n354        1057       12         1057   Education        26372         NaN   \n\n     floor_count  \n0            5.0  \n1            4.0  \n2           10.0  \n3            5.0  \n4            6.0  \n..           ...  \n350          1.0  \n351          2.0  \n352          4.0  \n353          4.0  \n354          4.0  \n\n[351 rows x 7 columns]",
      "text/html": "<div>\n<style scoped>\n    .dataframe tbody tr th:only-of-type {\n        vertical-align: middle;\n    }\n\n    .dataframe tbody tr th {\n        vertical-align: top;\n    }\n\n    .dataframe thead th {\n        text-align: right;\n    }\n</style>\n<table border=\"1\" class=\"dataframe\">\n  <thead>\n    <tr style=\"text-align: right;\">\n      <th></th>\n      <th>Unnamed: 0</th>\n      <th>site_id</th>\n      <th>building_id</th>\n      <th>primary_use</th>\n      <th>square_feet</th>\n      <th>year_built</th>\n      <th>floor_count</th>\n    </tr>\n  </thead>\n  <tbody>\n    <tr>\n      <th>0</th>\n      <td>105</td>\n      <td>1</td>\n      <td>105</td>\n      <td>Education</td>\n      <td>50623</td>\n      <td>NaN</td>\n      <td>5.0</td>\n    </tr>\n    <tr>\n      <th>1</th>\n      <td>106</td>\n      <td>1</td>\n      <td>106</td>\n      <td>Education</td>\n      <td>5374</td>\n      <td>NaN</td>\n      <td>4.0</td>\n    </tr>\n    <tr>\n      <th>2</th>\n      <td>107</td>\n      <td>1</td>\n      <td>107</td>\n      <td>Education</td>\n      <td>97532</td>\n      <td>2005.0</td>\n      <td>10.0</td>\n    </tr>\n    <tr>\n      <th>3</th>\n      <td>108</td>\n      <td>1</td>\n      <td>108</td>\n      <td>Education</td>\n      <td>81580</td>\n      <td>1913.0</td>\n      <td>5.0</td>\n    </tr>\n    <tr>\n      <th>4</th>\n      <td>109</td>\n      <td>1</td>\n      <td>109</td>\n      <td>Education</td>\n      <td>56995</td>\n      <td>1953.0</td>\n      <td>6.0</td>\n    </tr>\n    <tr>\n      <th>...</th>\n      <td>...</td>\n      <td>...</td>\n      <td>...</td>\n      <td>...</td>\n      <td>...</td>\n      <td>...</td>\n      <td>...</td>\n    </tr>\n    <tr>\n      <th>350</th>\n      <td>1051</td>\n      <td>12</td>\n      <td>1051</td>\n      <td>Education</td>\n      <td>28406</td>\n      <td>NaN</td>\n      <td>1.0</td>\n    </tr>\n    <tr>\n      <th>351</th>\n      <td>1052</td>\n      <td>12</td>\n      <td>1052</td>\n      <td>Retail</td>\n      <td>45305</td>\n      <td>NaN</td>\n      <td>2.0</td>\n    </tr>\n    <tr>\n      <th>352</th>\n      <td>1054</td>\n      <td>12</td>\n      <td>1054</td>\n      <td>Education</td>\n      <td>204998</td>\n      <td>NaN</td>\n      <td>4.0</td>\n    </tr>\n    <tr>\n      <th>353</th>\n      <td>1055</td>\n      <td>12</td>\n      <td>1055</td>\n      <td>Education</td>\n      <td>86714</td>\n      <td>NaN</td>\n      <td>4.0</td>\n    </tr>\n    <tr>\n      <th>354</th>\n      <td>1057</td>\n      <td>12</td>\n      <td>1057</td>\n      <td>Education</td>\n      <td>26372</td>\n      <td>NaN</td>\n      <td>4.0</td>\n    </tr>\n  </tbody>\n</table>\n<p>351 rows × 7 columns</p>\n</div>"
     },
     "execution_count": 6,
     "metadata": {},
     "output_type": "execute_result"
    }
   ],
   "source": [
    "b_data[b_data.floor_count<15]"
   ],
   "metadata": {
    "collapsed": false,
    "pycharm": {
     "name": "#%%\n"
    }
   }
  },
  {
   "cell_type": "code",
   "execution_count": 7,
   "outputs": [
    {
     "data": {
      "text/plain": "0        (2.0, 5.0]\n1        (2.0, 5.0]\n2       (5.0, 14.0]\n3        (2.0, 5.0]\n4       (5.0, 14.0]\n           ...     \n350    (0.999, 2.0]\n351    (0.999, 2.0]\n352      (2.0, 5.0]\n353      (2.0, 5.0]\n354      (2.0, 5.0]\nName: floor_count, Length: 351, dtype: category\nCategories (3, interval[float64, right]): [(0.999, 2.0] < (2.0, 5.0] < (5.0, 14.0]]"
     },
     "execution_count": 7,
     "metadata": {},
     "output_type": "execute_result"
    }
   ],
   "source": [
    "pd.qcut( b_data[b_data.floor_count<15].floor_count , [0.25,0.5,0.75,1.0])"
   ],
   "metadata": {
    "collapsed": false,
    "pycharm": {
     "name": "#%%\n"
    }
   }
  },
  {
   "cell_type": "markdown",
   "source": [
    "# we will work with the quantiles of the data without caring about outliers"
   ],
   "metadata": {
    "collapsed": false
   }
  },
  {
   "cell_type": "markdown",
   "source": [
    "we will assume that building between 1-3 floors as 0 for short\n",
    "and 1 for medium between 3-5\n",
    "and 2 for high more than 5"
   ],
   "metadata": {
    "collapsed": false
   }
  },
  {
   "cell_type": "code",
   "execution_count": 8,
   "outputs": [],
   "source": [
    "b_data['floor']=pd.qcut( b_data['floor_count'], [0.25 , 0.5 , 0.75 , 1.0], labels=['0','1','2'] )"
   ],
   "metadata": {
    "collapsed": false,
    "pycharm": {
     "name": "#%%\n"
    }
   }
  },
  {
   "cell_type": "code",
   "execution_count": 9,
   "outputs": [
    {
     "data": {
      "text/plain": "   Unnamed: 0  site_id  building_id primary_use  square_feet  year_built  \\\n0         105        1          105   Education        50623         NaN   \n1         106        1          106   Education         5374         NaN   \n2         107        1          107   Education        97532      2005.0   \n3         108        1          108   Education        81580      1913.0   \n4         109        1          109   Education        56995      1953.0   \n\n   floor_count floor  \n0          5.0     1  \n1          4.0     1  \n2         10.0     2  \n3          5.0     1  \n4          6.0     2  ",
      "text/html": "<div>\n<style scoped>\n    .dataframe tbody tr th:only-of-type {\n        vertical-align: middle;\n    }\n\n    .dataframe tbody tr th {\n        vertical-align: top;\n    }\n\n    .dataframe thead th {\n        text-align: right;\n    }\n</style>\n<table border=\"1\" class=\"dataframe\">\n  <thead>\n    <tr style=\"text-align: right;\">\n      <th></th>\n      <th>Unnamed: 0</th>\n      <th>site_id</th>\n      <th>building_id</th>\n      <th>primary_use</th>\n      <th>square_feet</th>\n      <th>year_built</th>\n      <th>floor_count</th>\n      <th>floor</th>\n    </tr>\n  </thead>\n  <tbody>\n    <tr>\n      <th>0</th>\n      <td>105</td>\n      <td>1</td>\n      <td>105</td>\n      <td>Education</td>\n      <td>50623</td>\n      <td>NaN</td>\n      <td>5.0</td>\n      <td>1</td>\n    </tr>\n    <tr>\n      <th>1</th>\n      <td>106</td>\n      <td>1</td>\n      <td>106</td>\n      <td>Education</td>\n      <td>5374</td>\n      <td>NaN</td>\n      <td>4.0</td>\n      <td>1</td>\n    </tr>\n    <tr>\n      <th>2</th>\n      <td>107</td>\n      <td>1</td>\n      <td>107</td>\n      <td>Education</td>\n      <td>97532</td>\n      <td>2005.0</td>\n      <td>10.0</td>\n      <td>2</td>\n    </tr>\n    <tr>\n      <th>3</th>\n      <td>108</td>\n      <td>1</td>\n      <td>108</td>\n      <td>Education</td>\n      <td>81580</td>\n      <td>1913.0</td>\n      <td>5.0</td>\n      <td>1</td>\n    </tr>\n    <tr>\n      <th>4</th>\n      <td>109</td>\n      <td>1</td>\n      <td>109</td>\n      <td>Education</td>\n      <td>56995</td>\n      <td>1953.0</td>\n      <td>6.0</td>\n      <td>2</td>\n    </tr>\n  </tbody>\n</table>\n</div>"
     },
     "execution_count": 9,
     "metadata": {},
     "output_type": "execute_result"
    }
   ],
   "source": [
    "b_data.head()"
   ],
   "metadata": {
    "collapsed": false,
    "pycharm": {
     "name": "#%%\n"
    }
   }
  },
  {
   "cell_type": "markdown",
   "source": [
    "using the same method to create categories for square feet"
   ],
   "metadata": {
    "collapsed": false
   }
  },
  {
   "cell_type": "markdown",
   "source": [
    "to know how we will fill the missing values let's see the median\n"
   ],
   "metadata": {
    "collapsed": false
   }
  },
  {
   "cell_type": "code",
   "execution_count": 10,
   "outputs": [
    {
     "data": {
      "text/plain": "count       355.000000\nmean      72395.360563\nstd      102739.243998\nmin         356.000000\n25%       14150.000000\n50%       40085.000000\n75%       93969.500000\nmax      875000.000000\nName: square_feet, dtype: float64"
     },
     "execution_count": 10,
     "metadata": {},
     "output_type": "execute_result"
    }
   ],
   "source": [
    "b_data.square_feet.describe()"
   ],
   "metadata": {
    "collapsed": false,
    "pycharm": {
     "name": "#%%\n"
    }
   }
  },
  {
   "cell_type": "code",
   "execution_count": 17,
   "outputs": [],
   "source": [
    "b_data['square_feet']= b_data['square_feet'].fillna( 72395 )"
   ],
   "metadata": {
    "collapsed": false,
    "pycharm": {
     "name": "#%%\n"
    }
   }
  },
  {
   "cell_type": "code",
   "execution_count": 18,
   "outputs": [],
   "source": [
    "b_data['area']=pd.qcut( b_data['square_feet'] , [0.25,0.5,0.75,1.0], labels=[0 , 1 , 2])"
   ],
   "metadata": {
    "collapsed": false,
    "pycharm": {
     "name": "#%%\n"
    }
   }
  },
  {
   "cell_type": "code",
   "execution_count": 21,
   "outputs": [],
   "source": [
    "b_data['area'].fillna(0,inplace=True)"
   ],
   "metadata": {
    "collapsed": false,
    "pycharm": {
     "name": "#%%\n"
    }
   }
  },
  {
   "cell_type": "code",
   "execution_count": 22,
   "outputs": [
    {
     "data": {
      "text/plain": "   Unnamed: 0  site_id  building_id primary_use  square_feet  year_built  \\\n0         105        1          105   Education        50623         0.0   \n1         106        1          106   Education         5374         0.0   \n2         107        1          107   Education        97532      2005.0   \n3         108        1          108   Education        81580      1913.0   \n4         109        1          109   Education        56995      1953.0   \n\n   floor_count floor area  \n0          5.0     1    1  \n1          4.0     1    0  \n2         10.0     2    2  \n3          5.0     1    1  \n4          6.0     2    1  ",
      "text/html": "<div>\n<style scoped>\n    .dataframe tbody tr th:only-of-type {\n        vertical-align: middle;\n    }\n\n    .dataframe tbody tr th {\n        vertical-align: top;\n    }\n\n    .dataframe thead th {\n        text-align: right;\n    }\n</style>\n<table border=\"1\" class=\"dataframe\">\n  <thead>\n    <tr style=\"text-align: right;\">\n      <th></th>\n      <th>Unnamed: 0</th>\n      <th>site_id</th>\n      <th>building_id</th>\n      <th>primary_use</th>\n      <th>square_feet</th>\n      <th>year_built</th>\n      <th>floor_count</th>\n      <th>floor</th>\n      <th>area</th>\n    </tr>\n  </thead>\n  <tbody>\n    <tr>\n      <th>0</th>\n      <td>105</td>\n      <td>1</td>\n      <td>105</td>\n      <td>Education</td>\n      <td>50623</td>\n      <td>0.0</td>\n      <td>5.0</td>\n      <td>1</td>\n      <td>1</td>\n    </tr>\n    <tr>\n      <th>1</th>\n      <td>106</td>\n      <td>1</td>\n      <td>106</td>\n      <td>Education</td>\n      <td>5374</td>\n      <td>0.0</td>\n      <td>4.0</td>\n      <td>1</td>\n      <td>0</td>\n    </tr>\n    <tr>\n      <th>2</th>\n      <td>107</td>\n      <td>1</td>\n      <td>107</td>\n      <td>Education</td>\n      <td>97532</td>\n      <td>2005.0</td>\n      <td>10.0</td>\n      <td>2</td>\n      <td>2</td>\n    </tr>\n    <tr>\n      <th>3</th>\n      <td>108</td>\n      <td>1</td>\n      <td>108</td>\n      <td>Education</td>\n      <td>81580</td>\n      <td>1913.0</td>\n      <td>5.0</td>\n      <td>1</td>\n      <td>1</td>\n    </tr>\n    <tr>\n      <th>4</th>\n      <td>109</td>\n      <td>1</td>\n      <td>109</td>\n      <td>Education</td>\n      <td>56995</td>\n      <td>1953.0</td>\n      <td>6.0</td>\n      <td>2</td>\n      <td>1</td>\n    </tr>\n  </tbody>\n</table>\n</div>"
     },
     "execution_count": 22,
     "metadata": {},
     "output_type": "execute_result"
    }
   ],
   "source": [
    "b_data.head()"
   ],
   "metadata": {
    "collapsed": false,
    "pycharm": {
     "name": "#%%\n"
    }
   }
  },
  {
   "cell_type": "code",
   "execution_count": 24,
   "outputs": [],
   "source": [
    "b_data.to_csv('content/building_metadata.csv')"
   ],
   "metadata": {
    "collapsed": false,
    "pycharm": {
     "name": "#%%\n"
    }
   }
  },
  {
   "cell_type": "code",
   "execution_count": 27,
   "outputs": [
    {
     "data": {
      "text/plain": "     Unnamed: 0  site_id  building_id primary_use  square_feet  year_built  \\\n0           105        1          105   Education        50623         0.0   \n1           106        1          106   Education         5374         0.0   \n2           107        1          107   Education        97532      2005.0   \n3           108        1          108   Education        81580      1913.0   \n4           109        1          109   Education        56995      1953.0   \n..          ...      ...          ...         ...          ...         ...   \n350        1051       12         1051   Education        28406         0.0   \n351        1052       12         1052      Retail        45305         0.0   \n352        1054       12         1054   Education       204998         0.0   \n353        1055       12         1055   Education        86714         0.0   \n354        1057       12         1057   Education        26372         0.0   \n\n     floor_count floor area  \n0            5.0     1    1  \n1            4.0     1    0  \n2           10.0     2    2  \n3            5.0     1    1  \n4            6.0     2    1  \n..           ...   ...  ...  \n350          1.0     0    0  \n351          2.0     0    1  \n352          4.0     1    2  \n353          4.0     1    1  \n354          4.0     1    0  \n\n[355 rows x 9 columns]",
      "text/html": "<div>\n<style scoped>\n    .dataframe tbody tr th:only-of-type {\n        vertical-align: middle;\n    }\n\n    .dataframe tbody tr th {\n        vertical-align: top;\n    }\n\n    .dataframe thead th {\n        text-align: right;\n    }\n</style>\n<table border=\"1\" class=\"dataframe\">\n  <thead>\n    <tr style=\"text-align: right;\">\n      <th></th>\n      <th>Unnamed: 0</th>\n      <th>site_id</th>\n      <th>building_id</th>\n      <th>primary_use</th>\n      <th>square_feet</th>\n      <th>year_built</th>\n      <th>floor_count</th>\n      <th>floor</th>\n      <th>area</th>\n    </tr>\n  </thead>\n  <tbody>\n    <tr>\n      <th>0</th>\n      <td>105</td>\n      <td>1</td>\n      <td>105</td>\n      <td>Education</td>\n      <td>50623</td>\n      <td>0.0</td>\n      <td>5.0</td>\n      <td>1</td>\n      <td>1</td>\n    </tr>\n    <tr>\n      <th>1</th>\n      <td>106</td>\n      <td>1</td>\n      <td>106</td>\n      <td>Education</td>\n      <td>5374</td>\n      <td>0.0</td>\n      <td>4.0</td>\n      <td>1</td>\n      <td>0</td>\n    </tr>\n    <tr>\n      <th>2</th>\n      <td>107</td>\n      <td>1</td>\n      <td>107</td>\n      <td>Education</td>\n      <td>97532</td>\n      <td>2005.0</td>\n      <td>10.0</td>\n      <td>2</td>\n      <td>2</td>\n    </tr>\n    <tr>\n      <th>3</th>\n      <td>108</td>\n      <td>1</td>\n      <td>108</td>\n      <td>Education</td>\n      <td>81580</td>\n      <td>1913.0</td>\n      <td>5.0</td>\n      <td>1</td>\n      <td>1</td>\n    </tr>\n    <tr>\n      <th>4</th>\n      <td>109</td>\n      <td>1</td>\n      <td>109</td>\n      <td>Education</td>\n      <td>56995</td>\n      <td>1953.0</td>\n      <td>6.0</td>\n      <td>2</td>\n      <td>1</td>\n    </tr>\n    <tr>\n      <th>...</th>\n      <td>...</td>\n      <td>...</td>\n      <td>...</td>\n      <td>...</td>\n      <td>...</td>\n      <td>...</td>\n      <td>...</td>\n      <td>...</td>\n      <td>...</td>\n    </tr>\n    <tr>\n      <th>350</th>\n      <td>1051</td>\n      <td>12</td>\n      <td>1051</td>\n      <td>Education</td>\n      <td>28406</td>\n      <td>0.0</td>\n      <td>1.0</td>\n      <td>0</td>\n      <td>0</td>\n    </tr>\n    <tr>\n      <th>351</th>\n      <td>1052</td>\n      <td>12</td>\n      <td>1052</td>\n      <td>Retail</td>\n      <td>45305</td>\n      <td>0.0</td>\n      <td>2.0</td>\n      <td>0</td>\n      <td>1</td>\n    </tr>\n    <tr>\n      <th>352</th>\n      <td>1054</td>\n      <td>12</td>\n      <td>1054</td>\n      <td>Education</td>\n      <td>204998</td>\n      <td>0.0</td>\n      <td>4.0</td>\n      <td>1</td>\n      <td>2</td>\n    </tr>\n    <tr>\n      <th>353</th>\n      <td>1055</td>\n      <td>12</td>\n      <td>1055</td>\n      <td>Education</td>\n      <td>86714</td>\n      <td>0.0</td>\n      <td>4.0</td>\n      <td>1</td>\n      <td>1</td>\n    </tr>\n    <tr>\n      <th>354</th>\n      <td>1057</td>\n      <td>12</td>\n      <td>1057</td>\n      <td>Education</td>\n      <td>26372</td>\n      <td>0.0</td>\n      <td>4.0</td>\n      <td>1</td>\n      <td>0</td>\n    </tr>\n  </tbody>\n</table>\n<p>355 rows × 9 columns</p>\n</div>"
     },
     "execution_count": 27,
     "metadata": {},
     "output_type": "execute_result"
    }
   ],
   "source": [
    "b_data"
   ],
   "metadata": {
    "collapsed": false,
    "pycharm": {
     "name": "#%%\n"
    }
   }
  },
  {
   "cell_type": "code",
   "execution_count": 33,
   "outputs": [
    {
     "data": {
      "text/plain": "     Unnamed: 0  site_id  building_id                    primary_use  \\\n0           105        1          105                      Education   \n1           106        1          106                      Education   \n3           108        1          108                      Education   \n11          116        1          116                      Education   \n12          117        1          117                      Education   \n..          ...      ...          ...                            ...   \n337        1019       10         1019  Entertainment/public assembly   \n348        1044       12         1044                      Education   \n352        1054       12         1054                      Education   \n353        1055       12         1055                      Education   \n354        1057       12         1057                      Education   \n\n     square_feet  year_built  floor_count floor area  \n0          50623         0.0          5.0     1    1  \n1           5374         0.0          4.0     1    0  \n3          81580      1913.0          5.0     1    1  \n11         37265         0.0          5.0     1    0  \n12         15489      2004.0          4.0     1    0  \n..           ...         ...          ...   ...  ...  \n337        39788         0.0          5.0     1    0  \n348       150673         0.0          4.0     1    2  \n352       204998         0.0          4.0     1    2  \n353        86714         0.0          4.0     1    1  \n354        26372         0.0          4.0     1    0  \n\n[62 rows x 9 columns]",
      "text/html": "<div>\n<style scoped>\n    .dataframe tbody tr th:only-of-type {\n        vertical-align: middle;\n    }\n\n    .dataframe tbody tr th {\n        vertical-align: top;\n    }\n\n    .dataframe thead th {\n        text-align: right;\n    }\n</style>\n<table border=\"1\" class=\"dataframe\">\n  <thead>\n    <tr style=\"text-align: right;\">\n      <th></th>\n      <th>Unnamed: 0</th>\n      <th>site_id</th>\n      <th>building_id</th>\n      <th>primary_use</th>\n      <th>square_feet</th>\n      <th>year_built</th>\n      <th>floor_count</th>\n      <th>floor</th>\n      <th>area</th>\n    </tr>\n  </thead>\n  <tbody>\n    <tr>\n      <th>0</th>\n      <td>105</td>\n      <td>1</td>\n      <td>105</td>\n      <td>Education</td>\n      <td>50623</td>\n      <td>0.0</td>\n      <td>5.0</td>\n      <td>1</td>\n      <td>1</td>\n    </tr>\n    <tr>\n      <th>1</th>\n      <td>106</td>\n      <td>1</td>\n      <td>106</td>\n      <td>Education</td>\n      <td>5374</td>\n      <td>0.0</td>\n      <td>4.0</td>\n      <td>1</td>\n      <td>0</td>\n    </tr>\n    <tr>\n      <th>3</th>\n      <td>108</td>\n      <td>1</td>\n      <td>108</td>\n      <td>Education</td>\n      <td>81580</td>\n      <td>1913.0</td>\n      <td>5.0</td>\n      <td>1</td>\n      <td>1</td>\n    </tr>\n    <tr>\n      <th>11</th>\n      <td>116</td>\n      <td>1</td>\n      <td>116</td>\n      <td>Education</td>\n      <td>37265</td>\n      <td>0.0</td>\n      <td>5.0</td>\n      <td>1</td>\n      <td>0</td>\n    </tr>\n    <tr>\n      <th>12</th>\n      <td>117</td>\n      <td>1</td>\n      <td>117</td>\n      <td>Education</td>\n      <td>15489</td>\n      <td>2004.0</td>\n      <td>4.0</td>\n      <td>1</td>\n      <td>0</td>\n    </tr>\n    <tr>\n      <th>...</th>\n      <td>...</td>\n      <td>...</td>\n      <td>...</td>\n      <td>...</td>\n      <td>...</td>\n      <td>...</td>\n      <td>...</td>\n      <td>...</td>\n      <td>...</td>\n    </tr>\n    <tr>\n      <th>337</th>\n      <td>1019</td>\n      <td>10</td>\n      <td>1019</td>\n      <td>Entertainment/public assembly</td>\n      <td>39788</td>\n      <td>0.0</td>\n      <td>5.0</td>\n      <td>1</td>\n      <td>0</td>\n    </tr>\n    <tr>\n      <th>348</th>\n      <td>1044</td>\n      <td>12</td>\n      <td>1044</td>\n      <td>Education</td>\n      <td>150673</td>\n      <td>0.0</td>\n      <td>4.0</td>\n      <td>1</td>\n      <td>2</td>\n    </tr>\n    <tr>\n      <th>352</th>\n      <td>1054</td>\n      <td>12</td>\n      <td>1054</td>\n      <td>Education</td>\n      <td>204998</td>\n      <td>0.0</td>\n      <td>4.0</td>\n      <td>1</td>\n      <td>2</td>\n    </tr>\n    <tr>\n      <th>353</th>\n      <td>1055</td>\n      <td>12</td>\n      <td>1055</td>\n      <td>Education</td>\n      <td>86714</td>\n      <td>0.0</td>\n      <td>4.0</td>\n      <td>1</td>\n      <td>1</td>\n    </tr>\n    <tr>\n      <th>354</th>\n      <td>1057</td>\n      <td>12</td>\n      <td>1057</td>\n      <td>Education</td>\n      <td>26372</td>\n      <td>0.0</td>\n      <td>4.0</td>\n      <td>1</td>\n      <td>0</td>\n    </tr>\n  </tbody>\n</table>\n<p>62 rows × 9 columns</p>\n</div>"
     },
     "execution_count": 33,
     "metadata": {},
     "output_type": "execute_result"
    }
   ],
   "source": [
    "b_data[ b_data['floor'] == '1' ]"
   ],
   "metadata": {
    "collapsed": false,
    "pycharm": {
     "name": "#%%\n"
    }
   }
  },
  {
   "cell_type": "code",
   "execution_count": 34,
   "outputs": [
    {
     "data": {
      "text/plain": "     Unnamed: 0  site_id  building_id primary_use  square_feet  year_built  \\\n47          152        1          152      Office        10301      1970.0   \n48          153        1          153      Office        16092      1965.0   \n51          565        4          565   Education        15326      1954.0   \n52          566        4          566   Education         2010      1957.0   \n54          568        4          568   Education        14150      1974.0   \n..          ...      ...          ...         ...          ...         ...   \n346        1034       12         1034      Retail         3907         0.0   \n347        1039       12         1039   Education        30171         0.0   \n349        1050       12         1050      Office        50493         0.0   \n350        1051       12         1051   Education        28406         0.0   \n351        1052       12         1052      Retail        45305         0.0   \n\n     floor_count floor area  \n47           2.0     0    0  \n48           3.0     0    0  \n51           2.0     0    0  \n52           1.0     0    0  \n54           2.0     0    0  \n..           ...   ...  ...  \n346          1.0     0    0  \n347          3.0     0    0  \n349          2.0     0    1  \n350          1.0     0    0  \n351          2.0     0    1  \n\n[209 rows x 9 columns]",
      "text/html": "<div>\n<style scoped>\n    .dataframe tbody tr th:only-of-type {\n        vertical-align: middle;\n    }\n\n    .dataframe tbody tr th {\n        vertical-align: top;\n    }\n\n    .dataframe thead th {\n        text-align: right;\n    }\n</style>\n<table border=\"1\" class=\"dataframe\">\n  <thead>\n    <tr style=\"text-align: right;\">\n      <th></th>\n      <th>Unnamed: 0</th>\n      <th>site_id</th>\n      <th>building_id</th>\n      <th>primary_use</th>\n      <th>square_feet</th>\n      <th>year_built</th>\n      <th>floor_count</th>\n      <th>floor</th>\n      <th>area</th>\n    </tr>\n  </thead>\n  <tbody>\n    <tr>\n      <th>47</th>\n      <td>152</td>\n      <td>1</td>\n      <td>152</td>\n      <td>Office</td>\n      <td>10301</td>\n      <td>1970.0</td>\n      <td>2.0</td>\n      <td>0</td>\n      <td>0</td>\n    </tr>\n    <tr>\n      <th>48</th>\n      <td>153</td>\n      <td>1</td>\n      <td>153</td>\n      <td>Office</td>\n      <td>16092</td>\n      <td>1965.0</td>\n      <td>3.0</td>\n      <td>0</td>\n      <td>0</td>\n    </tr>\n    <tr>\n      <th>51</th>\n      <td>565</td>\n      <td>4</td>\n      <td>565</td>\n      <td>Education</td>\n      <td>15326</td>\n      <td>1954.0</td>\n      <td>2.0</td>\n      <td>0</td>\n      <td>0</td>\n    </tr>\n    <tr>\n      <th>52</th>\n      <td>566</td>\n      <td>4</td>\n      <td>566</td>\n      <td>Education</td>\n      <td>2010</td>\n      <td>1957.0</td>\n      <td>1.0</td>\n      <td>0</td>\n      <td>0</td>\n    </tr>\n    <tr>\n      <th>54</th>\n      <td>568</td>\n      <td>4</td>\n      <td>568</td>\n      <td>Education</td>\n      <td>14150</td>\n      <td>1974.0</td>\n      <td>2.0</td>\n      <td>0</td>\n      <td>0</td>\n    </tr>\n    <tr>\n      <th>...</th>\n      <td>...</td>\n      <td>...</td>\n      <td>...</td>\n      <td>...</td>\n      <td>...</td>\n      <td>...</td>\n      <td>...</td>\n      <td>...</td>\n      <td>...</td>\n    </tr>\n    <tr>\n      <th>346</th>\n      <td>1034</td>\n      <td>12</td>\n      <td>1034</td>\n      <td>Retail</td>\n      <td>3907</td>\n      <td>0.0</td>\n      <td>1.0</td>\n      <td>0</td>\n      <td>0</td>\n    </tr>\n    <tr>\n      <th>347</th>\n      <td>1039</td>\n      <td>12</td>\n      <td>1039</td>\n      <td>Education</td>\n      <td>30171</td>\n      <td>0.0</td>\n      <td>3.0</td>\n      <td>0</td>\n      <td>0</td>\n    </tr>\n    <tr>\n      <th>349</th>\n      <td>1050</td>\n      <td>12</td>\n      <td>1050</td>\n      <td>Office</td>\n      <td>50493</td>\n      <td>0.0</td>\n      <td>2.0</td>\n      <td>0</td>\n      <td>1</td>\n    </tr>\n    <tr>\n      <th>350</th>\n      <td>1051</td>\n      <td>12</td>\n      <td>1051</td>\n      <td>Education</td>\n      <td>28406</td>\n      <td>0.0</td>\n      <td>1.0</td>\n      <td>0</td>\n      <td>0</td>\n    </tr>\n    <tr>\n      <th>351</th>\n      <td>1052</td>\n      <td>12</td>\n      <td>1052</td>\n      <td>Retail</td>\n      <td>45305</td>\n      <td>0.0</td>\n      <td>2.0</td>\n      <td>0</td>\n      <td>1</td>\n    </tr>\n  </tbody>\n</table>\n<p>209 rows × 9 columns</p>\n</div>"
     },
     "execution_count": 34,
     "metadata": {},
     "output_type": "execute_result"
    }
   ],
   "source": [
    "b_data[ b_data['floor'] == '0' ]"
   ],
   "metadata": {
    "collapsed": false,
    "pycharm": {
     "name": "#%%\n"
    }
   }
  },
  {
   "cell_type": "code",
   "execution_count": 37,
   "outputs": [
    {
     "data": {
      "text/plain": "     Unnamed: 0  site_id  building_id         primary_use  square_feet  \\\n2           107        1          107           Education        97532   \n4           109        1          109           Education        56995   \n5           110        1          110           Education        27814   \n6           111        1          111           Education       118338   \n7           112        1          112           Education        32206   \n..          ...      ...          ...                 ...          ...   \n239         797        7          797           Education       764237   \n240         798        7          798           Education       409028   \n241         799        7          799           Education       527431   \n244         802        7          802           Education       290625   \n335        1017       10         1017  Technology/science       109263   \n\n     year_built  floor_count floor area  \n2        2005.0         10.0     2    2  \n4        1953.0          6.0     2    1  \n5        2006.0          8.0     2    0  \n6        1909.0          7.0     2    2  \n7           0.0          6.0     2    0  \n..          ...          ...   ...  ...  \n239      1979.0         13.0     2    2  \n240      1970.0         21.0     2    2  \n241      1976.0         26.0     2    2  \n244      1995.0         19.0     2    2  \n335         0.0          6.0     2    2  \n\n[84 rows x 9 columns]",
      "text/html": "<div>\n<style scoped>\n    .dataframe tbody tr th:only-of-type {\n        vertical-align: middle;\n    }\n\n    .dataframe tbody tr th {\n        vertical-align: top;\n    }\n\n    .dataframe thead th {\n        text-align: right;\n    }\n</style>\n<table border=\"1\" class=\"dataframe\">\n  <thead>\n    <tr style=\"text-align: right;\">\n      <th></th>\n      <th>Unnamed: 0</th>\n      <th>site_id</th>\n      <th>building_id</th>\n      <th>primary_use</th>\n      <th>square_feet</th>\n      <th>year_built</th>\n      <th>floor_count</th>\n      <th>floor</th>\n      <th>area</th>\n    </tr>\n  </thead>\n  <tbody>\n    <tr>\n      <th>2</th>\n      <td>107</td>\n      <td>1</td>\n      <td>107</td>\n      <td>Education</td>\n      <td>97532</td>\n      <td>2005.0</td>\n      <td>10.0</td>\n      <td>2</td>\n      <td>2</td>\n    </tr>\n    <tr>\n      <th>4</th>\n      <td>109</td>\n      <td>1</td>\n      <td>109</td>\n      <td>Education</td>\n      <td>56995</td>\n      <td>1953.0</td>\n      <td>6.0</td>\n      <td>2</td>\n      <td>1</td>\n    </tr>\n    <tr>\n      <th>5</th>\n      <td>110</td>\n      <td>1</td>\n      <td>110</td>\n      <td>Education</td>\n      <td>27814</td>\n      <td>2006.0</td>\n      <td>8.0</td>\n      <td>2</td>\n      <td>0</td>\n    </tr>\n    <tr>\n      <th>6</th>\n      <td>111</td>\n      <td>1</td>\n      <td>111</td>\n      <td>Education</td>\n      <td>118338</td>\n      <td>1909.0</td>\n      <td>7.0</td>\n      <td>2</td>\n      <td>2</td>\n    </tr>\n    <tr>\n      <th>7</th>\n      <td>112</td>\n      <td>1</td>\n      <td>112</td>\n      <td>Education</td>\n      <td>32206</td>\n      <td>0.0</td>\n      <td>6.0</td>\n      <td>2</td>\n      <td>0</td>\n    </tr>\n    <tr>\n      <th>...</th>\n      <td>...</td>\n      <td>...</td>\n      <td>...</td>\n      <td>...</td>\n      <td>...</td>\n      <td>...</td>\n      <td>...</td>\n      <td>...</td>\n      <td>...</td>\n    </tr>\n    <tr>\n      <th>239</th>\n      <td>797</td>\n      <td>7</td>\n      <td>797</td>\n      <td>Education</td>\n      <td>764237</td>\n      <td>1979.0</td>\n      <td>13.0</td>\n      <td>2</td>\n      <td>2</td>\n    </tr>\n    <tr>\n      <th>240</th>\n      <td>798</td>\n      <td>7</td>\n      <td>798</td>\n      <td>Education</td>\n      <td>409028</td>\n      <td>1970.0</td>\n      <td>21.0</td>\n      <td>2</td>\n      <td>2</td>\n    </tr>\n    <tr>\n      <th>241</th>\n      <td>799</td>\n      <td>7</td>\n      <td>799</td>\n      <td>Education</td>\n      <td>527431</td>\n      <td>1976.0</td>\n      <td>26.0</td>\n      <td>2</td>\n      <td>2</td>\n    </tr>\n    <tr>\n      <th>244</th>\n      <td>802</td>\n      <td>7</td>\n      <td>802</td>\n      <td>Education</td>\n      <td>290625</td>\n      <td>1995.0</td>\n      <td>19.0</td>\n      <td>2</td>\n      <td>2</td>\n    </tr>\n    <tr>\n      <th>335</th>\n      <td>1017</td>\n      <td>10</td>\n      <td>1017</td>\n      <td>Technology/science</td>\n      <td>109263</td>\n      <td>0.0</td>\n      <td>6.0</td>\n      <td>2</td>\n      <td>2</td>\n    </tr>\n  </tbody>\n</table>\n<p>84 rows × 9 columns</p>\n</div>"
     },
     "execution_count": 37,
     "metadata": {},
     "output_type": "execute_result"
    }
   ],
   "source": [
    "b_data[ b_data['floor'] == '2' ]"
   ],
   "metadata": {
    "collapsed": false,
    "pycharm": {
     "name": "#%%\n"
    }
   }
  },
  {
   "cell_type": "code",
   "execution_count": null,
   "outputs": [],
   "source": [],
   "metadata": {
    "collapsed": false,
    "pycharm": {
     "name": "#%%\n"
    }
   }
  }
 ],
 "metadata": {
  "kernelspec": {
   "display_name": "Python 3",
   "language": "python",
   "name": "python3"
  },
  "language_info": {
   "codemirror_mode": {
    "name": "ipython",
    "version": 2
   },
   "file_extension": ".py",
   "mimetype": "text/x-python",
   "name": "python",
   "nbconvert_exporter": "python",
   "pygments_lexer": "ipython2",
   "version": "2.7.6"
  }
 },
 "nbformat": 4,
 "nbformat_minor": 0
}